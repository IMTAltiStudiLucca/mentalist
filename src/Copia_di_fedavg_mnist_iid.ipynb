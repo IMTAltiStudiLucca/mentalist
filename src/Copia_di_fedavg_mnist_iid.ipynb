{
 "cells": [
  {
   "cell_type": "code",
   "execution_count": 34,
   "metadata": {
    "id": "CrJ7HwA_HVY4"
   },
   "outputs": [],
   "source": [
    "now = datetime.now()"
   ]
  },
  {
   "cell_type": "code",
   "execution_count": 35,
   "metadata": {},
   "outputs": [
    {
     "data": {
      "text/plain": [
       "'202012291445'"
      ]
     },
     "execution_count": 35,
     "metadata": {},
     "output_type": "execute_result"
    }
   ],
   "source": [
    "now.strftime(\"%Y%m%d%H%M\")"
   ]
  },
  {
   "cell_type": "code",
   "execution_count": 38,
   "metadata": {
    "id": "Xnes_py1BgpP"
   },
   "outputs": [],
   "source": [
    "runs = \"runs\"\n",
    "timestamp = now.strftime(\"%Y%m%d%H%M\") \n",
    "path = os.path.join(runs,timestamp)"
   ]
  },
  {
   "cell_type": "code",
   "execution_count": 39,
   "metadata": {},
   "outputs": [
    {
     "data": {
      "text/plain": [
       "'runs\\\\202012291445'"
      ]
     },
     "execution_count": 39,
     "metadata": {},
     "output_type": "execute_result"
    }
   ],
   "source": [
    "path"
   ]
  },
  {
   "cell_type": "markdown",
   "metadata": {
    "id": "hOOUoQP535i7"
   },
   "source": [
    "## <font color=#6B49F5> A Simple Implementation of FedAvg with PyTorch on IID Data </font> \n",
    "Please see https://towardsdatascience.com/federated-learning-a-simple-implementation-of-fedavg-federated-averaging-with-pytorch-90187c9c9577 for more details."
   ]
  },
  {
   "cell_type": "code",
   "execution_count": null,
   "metadata": {
    "colab": {
     "base_uri": "https://localhost:8080/"
    },
    "id": "BsSjYc1t3_Vm",
    "outputId": "835100fe-bb94-4aff-9c31-f96e489dedf5"
   },
   "outputs": [
    {
     "name": "stdout",
     "output_type": "stream",
     "text": [
      "Requirement already satisfied: torch in /usr/local/lib/python3.6/dist-packages (1.7.0+cu101)\n",
      "Requirement already satisfied: typing-extensions in /usr/local/lib/python3.6/dist-packages (from torch) (3.7.4.3)\n",
      "Requirement already satisfied: dataclasses in /usr/local/lib/python3.6/dist-packages (from torch) (0.8)\n",
      "Requirement already satisfied: numpy in /usr/local/lib/python3.6/dist-packages (from torch) (1.19.4)\n",
      "Requirement already satisfied: future in /usr/local/lib/python3.6/dist-packages (from torch) (0.16.0)\n"
     ]
    }
   ],
   "source": [
    "\n",
    "!pip install torch"
   ]
  },
  {
   "cell_type": "code",
   "execution_count": 1,
   "metadata": {
    "id": "ew10_SD-35jH"
   },
   "outputs": [],
   "source": [
    "import numpy as np\n",
    "import pandas as pd\n",
    "from sklearn import tree\n",
    "from sklearn.utils import shuffle\n",
    "from sklearn.metrics import accuracy_score\n",
    "from sklearn.ensemble import RandomForestClassifier\n",
    "from sklearn.model_selection import train_test_split\n",
    "import random\n",
    "import math\n",
    "#from torch.utils.tensorboard import SummaryWriter\n",
    "from matplotlib import pyplot\n",
    "\n",
    "from keras.datasets import mnist\n",
    "\n",
    "from pathlib import Path\n",
    "import requests\n",
    "import pickle\n",
    "import gzip\n",
    "\n",
    "import torch\n",
    "import math\n",
    "import torch.nn.functional as F\n",
    "from torch import nn\n",
    "from torch import optim\n",
    "import torchvision\n",
    "import torchvision.transforms as transforms\n",
    "from torch.utils.data import TensorDataset\n",
    "from torch.utils.data import DataLoader\n",
    "\n",
    "import random\n",
    "import math\n",
    "\n",
    "from datetime import datetime\n"
   ]
  },
  {
   "cell_type": "code",
   "execution_count": null,
   "metadata": {
    "colab": {
     "base_uri": "https://localhost:8080/"
    },
    "id": "Gjr-9Ct74byr",
    "outputId": "8d399211-9046-4290-fa65-f9e2f44f80f9"
   },
   "outputs": [
    {
     "name": "stdout",
     "output_type": "stream",
     "text": [
      "Downloading data from https://storage.googleapis.com/tensorflow/tf-keras-datasets/mnist.npz\n",
      "11493376/11490434 [==============================] - 0s 0us/step\n"
     ]
    }
   ],
   "source": [
    "from keras.datasets import mnist\n",
    "(train_X, train_y), (test_X, test_y) = mnist.load_data()\n",
    "\n"
   ]
  },
  {
   "cell_type": "code",
   "execution_count": null,
   "metadata": {
    "colab": {
     "base_uri": "https://localhost:8080/"
    },
    "id": "bRNUjReT0FM3",
    "outputId": "cb1f9998-6d44-4d9b-de69-ed26c185b114"
   },
   "outputs": [
    {
     "data": {
      "text/plain": [
       "(60000,)"
      ]
     },
     "execution_count": 6,
     "metadata": {
      "tags": []
     },
     "output_type": "execute_result"
    }
   ],
   "source": [
    "train_y.shape"
   ]
  },
  {
   "cell_type": "code",
   "execution_count": 2,
   "metadata": {
    "id": "8SqHsPWCHZZU"
   },
   "outputs": [],
   "source": [
    "class Net2nn(nn.Module):\n",
    "    def __init__(self):\n",
    "        super(Net2nn, self).__init__()\n",
    "        self.fc1 = nn.Linear(784, 200)\n",
    "        self.fc2 = nn.Linear(200, 200)\n",
    "        self.fc3 = nn.Linear(200, 10)\n",
    "\n",
    "    def forward(self, x):\n",
    "        x = F.relu(self.fc1(x))\n",
    "        x = F.relu(self.fc2(x))\n",
    "        x = self.fc3(x)\n",
    "        return x"
   ]
  },
  {
   "cell_type": "code",
   "execution_count": null,
   "metadata": {
    "id": "BMI8qdK5Gvzo"
   },
   "outputs": [],
   "source": [
    "setup = Setup(\"\")"
   ]
  },
  {
   "cell_type": "code",
   "execution_count": null,
   "metadata": {
    "colab": {
     "base_uri": "https://localhost:8080/"
    },
    "id": "ZL9ITKmGITMK",
    "outputId": "56007e19-319b-4c11-c16b-566bab7c263b"
   },
   "outputs": [
    {
     "data": {
      "text/plain": [
       "(12000, 784)"
      ]
     },
     "execution_count": 34,
     "metadata": {
      "tags": []
     },
     "output_type": "execute_result"
    }
   ],
   "source": [
    "setup.list_of_clients[3].x_train.shape"
   ]
  },
  {
   "cell_type": "code",
   "execution_count": null,
   "metadata": {
    "colab": {
     "base_uri": "https://localhost:8080/"
    },
    "id": "Du3-hhcWJRi2",
    "outputId": "ac540e45-051b-4dac-cef4-464a164dfabb"
   },
   "outputs": [
    {
     "data": {
      "text/plain": [
       "tensor([[-0.0147, -0.0084,  0.0076,  ...,  0.0289,  0.0034, -0.0081],\n",
       "        [-0.0240,  0.0113, -0.0147,  ...,  0.0310, -0.0228, -0.0350],\n",
       "        [-0.0256,  0.0068,  0.0195,  ...,  0.0301,  0.0057,  0.0291],\n",
       "        ...,\n",
       "        [-0.0081, -0.0106,  0.0149,  ...,  0.0098,  0.0163, -0.0146],\n",
       "        [-0.0202,  0.0233, -0.0104,  ...,  0.0229,  0.0046, -0.0109],\n",
       "        [-0.0051,  0.0031, -0.0149,  ..., -0.0255,  0.0321, -0.0307]])"
      ]
     },
     "execution_count": 19,
     "metadata": {
      "tags": []
     },
     "output_type": "execute_result"
    }
   ],
   "source": [
    "setup.server.main_model.fc1.weight.data"
   ]
  },
  {
   "cell_type": "code",
   "execution_count": null,
   "metadata": {
    "id": "X8pgyG4_sQxA"
   },
   "outputs": [],
   "source": [
    "my_x = [np.array([[1.0,2],[3,4]]),np.array([[5.,6],[7,8]])] # a list of numpy arrays\n",
    "my_y = [np.array([4.]), np.array([2.])] # another list of numpy arrays (targets)\n",
    "\n",
    "tensor_x = torch.Tensor(my_x) # transform to torch tensor\n",
    "tensor_y = torch.Tensor(my_y)\n",
    "\n",
    "my_dataset = TensorDataset(tensor_x,tensor_y) # create your datset\n",
    "my_dataloader = DataLoader(my_dataset) # create your dataloader\n"
   ]
  },
  {
   "cell_type": "code",
   "execution_count": null,
   "metadata": {
    "id": "9bDLGWjMCJOl"
   },
   "outputs": [],
   "source": [
    "setup = Setup(\"\")"
   ]
  },
  {
   "cell_type": "code",
   "execution_count": null,
   "metadata": {
    "colab": {
     "base_uri": "https://localhost:8080/"
    },
    "id": "Oqzs8ZtxBDt3",
    "outputId": "bdad4696-342c-4bc5-a48b-066191a1e9bf"
   },
   "outputs": [
    {
     "data": {
      "text/plain": [
       "torch.Size([12000, 784])"
      ]
     },
     "execution_count": 82,
     "metadata": {
      "tags": []
     },
     "output_type": "execute_result"
    }
   ],
   "source": [
    "setup.list_of_clients[0].x_train.shape"
   ]
  },
  {
   "cell_type": "code",
   "execution_count": null,
   "metadata": {
    "colab": {
     "base_uri": "https://localhost:8080/"
    },
    "id": "IURMiUGJEe1i",
    "outputId": "1400f079-ab70-4470-a09d-f74ca86d49ce"
   },
   "outputs": [
    {
     "name": "stdout",
     "output_type": "stream",
     "text": [
      "0th run of the federated learning\n",
      "Client 3 | epoch:   1 | train accuracy: 0.74150 | test accuracy: 0.90300\n",
      "Client 3 | epoch:   2 | train accuracy: 0.90358 | test accuracy: 0.92400\n",
      "Client 3 | epoch:   3 | train accuracy: 0.93133 | test accuracy: 0.94150\n",
      "Client 3 | epoch:   4 | train accuracy: 0.94675 | test accuracy: 0.93900\n",
      "Client 3 | epoch:   5 | train accuracy: 0.95808 | test accuracy: 0.95250\n",
      "Client 3 | epoch:   6 | train accuracy: 0.96842 | test accuracy: 0.95050\n",
      "Client 3 | epoch:   7 | train accuracy: 0.97467 | test accuracy: 0.95850\n",
      "Client 3 | epoch:   8 | train accuracy: 0.98050 | test accuracy: 0.95650\n",
      "Client 3 | epoch:   9 | train accuracy: 0.98483 | test accuracy: 0.95800\n",
      "Client 3 | epoch:  10 | train accuracy: 0.98825 | test accuracy: 0.96200\n",
      "Client 1 | epoch:   1 | train accuracy: 0.74450 | test accuracy: 0.88700\n",
      "Client 1 | epoch:   2 | train accuracy: 0.90850 | test accuracy: 0.91500\n",
      "Client 1 | epoch:   3 | train accuracy: 0.93083 | test accuracy: 0.92350\n",
      "Client 1 | epoch:   4 | train accuracy: 0.94800 | test accuracy: 0.93850\n",
      "Client 1 | epoch:   5 | train accuracy: 0.96008 | test accuracy: 0.94400\n",
      "Client 1 | epoch:   6 | train accuracy: 0.96950 | test accuracy: 0.94550\n",
      "Client 1 | epoch:   7 | train accuracy: 0.97658 | test accuracy: 0.94600\n",
      "Client 1 | epoch:   8 | train accuracy: 0.98058 | test accuracy: 0.95500\n",
      "Client 1 | epoch:   9 | train accuracy: 0.98633 | test accuracy: 0.95550\n",
      "Client 1 | epoch:  10 | train accuracy: 0.98908 | test accuracy: 0.95400\n",
      "Client 0 | epoch:   1 | train accuracy: 0.74700 | test accuracy: 0.90100\n",
      "Client 0 | epoch:   2 | train accuracy: 0.90775 | test accuracy: 0.91750\n",
      "Client 0 | epoch:   3 | train accuracy: 0.93333 | test accuracy: 0.93000\n",
      "Client 0 | epoch:   4 | train accuracy: 0.95025 | test accuracy: 0.93650\n",
      "Client 0 | epoch:   5 | train accuracy: 0.96100 | test accuracy: 0.95100\n",
      "Client 0 | epoch:   6 | train accuracy: 0.96833 | test accuracy: 0.94800\n",
      "Client 0 | epoch:   7 | train accuracy: 0.97550 | test accuracy: 0.95350\n",
      "Client 0 | epoch:   8 | train accuracy: 0.98075 | test accuracy: 0.94850\n",
      "Client 0 | epoch:   9 | train accuracy: 0.98658 | test accuracy: 0.93900\n",
      "Client 0 | epoch:  10 | train accuracy: 0.99150 | test accuracy: 0.94800\n",
      "Client 4 | epoch:   1 | train accuracy: 0.74508 | test accuracy: 0.90250\n",
      "Client 4 | epoch:   2 | train accuracy: 0.90867 | test accuracy: 0.92800\n",
      "Client 4 | epoch:   3 | train accuracy: 0.93217 | test accuracy: 0.94050\n",
      "Client 4 | epoch:   4 | train accuracy: 0.94658 | test accuracy: 0.94800\n",
      "Client 4 | epoch:   5 | train accuracy: 0.95825 | test accuracy: 0.95000\n",
      "Client 4 | epoch:   6 | train accuracy: 0.96867 | test accuracy: 0.95250\n",
      "Client 4 | epoch:   7 | train accuracy: 0.97542 | test accuracy: 0.95650\n",
      "Client 4 | epoch:   8 | train accuracy: 0.98017 | test accuracy: 0.96100\n",
      "Client 4 | epoch:   9 | train accuracy: 0.98492 | test accuracy: 0.96400\n",
      "Client 4 | epoch:  10 | train accuracy: 0.99025 | test accuracy: 0.96250\n",
      "Client 2 | epoch:   1 | train accuracy: 0.74458 | test accuracy: 0.87950\n",
      "Client 2 | epoch:   2 | train accuracy: 0.90742 | test accuracy: 0.92350\n",
      "Client 2 | epoch:   3 | train accuracy: 0.93333 | test accuracy: 0.90600\n",
      "Client 2 | epoch:   4 | train accuracy: 0.95008 | test accuracy: 0.92400\n",
      "Client 2 | epoch:   5 | train accuracy: 0.96225 | test accuracy: 0.94550\n",
      "Client 2 | epoch:   6 | train accuracy: 0.96775 | test accuracy: 0.94800\n",
      "Client 2 | epoch:   7 | train accuracy: 0.97542 | test accuracy: 0.94400\n",
      "Client 2 | epoch:   8 | train accuracy: 0.98017 | test accuracy: 0.95150\n",
      "Client 2 | epoch:   9 | train accuracy: 0.98317 | test accuracy: 0.95750\n",
      "Client 2 | epoch:  10 | train accuracy: 0.99008 | test accuracy: 0.95550\n"
     ]
    }
   ],
   "source": [
    "setup.run(1)"
   ]
  },
  {
   "cell_type": "code",
   "execution_count": 115,
   "metadata": {
    "id": "lukIImxRXNy0"
   },
   "outputs": [],
   "source": [
    "class Setup:\n",
    "    '''Read the dataset, instantiate the clients and the server\n",
    "       It receive in input the path to the data, and the number of clients\n",
    "    '''\n",
    "\n",
    "    def __init__(self, conf_file):\n",
    "        self.conf_file = conf_file\n",
    "        \n",
    "        self.settings = self.load(self.conf_file)\n",
    "        \n",
    "        self.data_path = self.settings['setup']['data_path']\n",
    "        self.n_clients = self.settings['setup']['n_clients']\n",
    "        self.learning_rate = self.settings['setup']['learning_rate']\n",
    "        self.num_of_epochs = self.settings['setup']['num_of_epochs']\n",
    "        self.batch_size = self.settings['setup']['batch_size']\n",
    "        self.momentum = self.settings['setup']['momentum']\n",
    "        self.random_clients = self.settings['setup']['random_clients']\n",
    "        self.saving_dir = self.settings['setup']['save_dir']\n",
    "        self.saved = False\n",
    "                \n",
    "        if \"saved\" not in self.settings.keys():\n",
    "            self.start_time = datetime.now()\n",
    "        else:\n",
    "            self.saved = True\n",
    "            self.start_time = datetime.strptime(self.settings['saved']['timestamp'],'%Y%m%d%H%M')\n",
    "    \n",
    "        timestamp = self.start_time.strftime(\"%Y%m%d%H%M\") \n",
    "        self.path = os.path.join(self.saving_dir,timestamp)\n",
    "\n",
    "        print(\"CREATING CLIENTS: \")\n",
    "        print(\"\\t\",self.path)\n",
    "        print(\"\\t\",self.saved)\n",
    "        \n",
    "        self.list_of_clients = []\n",
    "        self.X_train, self.y_train, self.X_test, self.y_test = self.__load_dataset()\n",
    "\n",
    "        self.create_clients()\n",
    "\n",
    "        self.server = Server(self.list_of_clients, self.random_clients,\n",
    "                             self.learning_rate, self.num_of_epochs, \n",
    "                             self.batch_size, self.momentum,\n",
    "                             self.saved,self.path)\n",
    "\n",
    "    def load(self,conf_file):\n",
    "        with open(conf_file) as f:\n",
    "            settings = yaml.load(f,Loader=yaml.FullLoader)\n",
    "            return settings\n",
    "        \n",
    "        \n",
    "    def run(self, federated_runs=10):\n",
    "        for i in range(federated_runs):\n",
    "            print(\"{}th run of the federated learning\".format(i))\n",
    "            self.server.training_clients()\n",
    "            self.server.update_averaged_weights()\n",
    "            self.server.send_weights()\n",
    "\n",
    "    def __load_dataset(self):\n",
    "        (X_train, y_train), (X_test, y_test) = mnist.load_data()\n",
    "        X_train = X_train.reshape(X_train.shape[0], 784)\n",
    "        X_test = X_test.reshape(X_test.shape[0], 784)\n",
    "        X_train = X_train.astype('float32')\n",
    "        X_test = X_test.astype('float32')\n",
    "        # Original data is uint8 (0-255). Scale it to range [0,1].\n",
    "        X_train /= 255\n",
    "        X_test /= 255\n",
    "\n",
    "        return X_train, y_train, X_test, y_test\n",
    "\n",
    "    def __create_iid_datasets(self):\n",
    "        # 1. randomly shuffle both train and test sets\n",
    "        X_train, y_train = shuffle(self.X_train, self.y_train, random_state=42)\n",
    "        X_test, y_test = shuffle(self.X_test, self.y_test, random_state=42)\n",
    "        # 2. split evenly both train and test sets by the number of clients\n",
    "        X_trains = np.array_split(X_train, self.n_clients)\n",
    "        y_trains = np.array_split(y_train, self.n_clients)\n",
    "        X_tests = np.array_split(X_test, self.n_clients)\n",
    "        y_tests = np.array_split(y_test, self.n_clients)\n",
    "\n",
    "        return X_trains, y_trains, X_tests, y_tests\n",
    "\n",
    "    def create_clients(self, iid=True):\n",
    "\n",
    "        if iid:\n",
    "            X_trains, y_trains, X_tests, y_tests = self.__create_iid_datasets()\n",
    "        else:\n",
    "            X_trains, y_trains, X_tests, y_tests = self.__create_non_iid_datasets()\n",
    "\n",
    "        for i in range(self.n_clients):\n",
    "            c = Client(str(i), X_trains[i], y_trains[i], X_tests[i],y_tests[i], self.learning_rate,\n",
    "                 self.num_of_epochs, self.batch_size, self.momentum,self.saved, self.path)\n",
    "            self.list_of_clients.append(c)\n",
    "\n",
    "    def add_clients(self, client):\n",
    "        self.list_of_clients.append(client)\n",
    "\n",
    "    def save_models(self):\n",
    "        self.server.save_model(self.path)\n",
    "        for c in self.list_of_clients:\n",
    "            c.save_model(self.path)\n",
    "    \n",
    "    def save(self):\n",
    "        timestamp = self.start_time.strftime(\"%Y%m%d%H%M\") \n",
    "        self.path = os.path.join(self.saving_dir,timestamp)\n",
    "        if not os.path.exists(self.path):\n",
    "            os.mkdir(self.path)\n",
    "        self.save_models()\n",
    "        self.settings['saved'] = {\"timestamp\":timestamp}\n",
    "        with open(os.path.join(self.path,'setup.yaml'),'w') as fout:\n",
    "            yaml.dump(self.settings,fout)"
   ]
  },
  {
   "cell_type": "code",
   "execution_count": 133,
   "metadata": {
    "id": "8zg4lW4sgavU"
   },
   "outputs": [],
   "source": [
    "class Server:\n",
    "    '''\n",
    "    The Server class owns the central model.\n",
    "    - It initializes the main model and it updates the weights to the clients\n",
    "    - It handles the training among the clients\n",
    "    - It receives the weights from clients and it averages them for its main\n",
    "      model updating it\n",
    "    '''\n",
    "\n",
    "    def __init__(self, list_of_clients, random_clients, \n",
    "                 learning_rate=0.01, num_of_epochs=10,\n",
    "                 batch_size=32, momentum=0.9,\n",
    "                 saved=False,path=None\n",
    "                 ):\n",
    "        \n",
    "        self.list_of_clients = list_of_clients\n",
    "        self.random_clients = random_clients\n",
    "        self.learning_rate = learning_rate\n",
    "        self.num_of_epochs = num_of_epochs\n",
    "        self.batch_size = batch_size\n",
    "        self.momentum = momentum\n",
    "\n",
    "        self.selected_clients = []\n",
    "        self.main_model = Net2nn()\n",
    "        if saved:\n",
    "            self.main_model.load_state_dict(torch.load(os.path.join(path,\"main_model\")))\n",
    "        \n",
    "        self.main_optimizer = torch.optim.SGD(\n",
    "            self.main_model.parameters(), lr=self.learning_rate, momentum=self.momentum)\n",
    "        self.main_criterion = nn.CrossEntropyLoss()\n",
    "        self.send_weights()\n",
    "\n",
    "    def send_weights(self):\n",
    "        for c in self.list_of_clients:\n",
    "            c.update_model_weights(self.main_model)\n",
    "\n",
    "    def training_clients(self):\n",
    "        self.selected_clients = random.sample(self.list_of_clients, math.floor(\n",
    "            len(self.list_of_clients)*self.random_clients))\n",
    "        for c in self.selected_clients:\n",
    "            c.call_training(self.num_of_epochs)\n",
    "\n",
    "    def get_averaged_weights(self):\n",
    "\n",
    "        fc1_mean_weight = torch.zeros(\n",
    "            size=self.list_of_clients[0].model.fc1.weight.shape)\n",
    "        fc1_mean_bias = torch.zeros(\n",
    "            size=self.list_of_clients[0].model.fc1.bias.shape)\n",
    "\n",
    "        fc2_mean_weight = torch.zeros(\n",
    "            size=self.list_of_clients[0].model.fc2.weight.shape)\n",
    "        fc2_mean_bias = torch.zeros(\n",
    "            size=self.list_of_clients[0].model.fc2.bias.shape)\n",
    "\n",
    "        fc3_mean_weight = torch.zeros(\n",
    "            size=self.list_of_clients[0].model.fc3.weight.shape)\n",
    "        fc3_mean_bias = torch.zeros(\n",
    "            size=self.list_of_clients[0].model.fc3.bias.shape)\n",
    "\n",
    "        with torch.no_grad():\n",
    "            for c in self.selected_clients:\n",
    "                print(\"GETTING WEIGHTS FOR \", c.id)\n",
    "                fc1_mean_weight += c.model.fc1.weight.data.clone()\n",
    "                fc1_mean_bias += c.model.fc1.bias.data.clone()\n",
    "\n",
    "                fc2_mean_weight += c.model.fc2.weight.data.clone()\n",
    "                fc2_mean_bias += c.model.fc2.bias.data.clone()\n",
    "\n",
    "                fc3_mean_weight += c.model.fc3.weight.data.clone()\n",
    "                fc3_mean_bias += c.model.fc3.bias.data.clone()\n",
    "\n",
    "            fc1_mean_weight = fc1_mean_weight/len(self.selected_clients)\n",
    "            fc1_mean_bias = fc1_mean_bias/len(self.selected_clients)\n",
    "\n",
    "            fc2_mean_weight = fc2_mean_weight/len(self.selected_clients)\n",
    "            fc2_mean_bias = fc2_mean_bias/len(self.selected_clients)\n",
    "\n",
    "            fc3_mean_weight = fc3_mean_weight/len(self.selected_clients)\n",
    "            fc3_mean_bias = fc3_mean_bias/len(self.selected_clients)\n",
    "\n",
    "        return fc1_mean_weight, fc1_mean_bias, fc2_mean_weight, fc2_mean_bias, fc3_mean_weight, fc3_mean_bias\n",
    "\n",
    "    def update_averaged_weights(self):\n",
    "        fc1_mean_weight, fc1_mean_bias, fc2_mean_weight, fc2_mean_bias, fc3_mean_weight, fc3_mean_bias = self.get_averaged_weights()\n",
    "        with torch.no_grad():\n",
    "            self.main_model.fc1.weight.data = fc1_mean_weight.data.clone()\n",
    "            self.main_model.fc2.weight.data = fc2_mean_weight.data.clone()\n",
    "            self.main_model.fc3.weight.data = fc3_mean_weight.data.clone()\n",
    "\n",
    "            self.main_model.fc1.bias.data = fc1_mean_bias.data.clone()\n",
    "            self.main_model.fc2.bias.data = fc2_mean_bias.data.clone()\n",
    "            self.main_model.fc3.bias.data = fc3_mean_bias.data.clone()\n",
    "\n",
    "    def predict(self, data):\n",
    "        self.main_model.eval()\n",
    "        with torch.no_grad():\n",
    "            return self.main_model(data)\n",
    "\n",
    "    def save_model(self,path):\n",
    "        out_path = os.path.join(path,\"main_model\")\n",
    "        torch.save(self.main_model.state_dict(), out_path)\n"
   ]
  },
  {
   "cell_type": "code",
   "execution_count": 123,
   "metadata": {
    "id": "cE-M70crX73F"
   },
   "outputs": [],
   "source": [
    "class Client:\n",
    "    '''A client who has its own dataset to use for training.\n",
    "       The main methods of the Client class are:\n",
    "       - Load the data\n",
    "       - Get the weights from the server\n",
    "       - Train the model\n",
    "       - Return the weights to the server\n",
    "       - Get a sample and perform a prediction with the probabilities for each class\n",
    "        '''\n",
    "\n",
    "    def __init__(self, id, x_train, y_train, x_test, y_test, learning_rate=0.01,\n",
    "                 num_of_epochs=10, batch_size=32, momentum=0.9,saved=False, path=None):\n",
    "        self.id = \"client_\" + id\n",
    "        self.learning_rate = learning_rate\n",
    "        self.momentum = momentum\n",
    "        self.batch_size = batch_size\n",
    "        # training and test can be splitted inside the client class\n",
    "        # now we are passing them while instantiate the class\n",
    "\n",
    "        x_train, y_train, x_test, y_test = map(\n",
    "            torch.tensor, (x_train, y_train, x_test, y_test))\n",
    "        y_train = y_train.type(torch.LongTensor)\n",
    "        y_test = y_test.type(torch.LongTensor)\n",
    "\n",
    "        self.x_train = x_train\n",
    "        self.y_train = y_train\n",
    "        self.x_test = x_test\n",
    "        self.y_test = y_test\n",
    "\n",
    "        self.model_name = \"model\"+self.id\n",
    "        self.model = Net2nn()\n",
    "        \n",
    "        print(\"\\t\",self.id)\n",
    "        print(\"\\t\\t\",saved)\n",
    "        print(\"\\t\\t\",path)\n",
    "        \n",
    "        if saved:\n",
    "            self.model.load_state_dict(torch.load(os.path.join(path,\"model_{}\".format(self.id))))\n",
    "\n",
    "        self.optimizer_name = \"optimizer\"+str(self.id)\n",
    "        self.optimizer_info = torch.optim.SGD(\n",
    "            self.model.parameters(), lr=self.learning_rate, momentum=self.momentum)\n",
    "\n",
    "        self.criterion_name = \"criterion\"+str(self.id)\n",
    "        self.criterion_info = nn.CrossEntropyLoss()\n",
    "\n",
    "    def update_model_weights(self, main_model):\n",
    "        with torch.no_grad():\n",
    "            self.model.fc1.weight.data = main_model.fc1.weight.data.clone()\n",
    "            self.model.fc2.weight.data = main_model.fc2.weight.data.clone()\n",
    "            self.model.fc1.bias.data = main_model.fc1.bias.data.clone()\n",
    "            self.model.fc2.bias.data = main_model.fc2.bias.data.clone()\n",
    "            self.model.fc3.bias.data = main_model.fc3.bias.data.clone()\n",
    "\n",
    "    def call_training(self, n_of_epoch):\n",
    "        train_ds = TensorDataset(self.x_train, self.y_train)\n",
    "        train_dl = DataLoader(\n",
    "            train_ds, batch_size=self.batch_size, shuffle=True)\n",
    "\n",
    "        test_ds = TensorDataset(self.x_test, self.y_test)\n",
    "        test_dl = DataLoader(test_ds, batch_size=self.batch_size * 2)\n",
    "\n",
    "        for epoch in range(n_of_epoch):\n",
    "\n",
    "            train_loss, train_accuracy = self.train(train_dl)\n",
    "            test_loss, test_accuracy = self.validation(test_dl)\n",
    "\n",
    "            print(\"Client {}\".format(self.id) + \" | epoch: {:3.0f}\".format(epoch+1) +\n",
    "                  \" | train accuracy: {:7.5f}\".format(train_accuracy) + \" | test accuracy: {:7.5f}\".format(test_accuracy))\n",
    "\n",
    "    def train(self, train_dl):\n",
    "        self.model.train()\n",
    "        train_loss = 0.0\n",
    "        correct = 0\n",
    "\n",
    "        for data, target in train_dl:\n",
    "            output = self.model(data)\n",
    "            loss = self.criterion_info(output, target)\n",
    "            self.optimizer_info.zero_grad()\n",
    "            loss.backward()\n",
    "            self.optimizer_info.step()\n",
    "\n",
    "            train_loss += loss.item()\n",
    "            prediction = output.argmax(dim=1, keepdim=True)\n",
    "            correct += prediction.eq(target.view_as(prediction)).sum().item()\n",
    "\n",
    "        return train_loss / len(train_dl), correct/len(train_dl.dataset)\n",
    "\n",
    "    def validation(self, test_dl):\n",
    "        self.model.eval()\n",
    "        test_loss = 0.0\n",
    "        correct = 0\n",
    "        with torch.no_grad():\n",
    "            for data, target in test_dl:\n",
    "                output = self.model(data)\n",
    "\n",
    "                test_loss += self.criterion_info(output, target).item()\n",
    "                prediction = output.argmax(dim=1, keepdim=True)\n",
    "                correct += prediction.eq(target.view_as(prediction)\n",
    "                                         ).sum().item()\n",
    "\n",
    "        test_loss /= len(test_dl)\n",
    "        correct /= len(test_dl.dataset)\n",
    "\n",
    "        return (test_loss, correct)\n",
    "\n",
    "    def predict(self, data):\n",
    "        self.model.eval()\n",
    "        with torch.no_grad():\n",
    "            return self.model(data)\n",
    "\n",
    "    def save_model(self,path):\n",
    "        out_path = os.path.join(path,\"model_{}\".format(self.id))\n",
    "        torch.save(self.model.state_dict(), out_path)\n"
   ]
  },
  {
   "cell_type": "code",
   "execution_count": 134,
   "metadata": {},
   "outputs": [
    {
     "name": "stdout",
     "output_type": "stream",
     "text": [
      "CREATING CLIENTS: \n",
      "\t ..\\runs\\202012291604\n",
      "\t False\n",
      "\t client_0\n",
      "\t\t False\n",
      "\t\t ..\\runs\\202012291604\n",
      "\t client_1\n",
      "\t\t False\n",
      "\t\t ..\\runs\\202012291604\n",
      "\t client_2\n",
      "\t\t False\n",
      "\t\t ..\\runs\\202012291604\n",
      "\t client_3\n",
      "\t\t False\n",
      "\t\t ..\\runs\\202012291604\n",
      "\t client_4\n",
      "\t\t False\n",
      "\t\t ..\\runs\\202012291604\n",
      "\t client_5\n",
      "\t\t False\n",
      "\t\t ..\\runs\\202012291604\n",
      "\t client_6\n",
      "\t\t False\n",
      "\t\t ..\\runs\\202012291604\n",
      "\t client_7\n",
      "\t\t False\n",
      "\t\t ..\\runs\\202012291604\n",
      "\t client_8\n",
      "\t\t False\n",
      "\t\t ..\\runs\\202012291604\n",
      "\t client_9\n",
      "\t\t False\n",
      "\t\t ..\\runs\\202012291604\n"
     ]
    }
   ],
   "source": [
    "setup = Setup('setup_example.yaml')"
   ]
  },
  {
   "cell_type": "code",
   "execution_count": 136,
   "metadata": {},
   "outputs": [
    {
     "data": {
      "text/plain": [
       "Parameter containing:\n",
       "tensor([[-0.0536, -0.0588, -0.0246,  ..., -0.0011,  0.0384, -0.0064],\n",
       "        [ 0.0054,  0.0718,  0.0294,  ..., -0.0164, -0.0239,  0.0205],\n",
       "        [ 0.0072, -0.0276, -0.0133,  ..., -0.0597,  0.0194, -0.0253],\n",
       "        ...,\n",
       "        [ 0.0792,  0.0180, -0.0587,  ...,  0.0770, -0.0079, -0.0575],\n",
       "        [-0.0279, -0.0357,  0.0528,  ...,  0.0726,  0.0526,  0.0166],\n",
       "        [ 0.0645, -0.0750,  0.0034,  ..., -0.0357, -0.0236, -0.0062]],\n",
       "       requires_grad=True)"
      ]
     },
     "execution_count": 136,
     "metadata": {},
     "output_type": "execute_result"
    }
   ],
   "source": [
    "setup.server.main_model.fc2.weight"
   ]
  },
  {
   "cell_type": "code",
   "execution_count": 137,
   "metadata": {
    "collapsed": true
   },
   "outputs": [
    {
     "name": "stdout",
     "output_type": "stream",
     "text": [
      "0th run of the federated learning\n",
      "Client client_5 | epoch:   1 | train accuracy: 0.83833 | test accuracy: 0.91100\n",
      "Client client_5 | epoch:   2 | train accuracy: 0.93033 | test accuracy: 0.93000\n",
      "Client client_5 | epoch:   3 | train accuracy: 0.94333 | test accuracy: 0.92800\n",
      "Client client_5 | epoch:   4 | train accuracy: 0.95733 | test accuracy: 0.93500\n",
      "Client client_5 | epoch:   5 | train accuracy: 0.96567 | test accuracy: 0.93700\n",
      "Client client_5 | epoch:   6 | train accuracy: 0.97450 | test accuracy: 0.93900\n",
      "Client client_5 | epoch:   7 | train accuracy: 0.97917 | test accuracy: 0.93700\n",
      "Client client_5 | epoch:   8 | train accuracy: 0.98617 | test accuracy: 0.93600\n",
      "Client client_5 | epoch:   9 | train accuracy: 0.99033 | test accuracy: 0.95400\n",
      "Client client_5 | epoch:  10 | train accuracy: 0.99200 | test accuracy: 0.95000\n",
      "Client client_9 | epoch:   1 | train accuracy: 0.85733 | test accuracy: 0.91700\n",
      "Client client_9 | epoch:   2 | train accuracy: 0.92883 | test accuracy: 0.93900\n",
      "Client client_9 | epoch:   3 | train accuracy: 0.94333 | test accuracy: 0.94100\n",
      "Client client_9 | epoch:   4 | train accuracy: 0.95650 | test accuracy: 0.94600\n",
      "Client client_9 | epoch:   5 | train accuracy: 0.96450 | test accuracy: 0.93900\n",
      "Client client_9 | epoch:   6 | train accuracy: 0.96900 | test accuracy: 0.94000\n",
      "Client client_9 | epoch:   7 | train accuracy: 0.97700 | test accuracy: 0.95400\n",
      "Client client_9 | epoch:   8 | train accuracy: 0.98350 | test accuracy: 0.95300\n",
      "Client client_9 | epoch:   9 | train accuracy: 0.98683 | test accuracy: 0.95200\n",
      "Client client_9 | epoch:  10 | train accuracy: 0.98967 | test accuracy: 0.95000\n",
      "Client client_7 | epoch:   1 | train accuracy: 0.92000 | test accuracy: 0.93700\n",
      "Client client_7 | epoch:   2 | train accuracy: 0.94917 | test accuracy: 0.93700\n",
      "Client client_7 | epoch:   3 | train accuracy: 0.96083 | test accuracy: 0.94700\n",
      "Client client_7 | epoch:   4 | train accuracy: 0.97300 | test accuracy: 0.94300\n",
      "Client client_7 | epoch:   5 | train accuracy: 0.97867 | test accuracy: 0.95400\n",
      "Client client_7 | epoch:   6 | train accuracy: 0.98333 | test accuracy: 0.95300\n",
      "Client client_7 | epoch:   7 | train accuracy: 0.99000 | test accuracy: 0.95900\n",
      "Client client_7 | epoch:   8 | train accuracy: 0.99383 | test accuracy: 0.95700\n",
      "Client client_7 | epoch:   9 | train accuracy: 0.99650 | test accuracy: 0.96000\n",
      "Client client_7 | epoch:  10 | train accuracy: 0.99867 | test accuracy: 0.95800\n",
      "Client client_1 | epoch:   1 | train accuracy: 0.85350 | test accuracy: 0.90200\n",
      "Client client_1 | epoch:   2 | train accuracy: 0.92817 | test accuracy: 0.92500\n",
      "Client client_1 | epoch:   3 | train accuracy: 0.94100 | test accuracy: 0.93500\n",
      "Client client_1 | epoch:   4 | train accuracy: 0.95233 | test accuracy: 0.93600\n",
      "Client client_1 | epoch:   5 | train accuracy: 0.96233 | test accuracy: 0.94000\n",
      "Client client_1 | epoch:   6 | train accuracy: 0.97417 | test accuracy: 0.93900\n",
      "Client client_1 | epoch:   7 | train accuracy: 0.97517 | test accuracy: 0.94800\n",
      "Client client_1 | epoch:   8 | train accuracy: 0.98283 | test accuracy: 0.94800\n",
      "Client client_1 | epoch:   9 | train accuracy: 0.98750 | test accuracy: 0.95300\n",
      "Client client_1 | epoch:  10 | train accuracy: 0.99333 | test accuracy: 0.94900\n",
      "Client client_4 | epoch:   1 | train accuracy: 0.84217 | test accuracy: 0.91600\n",
      "Client client_4 | epoch:   2 | train accuracy: 0.92450 | test accuracy: 0.91700\n",
      "Client client_4 | epoch:   3 | train accuracy: 0.93933 | test accuracy: 0.93100\n",
      "Client client_4 | epoch:   4 | train accuracy: 0.95283 | test accuracy: 0.94100\n",
      "Client client_4 | epoch:   5 | train accuracy: 0.96150 | test accuracy: 0.93600\n",
      "Client client_4 | epoch:   6 | train accuracy: 0.96850 | test accuracy: 0.94300\n",
      "Client client_4 | epoch:   7 | train accuracy: 0.97533 | test accuracy: 0.94100\n",
      "Client client_4 | epoch:   8 | train accuracy: 0.98467 | test accuracy: 0.95400\n",
      "Client client_4 | epoch:   9 | train accuracy: 0.98483 | test accuracy: 0.95300\n",
      "Client client_4 | epoch:  10 | train accuracy: 0.98900 | test accuracy: 0.95200\n",
      "GETTING WEIGHTS FOR  client_5\n",
      "GETTING WEIGHTS FOR  client_9\n",
      "GETTING WEIGHTS FOR  client_7\n",
      "GETTING WEIGHTS FOR  client_1\n",
      "GETTING WEIGHTS FOR  client_4\n"
     ]
    }
   ],
   "source": [
    "setup.run(1)"
   ]
  },
  {
   "cell_type": "code",
   "execution_count": 138,
   "metadata": {},
   "outputs": [
    {
     "data": {
      "text/plain": [
       "Parameter containing:\n",
       "tensor([[-0.0479, -0.0546, -0.0408,  ...,  0.0099,  0.0479,  0.0084],\n",
       "        [ 0.0166,  0.0715,  0.0236,  ..., -0.0168, -0.0243,  0.0265],\n",
       "        [ 0.0096, -0.0296,  0.0029,  ..., -0.0532,  0.0302, -0.0286],\n",
       "        ...,\n",
       "        [ 0.0937, -0.0062, -0.0599,  ...,  0.0872, -0.0264, -0.0721],\n",
       "        [-0.0303, -0.0392,  0.0716,  ...,  0.0943,  0.0676,  0.0151],\n",
       "        [ 0.0599, -0.0803, -0.0004,  ..., -0.0476, -0.0246, -0.0143]],\n",
       "       requires_grad=True)"
      ]
     },
     "execution_count": 138,
     "metadata": {},
     "output_type": "execute_result"
    }
   ],
   "source": [
    "setup.server.main_model.fc2.weight"
   ]
  },
  {
   "cell_type": "code",
   "execution_count": 112,
   "metadata": {},
   "outputs": [],
   "source": [
    "setup.save()"
   ]
  },
  {
   "cell_type": "code",
   "execution_count": null,
   "metadata": {},
   "outputs": [],
   "source": []
  },
  {
   "cell_type": "code",
   "execution_count": 29,
   "metadata": {},
   "outputs": [
    {
     "data": {
      "text/plain": [
       "0.9"
      ]
     },
     "execution_count": 29,
     "metadata": {},
     "output_type": "execute_result"
    }
   ],
   "source": [
    "setup.momentum"
   ]
  },
  {
   "cell_type": "code",
   "execution_count": 111,
   "metadata": {},
   "outputs": [
    {
     "name": "stdout",
     "output_type": "stream",
     "text": [
      "0th run of the federated learning\n",
      "Client client_3 | epoch:   1 | train accuracy: 0.61267 | test accuracy: 0.85700\n",
      "Client client_3 | epoch:   2 | train accuracy: 0.87333 | test accuracy: 0.89400\n",
      "Client client_3 | epoch:   3 | train accuracy: 0.90367 | test accuracy: 0.91600\n",
      "Client client_3 | epoch:   4 | train accuracy: 0.92517 | test accuracy: 0.91100\n",
      "Client client_3 | epoch:   5 | train accuracy: 0.93733 | test accuracy: 0.91500\n",
      "Client client_3 | epoch:   6 | train accuracy: 0.94900 | test accuracy: 0.92700\n",
      "Client client_3 | epoch:   7 | train accuracy: 0.95900 | test accuracy: 0.92300\n",
      "Client client_3 | epoch:   8 | train accuracy: 0.96900 | test accuracy: 0.92800\n",
      "Client client_3 | epoch:   9 | train accuracy: 0.97517 | test accuracy: 0.93500\n",
      "Client client_3 | epoch:  10 | train accuracy: 0.97983 | test accuracy: 0.94000\n",
      "Client client_9 | epoch:   1 | train accuracy: 0.60950 | test accuracy: 0.83800\n",
      "Client client_9 | epoch:   2 | train accuracy: 0.87550 | test accuracy: 0.90700\n",
      "Client client_9 | epoch:   3 | train accuracy: 0.90850 | test accuracy: 0.91900\n",
      "Client client_9 | epoch:   4 | train accuracy: 0.92650 | test accuracy: 0.90200\n",
      "Client client_9 | epoch:   5 | train accuracy: 0.94150 | test accuracy: 0.93300\n",
      "Client client_9 | epoch:   6 | train accuracy: 0.95383 | test accuracy: 0.91800\n",
      "Client client_9 | epoch:   7 | train accuracy: 0.95717 | test accuracy: 0.92800\n",
      "Client client_9 | epoch:   8 | train accuracy: 0.96800 | test accuracy: 0.92700\n",
      "Client client_9 | epoch:   9 | train accuracy: 0.97167 | test accuracy: 0.93300\n",
      "Client client_9 | epoch:  10 | train accuracy: 0.97883 | test accuracy: 0.92300\n",
      "Client client_5 | epoch:   1 | train accuracy: 0.59050 | test accuracy: 0.83000\n",
      "Client client_5 | epoch:   2 | train accuracy: 0.87550 | test accuracy: 0.89500\n",
      "Client client_5 | epoch:   3 | train accuracy: 0.90567 | test accuracy: 0.90500\n",
      "Client client_5 | epoch:   4 | train accuracy: 0.92183 | test accuracy: 0.90900\n",
      "Client client_5 | epoch:   5 | train accuracy: 0.93483 | test accuracy: 0.92100\n",
      "Client client_5 | epoch:   6 | train accuracy: 0.95100 | test accuracy: 0.91900\n",
      "Client client_5 | epoch:   7 | train accuracy: 0.95333 | test accuracy: 0.92800\n",
      "Client client_5 | epoch:   8 | train accuracy: 0.96533 | test accuracy: 0.94000\n",
      "Client client_5 | epoch:   9 | train accuracy: 0.97117 | test accuracy: 0.93100\n",
      "Client client_5 | epoch:  10 | train accuracy: 0.97800 | test accuracy: 0.93500\n",
      "Client client_4 | epoch:   1 | train accuracy: 0.60567 | test accuracy: 0.84700\n",
      "Client client_4 | epoch:   2 | train accuracy: 0.86983 | test accuracy: 0.88700\n",
      "Client client_4 | epoch:   3 | train accuracy: 0.90067 | test accuracy: 0.92000\n",
      "Client client_4 | epoch:   4 | train accuracy: 0.91567 | test accuracy: 0.90900\n",
      "Client client_4 | epoch:   5 | train accuracy: 0.93233 | test accuracy: 0.92300\n",
      "Client client_4 | epoch:   6 | train accuracy: 0.94483 | test accuracy: 0.91400\n",
      "Client client_4 | epoch:   7 | train accuracy: 0.95167 | test accuracy: 0.93000\n",
      "Client client_4 | epoch:   8 | train accuracy: 0.96283 | test accuracy: 0.93000\n",
      "Client client_4 | epoch:   9 | train accuracy: 0.96683 | test accuracy: 0.93300\n",
      "Client client_4 | epoch:  10 | train accuracy: 0.97350 | test accuracy: 0.94100\n",
      "Client client_2 | epoch:   1 | train accuracy: 0.57750 | test accuracy: 0.83900\n",
      "Client client_2 | epoch:   2 | train accuracy: 0.87683 | test accuracy: 0.88600\n",
      "Client client_2 | epoch:   3 | train accuracy: 0.90350 | test accuracy: 0.91100\n",
      "Client client_2 | epoch:   4 | train accuracy: 0.92250 | test accuracy: 0.90700\n",
      "Client client_2 | epoch:   5 | train accuracy: 0.93667 | test accuracy: 0.92600\n",
      "Client client_2 | epoch:   6 | train accuracy: 0.94417 | test accuracy: 0.91200\n",
      "Client client_2 | epoch:   7 | train accuracy: 0.95333 | test accuracy: 0.92700\n",
      "Client client_2 | epoch:   8 | train accuracy: 0.96417 | test accuracy: 0.92900\n",
      "Client client_2 | epoch:   9 | train accuracy: 0.97000 | test accuracy: 0.93000\n",
      "Client client_2 | epoch:  10 | train accuracy: 0.97450 | test accuracy: 0.93600\n"
     ]
    }
   ],
   "source": [
    "setup.run(n_of_federated_runs)"
   ]
  },
  {
   "cell_type": "code",
   "execution_count": 12,
   "metadata": {
    "collapsed": true
   },
   "outputs": [
    {
     "name": "stdout",
     "output_type": "stream",
     "text": [
      "0th run of the federated learning\n",
      "Client client_7 | epoch:   1 | train accuracy: 0.60217 | test accuracy: 0.83400\n",
      "Client client_7 | epoch:   2 | train accuracy: 0.87000 | test accuracy: 0.90000\n",
      "Client client_7 | epoch:   3 | train accuracy: 0.90333 | test accuracy: 0.91800\n",
      "Client client_7 | epoch:   4 | train accuracy: 0.92333 | test accuracy: 0.91000\n",
      "Client client_7 | epoch:   5 | train accuracy: 0.93667 | test accuracy: 0.92700\n",
      "Client client_7 | epoch:   6 | train accuracy: 0.94983 | test accuracy: 0.94400\n",
      "Client client_7 | epoch:   7 | train accuracy: 0.95800 | test accuracy: 0.94700\n",
      "Client client_7 | epoch:   8 | train accuracy: 0.96867 | test accuracy: 0.94800\n",
      "Client client_7 | epoch:   9 | train accuracy: 0.97283 | test accuracy: 0.95400\n",
      "Client client_7 | epoch:  10 | train accuracy: 0.98083 | test accuracy: 0.94500\n",
      "Client client_1 | epoch:   1 | train accuracy: 0.66083 | test accuracy: 0.84500\n",
      "Client client_1 | epoch:   2 | train accuracy: 0.87867 | test accuracy: 0.88900\n",
      "Client client_1 | epoch:   3 | train accuracy: 0.90700 | test accuracy: 0.90800\n",
      "Client client_1 | epoch:   4 | train accuracy: 0.92450 | test accuracy: 0.90600\n",
      "Client client_1 | epoch:   5 | train accuracy: 0.93700 | test accuracy: 0.91400\n",
      "Client client_1 | epoch:   6 | train accuracy: 0.94350 | test accuracy: 0.92400\n",
      "Client client_1 | epoch:   7 | train accuracy: 0.95417 | test accuracy: 0.93000\n",
      "Client client_1 | epoch:   8 | train accuracy: 0.96150 | test accuracy: 0.93200\n",
      "Client client_1 | epoch:   9 | train accuracy: 0.97150 | test accuracy: 0.92900\n",
      "Client client_1 | epoch:  10 | train accuracy: 0.97667 | test accuracy: 0.93800\n",
      "Client client_8 | epoch:   1 | train accuracy: 0.60200 | test accuracy: 0.88100\n",
      "Client client_8 | epoch:   2 | train accuracy: 0.87400 | test accuracy: 0.90300\n",
      "Client client_8 | epoch:   3 | train accuracy: 0.90067 | test accuracy: 0.92500\n",
      "Client client_8 | epoch:   4 | train accuracy: 0.92017 | test accuracy: 0.92200\n",
      "Client client_8 | epoch:   5 | train accuracy: 0.93450 | test accuracy: 0.93100\n",
      "Client client_8 | epoch:   6 | train accuracy: 0.94983 | test accuracy: 0.93300\n",
      "Client client_8 | epoch:   7 | train accuracy: 0.95783 | test accuracy: 0.93400\n",
      "Client client_8 | epoch:   8 | train accuracy: 0.96500 | test accuracy: 0.93600\n",
      "Client client_8 | epoch:   9 | train accuracy: 0.97350 | test accuracy: 0.94200\n",
      "Client client_8 | epoch:  10 | train accuracy: 0.97733 | test accuracy: 0.94600\n",
      "Client client_6 | epoch:   1 | train accuracy: 0.61350 | test accuracy: 0.81000\n",
      "Client client_6 | epoch:   2 | train accuracy: 0.86983 | test accuracy: 0.87400\n",
      "Client client_6 | epoch:   3 | train accuracy: 0.90817 | test accuracy: 0.90000\n",
      "Client client_6 | epoch:   4 | train accuracy: 0.92667 | test accuracy: 0.91400\n",
      "Client client_6 | epoch:   5 | train accuracy: 0.93533 | test accuracy: 0.91600\n",
      "Client client_6 | epoch:   6 | train accuracy: 0.94967 | test accuracy: 0.92500\n",
      "Client client_6 | epoch:   7 | train accuracy: 0.95867 | test accuracy: 0.93000\n",
      "Client client_6 | epoch:   8 | train accuracy: 0.96867 | test accuracy: 0.91800\n",
      "Client client_6 | epoch:   9 | train accuracy: 0.97467 | test accuracy: 0.93400\n",
      "Client client_6 | epoch:  10 | train accuracy: 0.98167 | test accuracy: 0.94000\n",
      "Client client_4 | epoch:   1 | train accuracy: 0.60217 | test accuracy: 0.85500\n",
      "Client client_4 | epoch:   2 | train accuracy: 0.86933 | test accuracy: 0.89500\n",
      "Client client_4 | epoch:   3 | train accuracy: 0.89867 | test accuracy: 0.91000\n",
      "Client client_4 | epoch:   4 | train accuracy: 0.91783 | test accuracy: 0.92100\n",
      "Client client_4 | epoch:   5 | train accuracy: 0.93300 | test accuracy: 0.92600\n",
      "Client client_4 | epoch:   6 | train accuracy: 0.94467 | test accuracy: 0.93300\n",
      "Client client_4 | epoch:   7 | train accuracy: 0.95717 | test accuracy: 0.93300\n",
      "Client client_4 | epoch:   8 | train accuracy: 0.96517 | test accuracy: 0.92500\n",
      "Client client_4 | epoch:   9 | train accuracy: 0.96950 | test accuracy: 0.93600\n",
      "Client client_4 | epoch:  10 | train accuracy: 0.97900 | test accuracy: 0.93300\n"
     ]
    }
   ],
   "source": [
    "data_path = \"\"\n",
    "n_clients = 10\n",
    "learning_rate = 0.01\n",
    "num_of_epochs = 10\n",
    "batch_size = 32\n",
    "momentum = 0.9\n",
    "random_clients = 0.5\n",
    "\n",
    "n_of_federated_runs = 1\n",
    "\n",
    "setup = Setup(data_path, n_clients, learning_rate,\n",
    "              num_of_epochs, batch_size, momentum, random_clients)\n",
    "setup.run(n_of_federated_runs)\n",
    "setup.save_models()"
   ]
  },
  {
   "cell_type": "code",
   "execution_count": null,
   "metadata": {},
   "outputs": [],
   "source": [
    "setup()"
   ]
  },
  {
   "cell_type": "code",
   "execution_count": 54,
   "metadata": {},
   "outputs": [],
   "source": [
    "from pathlib import Path "
   ]
  },
  {
   "cell_type": "code",
   "execution_count": 57,
   "metadata": {},
   "outputs": [],
   "source": [
    "path = Path('../runs/')"
   ]
  },
  {
   "cell_type": "code",
   "execution_count": 58,
   "metadata": {},
   "outputs": [
    {
     "name": "stdout",
     "output_type": "stream",
     "text": [
      "Yay, the file exists!\n"
     ]
    }
   ],
   "source": [
    "if not path.exists():\n",
    "    print(\"Oops, file doesn't exist!\")\n",
    "else:\n",
    "    print(\"Yay, the file exists!\")"
   ]
  },
  {
   "cell_type": "markdown",
   "metadata": {},
   "source": [
    "### Parser YAML and saver"
   ]
  },
  {
   "cell_type": "code",
   "execution_count": 13,
   "metadata": {},
   "outputs": [],
   "source": [
    "import yaml"
   ]
  },
  {
   "cell_type": "code",
   "execution_count": 83,
   "metadata": {},
   "outputs": [],
   "source": [
    "with open('../runs/202012291519/setup.yaml') as f:\n",
    "    settings = yaml.load(f,Loader=yaml.FullLoader)"
   ]
  },
  {
   "cell_type": "code",
   "execution_count": 86,
   "metadata": {},
   "outputs": [
    {
     "name": "stdout",
     "output_type": "stream",
     "text": [
      "YEA\n"
     ]
    }
   ],
   "source": [
    "if 'saved' in settings.keys():\n",
    "    print( \"YEA\")"
   ]
  },
  {
   "cell_type": "code",
   "execution_count": null,
   "metadata": {},
   "outputs": [],
   "source": []
  },
  {
   "cell_type": "code",
   "execution_count": null,
   "metadata": {},
   "outputs": [],
   "source": []
  },
  {
   "cell_type": "code",
   "execution_count": null,
   "metadata": {},
   "outputs": [],
   "source": []
  },
  {
   "cell_type": "code",
   "execution_count": null,
   "metadata": {},
   "outputs": [],
   "source": []
  },
  {
   "cell_type": "code",
   "execution_count": null,
   "metadata": {},
   "outputs": [],
   "source": []
  },
  {
   "cell_type": "code",
   "execution_count": null,
   "metadata": {},
   "outputs": [],
   "source": []
  },
  {
   "cell_type": "code",
   "execution_count": null,
   "metadata": {},
   "outputs": [],
   "source": []
  },
  {
   "cell_type": "code",
   "execution_count": null,
   "metadata": {
    "colab": {
     "base_uri": "https://localhost:8080/"
    },
    "id": "xqP5RYST4p6d",
    "outputId": "7e28e648-b53a-41af-9ea7-21306f6b6bc1"
   },
   "outputs": [
    {
     "name": "stdout",
     "output_type": "stream",
     "text": [
      "X_train: (60000, 28, 28)\n",
      "Y_train: (60000,)\n",
      "X_test:  (10000, 28, 28)\n",
      "Y_test:  (10000,)\n"
     ]
    }
   ],
   "source": [
    "print('X_train: ' + str(train_X.shape))\n",
    "print('Y_train: ' + str(train_y.shape))\n",
    "print('X_test:  '  + str(test_X.shape))\n",
    "print('Y_test:  '  + str(test_y.shape))\n"
   ]
  },
  {
   "cell_type": "code",
   "execution_count": null,
   "metadata": {
    "id": "vd87hWpV5Ekg"
   },
   "outputs": [],
   "source": [
    "X_train = train_X.reshape(60000, 784)"
   ]
  },
  {
   "cell_type": "code",
   "execution_count": null,
   "metadata": {
    "id": "4dXWnnb768d-"
   },
   "outputs": [],
   "source": []
  },
  {
   "cell_type": "code",
   "execution_count": null,
   "metadata": {
    "id": "-jxO9gz05wVL"
   },
   "outputs": [],
   "source": [
    "\n",
    "X_test  = test_X.reshape(10000, 784)"
   ]
  },
  {
   "cell_type": "code",
   "execution_count": null,
   "metadata": {
    "colab": {
     "base_uri": "https://localhost:8080/"
    },
    "id": "IX0XxAES57M7",
    "outputId": "18693f8a-aebe-4349-b4c8-9b1408d6d7ed"
   },
   "outputs": [
    {
     "data": {
      "text/plain": [
       "(60000, 784)"
      ]
     },
     "execution_count": 13,
     "metadata": {
      "tags": []
     },
     "output_type": "execute_result"
    }
   ],
   "source": [
    "X_train.shape"
   ]
  },
  {
   "cell_type": "code",
   "execution_count": null,
   "metadata": {
    "colab": {
     "base_uri": "https://localhost:8080/"
    },
    "id": "3L5fhTuC5zHD",
    "outputId": "a0d34913-0102-4a03-a02b-b0d60152d06e"
   },
   "outputs": [
    {
     "name": "stdout",
     "output_type": "stream",
     "text": [
      "Training X matrix shape (60000, 784)\n",
      "Testing X matrix shape (10000, 784)\n"
     ]
    }
   ],
   "source": [
    "X_train = X_train.astype('float32') \n",
    "X_test  = X_test.astype('float32')\n",
    "X_train /= 255 # Original data is uint8 (0-255). Scale it to range [0,1].\n",
    "X_test  /= 255\n",
    "print(\"Training X matrix shape\", X_train.shape)\n",
    "print(\"Testing X matrix shape\", X_test.shape)"
   ]
  },
  {
   "cell_type": "code",
   "execution_count": null,
   "metadata": {
    "colab": {
     "base_uri": "https://localhost:8080/"
    },
    "id": "SWCUuO6u7N7Q",
    "outputId": "cad6d60d-aa9c-49a2-b251-70119a19c5b2"
   },
   "outputs": [
    {
     "data": {
      "text/plain": [
       "(60000,)"
      ]
     },
     "execution_count": 19,
     "metadata": {
      "tags": []
     },
     "output_type": "execute_result"
    }
   ],
   "source": [
    "train_y.shape"
   ]
  },
  {
   "cell_type": "code",
   "execution_count": null,
   "metadata": {
    "id": "PzZYUwJQ6hIf"
   },
   "outputs": [],
   "source": [
    "X_train, X_val, y_train, y_val = train_test_split(X_train, train_y, test_size=10000, random_state=1) # 0.25 x 0.8 = 0.2"
   ]
  },
  {
   "cell_type": "code",
   "execution_count": null,
   "metadata": {
    "id": "KOhgq8SD7pn9"
   },
   "outputs": [],
   "source": [
    "y_test = test_y"
   ]
  },
  {
   "cell_type": "code",
   "execution_count": null,
   "metadata": {
    "colab": {
     "base_uri": "https://localhost:8080/"
    },
    "id": "Oj2VRf7e7T4y",
    "outputId": "6fc90373-edd3-4a4b-d750-d0b6912b45cf"
   },
   "outputs": [
    {
     "name": "stdout",
     "output_type": "stream",
     "text": [
      "Training X matrix shape (50000, 784)\n",
      "Testing X matrix shape (10000, 784)\n",
      "Val X matrix shape (10000, 784)\n",
      "Training y matrix shape (50000,)\n",
      "Testing y matrix shape (10000,)\n",
      "Val y matrix shape (10000,)\n"
     ]
    }
   ],
   "source": [
    "print(\"Training X matrix shape\", X_train.shape)\n",
    "print(\"Testing X matrix shape\", X_test.shape)\n",
    "print(\"Val X matrix shape\", X_val.shape)\n",
    "print(\"Training y matrix shape\", y_train.shape)\n",
    "print(\"Testing y matrix shape\", y_test.shape)\n",
    "print(\"Val y matrix shape\", y_val.shape)"
   ]
  },
  {
   "cell_type": "code",
   "execution_count": null,
   "metadata": {
    "colab": {
     "base_uri": "https://localhost:8080/",
     "height": 466
    },
    "id": "E_UWwm-c35jL",
    "outputId": "c26da6f5-d0e3-46b1-caf8-ec534211730b"
   },
   "outputs": [
    {
     "data": {
      "image/png": "[encoded data removed]",
      "text/plain": [
       "<Figure size 576x576 with 64 Axes>"
      ]
     },
     "metadata": {
      "needs_background": "light",
      "tags": []
     },
     "output_type": "display_data"
    }
   ],
   "source": [
    "fig, axes = pyplot.subplots(8,8,figsize=(8,8))\n",
    "for i in range(8):\n",
    "    for j in range(8):\n",
    "        num_index = np.random.randint(len(X_train))\n",
    "        axes[i,j].imshow(X_train[num_index].reshape((28,28)), cmap=\"gray\")\n",
    "        axes[i,j].axis(\"off\")\n",
    "pyplot.show() "
   ]
  },
  {
   "cell_type": "markdown",
   "metadata": {
    "id": "4Noh3tKE35jL"
   },
   "source": [
    "**Let's check how many of each tag are**"
   ]
  },
  {
   "cell_type": "code",
   "execution_count": null,
   "metadata": {
    "colab": {
     "base_uri": "https://localhost:8080/"
    },
    "id": "cjIcepgC35jM",
    "outputId": "e215be1c-342d-4892-f693-13d8ca49e312"
   },
   "outputs": [
    {
     "name": "stdout",
     "output_type": "stream",
     "text": [
      "0 >> train: 4971 , valid: 952 , test: 980 , total: 6903\n",
      "1 >> train: 5592 , valid: 1150 , test: 1135 , total: 7877\n",
      "2 >> train: 4980 , valid: 978 , test: 1032 , total: 6990\n",
      "3 >> train: 5102 , valid: 1029 , test: 1010 , total: 7141\n",
      "4 >> train: 4860 , valid: 982 , test: 982 , total: 6824\n",
      "5 >> train: 4505 , valid: 916 , test: 892 , total: 6313\n",
      "6 >> train: 4905 , valid: 1013 , test: 958 , total: 6876\n",
      "7 >> train: 5211 , valid: 1054 , test: 1028 , total: 7293\n",
      "8 >> train: 4891 , valid: 960 , test: 974 , total: 6825\n",
      "9 >> train: 4983 , valid: 966 , test: 1009 , total: 6958\n",
      "y_train_total= 50000\n",
      "y_valid_total= 10000\n",
      "y_test_total= 10000\n",
      "total= 70000\n"
     ]
    }
   ],
   "source": [
    "# Let's check how many of each tag are.\n",
    "y_train_total=0\n",
    "y_valid_total=0\n",
    "y_test_total=0\n",
    "total=0\n",
    "for i in range(10):\n",
    "    print(i,\">> train:\", sum(y_train==i), \", valid:\", sum(y_val==i), \n",
    "          \", test:\", sum(y_test==i), \", total:\", sum(y_train==i)+sum(y_val==i)+sum(y_test==i) )\n",
    "    y_train_total=y_train_total + sum(y_train==i)\n",
    "    y_valid_total=y_valid_total + sum(y_val==i)\n",
    "    y_test_total=y_test_total + sum(y_test==i)\n",
    "    total=total+sum(y_train==i)+sum(y_val==i)+sum(y_test==i)\n",
    "    \n",
    "print(\"y_train_total=\", y_train_total) \n",
    "print(\"y_valid_total=\", y_valid_total) \n",
    "print(\"y_test_total=\", y_test_total)\n",
    "print(\"total=\", total)"
   ]
  },
  {
   "cell_type": "code",
   "execution_count": null,
   "metadata": {
    "id": "SUkI8Phw35jM"
   },
   "outputs": [],
   "source": [
    "def split_and_shuffle_labels(y_data, seed, amount):\n",
    "    y_data=pd.DataFrame(y_data,columns=[\"labels\"])\n",
    "    y_data[\"i\"]=np.arange(len(y_data))\n",
    "    label_dict = dict()\n",
    "    for i in range(10):\n",
    "        var_name=\"label\" + str(i)\n",
    "        label_info=y_data[y_data[\"labels\"]==i]\n",
    "        np.random.seed(seed)\n",
    "        label_info=np.random.permutation(label_info)\n",
    "        label_info=label_info[0:amount]\n",
    "        label_info=pd.DataFrame(label_info, columns=[\"labels\",\"i\"])\n",
    "        label_dict.update({var_name: label_info })\n",
    "    return label_dict"
   ]
  },
  {
   "cell_type": "code",
   "execution_count": null,
   "metadata": {
    "id": "k_mKubSs35jN"
   },
   "outputs": [],
   "source": [
    "def get_iid_subsamples_indices(label_dict, number_of_samples, amount):\n",
    "    sample_dict= dict()\n",
    "    batch_size=int(math.floor(amount/number_of_samples))\n",
    "    for i in range(number_of_samples):\n",
    "        sample_name=\"sample\"+str(i)\n",
    "        dumb=pd.DataFrame()\n",
    "        for j in range(10):\n",
    "            label_name=str(\"label\")+str(j)\n",
    "            a=label_dict[label_name][i*batch_size:(i+1)*batch_size]\n",
    "            dumb=pd.concat([dumb,a], axis=0)\n",
    "        dumb.reset_index(drop=True, inplace=True)    \n",
    "        sample_dict.update({sample_name: dumb}) \n",
    "    return sample_dict"
   ]
  },
  {
   "cell_type": "code",
   "execution_count": null,
   "metadata": {
    "id": "k1JorV9Y35jN"
   },
   "outputs": [],
   "source": [
    "def create_iid_subsamples(sample_dict, x_data, y_data, x_name, y_name):\n",
    "    x_data_dict= dict()\n",
    "    y_data_dict= dict()\n",
    "    \n",
    "    for i in range(len(sample_dict)):  ### len(sample_dict)= number of samples\n",
    "        xname= x_name+str(i)\n",
    "        yname= y_name+str(i)\n",
    "        sample_name=\"sample\"+str(i)\n",
    "        \n",
    "        indices=np.sort(np.array(sample_dict[sample_name][\"i\"]))\n",
    "        \n",
    "        x_info= x_data[indices,:]\n",
    "        x_data_dict.update({xname : x_info})\n",
    "        \n",
    "        y_info= y_data[indices]\n",
    "        y_data_dict.update({yname : y_info})\n",
    "        \n",
    "    return x_data_dict, y_data_dict"
   ]
  },
  {
   "cell_type": "markdown",
   "metadata": {
    "id": "kJTcaDeV35jO"
   },
   "source": [
    "--------------------------\n",
    "### <span style=\"background-color:#F087F9\"> Classification Model </span> "
   ]
  },
  {
   "cell_type": "code",
   "execution_count": null,
   "metadata": {
    "id": "wVLmdjWMZe3E"
   },
   "outputs": [],
   "source": [
    "class Net2nn(nn.Module):\n",
    "    def __init__(self):\n",
    "        super(Net2nn, self).__init__()\n",
    "        self.fc1=nn.Linear(784,200)\n",
    "        self.fc2=nn.Linear(200,200)\n",
    "        self.fc3=nn.Linear(200,10)\n",
    "        \n",
    "    def forward(self,x):\n",
    "        x=F.relu(self.fc1(x))\n",
    "        x=F.relu(self.fc2(x))\n",
    "        x=self.fc3(x)\n",
    "        return x"
   ]
  },
  {
   "cell_type": "code",
   "execution_count": null,
   "metadata": {
    "id": "tG7Us8mx35jP"
   },
   "outputs": [],
   "source": [
    "# class Net2nn(nn.Module):   \n",
    "#     def __init__(self):\n",
    "#         super(Net2nn, self).__init__()\n",
    "\n",
    "#         self.cnn_layers = Sequential(\n",
    "#             # Defining a 2D convolution layer\n",
    "#             nn.Conv2d(1, 4, kernel_size=3, stride=1, padding=1),\n",
    "#             nn.BatchNorm2d(4),\n",
    "#             nn.ReLU(inplace=True),\n",
    "#             nn.MaxPool2d(kernel_size=2, stride=2),\n",
    "#             # Defining another 2D convolution layer\n",
    "#             nn.Conv2d(4, 4, kernel_size=3, stride=1, padding=1),\n",
    "#             nn.BatchNorm2d(4),\n",
    "#             nn.ReLU(inplace=True),\n",
    "#             nn.MaxPool2d(kernel_size=2, stride=2),\n",
    "#         )\n",
    "\n",
    "#         self.linear_layers = nn.Sequential(\n",
    "#             nn.Linear(4 * 7 * 7, 10)\n",
    "#         )\n",
    "\n",
    "#     # Defining the forward pass    \n",
    "#     def forward(self, x):\n",
    "#         x = self.cnn_layers(x)\n",
    "#         x = x.view(x.size(0), -1)\n",
    "#         x = self.linear_layers(x)\n",
    "#         return x\n"
   ]
  },
  {
   "cell_type": "code",
   "execution_count": null,
   "metadata": {
    "id": "mmvt3-L_35jP"
   },
   "outputs": [],
   "source": [
    "class WrappedDataLoader:\n",
    "    def __init__(self, dl, func):\n",
    "        self.dl = dl\n",
    "        self.func = func\n",
    "\n",
    "    def __len__(self):\n",
    "        return len(self.dl)\n",
    "\n",
    "    def __iter__(self):\n",
    "        batches = iter(self.dl)\n",
    "        for b in batches:\n",
    "            yield (self.func(*b))"
   ]
  },
  {
   "cell_type": "code",
   "execution_count": null,
   "metadata": {
    "id": "b4EmAoMn35jQ"
   },
   "outputs": [],
   "source": [
    "def train(model, train_loader, criterion, optimizer):\n",
    "    model.train()\n",
    "    train_loss = 0.0\n",
    "    correct = 0\n",
    "\n",
    "    for data, target in train_loader:\n",
    "        output = model(data)\n",
    "        loss = criterion(output, target)\n",
    "        optimizer.zero_grad()\n",
    "        loss.backward()\n",
    "        optimizer.step()\n",
    "        \n",
    "        train_loss += loss.item()\n",
    "        prediction = output.argmax(dim=1, keepdim=True)\n",
    "        correct += prediction.eq(target.view_as(prediction)).sum().item()\n",
    "        \n",
    "\n",
    "    return train_loss / len(train_loader), correct/len(train_loader.dataset)"
   ]
  },
  {
   "cell_type": "code",
   "execution_count": null,
   "metadata": {
    "id": "PIXTfzta35jQ"
   },
   "outputs": [],
   "source": [
    "def validation(model, test_loader, criterion):\n",
    "    model.eval()\n",
    "    test_loss = 0.0\n",
    "    correct = 0\n",
    "    with torch.no_grad():\n",
    "        for data, target in test_loader:\n",
    "            output = model(data)\n",
    "            \n",
    "            test_loss += criterion(output, target).item()\n",
    "            prediction = output.argmax(dim=1, keepdim=True)\n",
    "            correct += prediction.eq(target.view_as(prediction)).sum().item()\n",
    "\n",
    "    test_loss /= len(test_loader)\n",
    "    correct /= len(test_loader.dataset)\n",
    "\n",
    "    return (test_loss, correct)"
   ]
  },
  {
   "cell_type": "markdown",
   "metadata": {
    "id": "vIuEtaUV35jR"
   },
   "source": [
    "---------------------------------\n",
    "### <span style=\"background-color:#F087F9\"> Functions for Federated Averaging </span> "
   ]
  },
  {
   "cell_type": "code",
   "execution_count": null,
   "metadata": {
    "id": "Wv1mFZEc35jS"
   },
   "outputs": [],
   "source": [
    "def create_model_optimizer_criterion_dict(number_of_samples,learning_rate,momentum):\n",
    "    model_dict = dict()\n",
    "    optimizer_dict= dict()\n",
    "    criterion_dict = dict()\n",
    "    \n",
    "    for i in range(number_of_samples):\n",
    "        model_name=\"model\"+str(i)\n",
    "        model_info=Net2nn()\n",
    "        model_dict.update({model_name : model_info })\n",
    "        \n",
    "        optimizer_name=\"optimizer\"+str(i)\n",
    "        optimizer_info = torch.optim.SGD(model_info.parameters(), lr=learning_rate, momentum=momentum)\n",
    "        optimizer_dict.update({optimizer_name : optimizer_info })\n",
    "        \n",
    "        criterion_name = \"criterion\"+str(i)\n",
    "        criterion_info = nn.CrossEntropyLoss()\n",
    "        criterion_dict.update({criterion_name : criterion_info})\n",
    "        \n",
    "    return model_dict, optimizer_dict, criterion_dict "
   ]
  },
  {
   "cell_type": "code",
   "execution_count": null,
   "metadata": {
    "id": "A78w9oTK35jT"
   },
   "outputs": [],
   "source": [
    "def get_averaged_weights(model_dict, number_of_samples):\n",
    "   \n",
    "    fc1_mean_weight = torch.zeros(size=model_dict[name_of_models[0]].fc1.weight.shape)\n",
    "    fc1_mean_bias = torch.zeros(size=model_dict[name_of_models[0]].fc1.bias.shape)\n",
    "    \n",
    "    fc2_mean_weight = torch.zeros(size=model_dict[name_of_models[0]].fc2.weight.shape)\n",
    "    fc2_mean_bias = torch.zeros(size=model_dict[name_of_models[0]].fc2.bias.shape)\n",
    "    \n",
    "    fc3_mean_weight = torch.zeros(size=model_dict[name_of_models[0]].fc3.weight.shape)\n",
    "    fc3_mean_bias = torch.zeros(size=model_dict[name_of_models[0]].fc3.bias.shape)\n",
    "    \n",
    "    with torch.no_grad():\n",
    "    \n",
    "    \n",
    "        for i in range(number_of_samples):\n",
    "            fc1_mean_weight += model_dict[name_of_models[i]].fc1.weight.data.clone()\n",
    "            fc1_mean_bias += model_dict[name_of_models[i]].fc1.bias.data.clone()\n",
    "        \n",
    "            fc2_mean_weight += model_dict[name_of_models[i]].fc2.weight.data.clone()\n",
    "            fc2_mean_bias += model_dict[name_of_models[i]].fc2.bias.data.clone()\n",
    "        \n",
    "            fc3_mean_weight += model_dict[name_of_models[i]].fc3.weight.data.clone()\n",
    "            fc3_mean_bias += model_dict[name_of_models[i]].fc3.bias.data.clone()\n",
    "\n",
    "        \n",
    "        fc1_mean_weight =fc1_mean_weight/number_of_samples\n",
    "        fc1_mean_bias = fc1_mean_bias/ number_of_samples\n",
    "    \n",
    "        fc2_mean_weight =fc2_mean_weight/number_of_samples\n",
    "        fc2_mean_bias = fc2_mean_bias/ number_of_samples\n",
    "    \n",
    "        fc3_mean_weight =fc3_mean_weight/number_of_samples\n",
    "        fc3_mean_bias = fc3_mean_bias/ number_of_samples\n",
    "    \n",
    "    return fc1_mean_weight, fc1_mean_bias, fc2_mean_weight, fc2_mean_bias, fc3_mean_weight, fc3_mean_bias"
   ]
  },
  {
   "cell_type": "code",
   "execution_count": null,
   "metadata": {
    "id": "r9V1jP-s35jT"
   },
   "outputs": [],
   "source": [
    "def set_averaged_weights_as_main_model_weights_and_update_main_model(main_model,model_dict, number_of_samples):\n",
    "    fc1_mean_weight, fc1_mean_bias, fc2_mean_weight, fc2_mean_bias, fc3_mean_weight, fc3_mean_bias = get_averaged_weights(model_dict, number_of_samples=number_of_samples)\n",
    "    with torch.no_grad():\n",
    "        main_model.fc1.weight.data = fc1_mean_weight.data.clone()\n",
    "        main_model.fc2.weight.data = fc2_mean_weight.data.clone()\n",
    "        main_model.fc3.weight.data = fc3_mean_weight.data.clone()\n",
    "\n",
    "        main_model.fc1.bias.data = fc1_mean_bias.data.clone()\n",
    "        main_model.fc2.bias.data = fc2_mean_bias.data.clone()\n",
    "        main_model.fc3.bias.data = fc3_mean_bias.data.clone() \n",
    "    return main_model"
   ]
  },
  {
   "cell_type": "code",
   "execution_count": null,
   "metadata": {
    "id": "GEvX7jSo35jU"
   },
   "outputs": [],
   "source": [
    "def compare_local_and_merged_model_performance(number_of_samples):\n",
    "    accuracy_table=pd.DataFrame(data=np.zeros((number_of_samples,3)), columns=[\"sample\", \"local_ind_model\", \"merged_main_model\"])\n",
    "    for i in range (number_of_samples):\n",
    "    \n",
    "        test_ds = TensorDataset(x_test_dict[name_of_x_test_sets[i]], y_test_dict[name_of_y_test_sets[i]])\n",
    "        test_dl = DataLoader(test_ds, batch_size=batch_size * 2)\n",
    "    \n",
    "        model=model_dict[name_of_models[i]]\n",
    "        criterion=criterion_dict[name_of_criterions[i]]\n",
    "        optimizer=optimizer_dict[name_of_optimizers[i]]\n",
    "    \n",
    "        individual_loss, individual_accuracy = validation(model, test_dl, criterion)\n",
    "        main_loss, main_accuracy =validation(main_model, test_dl, main_criterion )\n",
    "    \n",
    "        accuracy_table.loc[i, \"sample\"]=\"sample \"+str(i)\n",
    "        accuracy_table.loc[i, \"local_ind_model\"] = individual_accuracy\n",
    "        accuracy_table.loc[i, \"merged_main_model\"] = main_accuracy\n",
    "\n",
    "    return accuracy_table"
   ]
  },
  {
   "cell_type": "code",
   "execution_count": null,
   "metadata": {
    "id": "eqIkW9TI35jV"
   },
   "outputs": [],
   "source": [
    "def send_main_model_to_nodes_and_update_model_dict(main_model, model_dict, number_of_samples):\n",
    "    with torch.no_grad():\n",
    "        for i in range(number_of_samples):\n",
    "\n",
    "            model_dict[name_of_models[i]].fc1.weight.data =main_model.fc1.weight.data.clone()\n",
    "            model_dict[name_of_models[i]].fc2.weight.data =main_model.fc2.weight.data.clone()\n",
    "            model_dict[name_of_models[i]].fc3.weight.data =main_model.fc3.weight.data.clone() \n",
    "            \n",
    "            model_dict[name_of_models[i]].fc1.bias.data =main_model.fc1.bias.data.clone()\n",
    "            model_dict[name_of_models[i]].fc2.bias.data =main_model.fc2.bias.data.clone()\n",
    "            model_dict[name_of_models[i]].fc3.bias.data =main_model.fc3.bias.data.clone() \n",
    "    \n",
    "    return model_dict"
   ]
  },
  {
   "cell_type": "code",
   "execution_count": null,
   "metadata": {
    "id": "2XaIvtWj35jV"
   },
   "outputs": [],
   "source": [
    "def start_train_end_node_process(number_of_samples):\n",
    "    for i in range (number_of_samples): \n",
    "\n",
    "        train_ds = TensorDataset(x_train_dict[name_of_x_train_sets[i]], y_train_dict[name_of_y_train_sets[i]])\n",
    "        train_dl = DataLoader(train_ds, batch_size=batch_size, shuffle=True)\n",
    "\n",
    "#         valid_ds = TensorDataset(x_valid_dict[name_of_x_valid_sets[i]], y_valid_dict[name_of_y_valid_sets[i]])\n",
    "#         valid_dl = DataLoader(valid_ds, batch_size=batch_size * 2)\n",
    "        \n",
    "        test_ds = TensorDataset(x_test_dict[name_of_x_test_sets[i]], y_test_dict[name_of_y_test_sets[i]])\n",
    "        test_dl = DataLoader(test_ds, batch_size= batch_size * 2)\n",
    "    \n",
    "        model=model_dict[name_of_models[i]]\n",
    "        criterion=criterion_dict[name_of_criterions[i]]\n",
    "        optimizer=optimizer_dict[name_of_optimizers[i]]\n",
    "    \n",
    "        print(\"Subset\" ,i)\n",
    "        for epoch in range(numEpoch):        \n",
    "            train_loss, train_accuracy = train(model, train_dl, criterion, optimizer)\n",
    "#             valid_loss, valid_accuracy = validation(model, valid_dl, criterion)\n",
    "            test_loss, test_accuracy = validation(model, test_dl, criterion)\n",
    "    \n",
    "            print(\"epoch: {:3.0f}\".format(epoch+1) + \" | train accuracy: {:7.5f}\".format(train_accuracy) + \" | test accuracy: {:7.5f}\".format(test_accuracy))"
   ]
  },
  {
   "cell_type": "code",
   "execution_count": null,
   "metadata": {
    "id": "WCCrKL-p35jW"
   },
   "outputs": [],
   "source": [
    "\n",
    "def start_train_end_node_process_without_print(number_of_samples):\n",
    "    for i in range (number_of_samples): \n",
    "\n",
    "        train_ds = TensorDataset(x_train_dict[name_of_x_train_sets[i]], y_train_dict[name_of_y_train_sets[i]])\n",
    "        train_dl = DataLoader(train_ds, batch_size=batch_size, shuffle=True)\n",
    "\n",
    "        test_ds = TensorDataset(x_test_dict[name_of_x_test_sets[i]], y_test_dict[name_of_y_test_sets[i]])\n",
    "        test_dl = DataLoader(test_ds, batch_size= batch_size * 2)\n",
    "    \n",
    "        model=model_dict[name_of_models[i]]\n",
    "        criterion=criterion_dict[name_of_criterions[i]]\n",
    "        optimizer=optimizer_dict[name_of_optimizers[i]]\n",
    "    \n",
    "        for epoch in range(numEpoch):        \n",
    "            train_loss, train_accuracy = train(model, train_dl, criterion, optimizer)\n",
    "            test_loss, test_accuracy = validation(model, test_dl, criterion)"
   ]
  },
  {
   "cell_type": "code",
   "execution_count": null,
   "metadata": {
    "colab": {
     "base_uri": "https://localhost:8080/"
    },
    "id": "0CgUzv8MP32Y",
    "outputId": "0958af49-523f-47cb-c74a-c1c9e4811157"
   },
   "outputs": [
    {
     "data": {
      "text/plain": [
       "torch.int64"
      ]
     },
     "execution_count": 98,
     "metadata": {
      "tags": []
     },
     "output_type": "execute_result"
    }
   ],
   "source": [
    "y_train_dict[name_of_y_train_sets[10]].dtype"
   ]
  },
  {
   "cell_type": "code",
   "execution_count": null,
   "metadata": {
    "id": "fagwoCc_PkJ2"
   },
   "outputs": [],
   "source": [
    "i = 10\n",
    "train_ds = TensorDataset(x_train_dict[name_of_x_train_sets[i]], y_train_dict[name_of_y_train_sets[i]])\n",
    "train_dl = DataLoader(train_ds, batch_size=batch_size, shuffle=True)\n",
    "\n",
    "test_ds = TensorDataset(x_test_dict[name_of_x_test_sets[i]], y_test_dict[name_of_y_test_sets[i]])\n",
    "test_dl = DataLoader(test_ds, batch_size= batch_size * 2)\n",
    "\n",
    "model=model_dict[name_of_models[i]]\n",
    "criterion=criterion_dict[name_of_criterions[i]]\n",
    "optimizer=optimizer_dict[name_of_optimizers[i]]\n",
    "\n",
    "if i<print_amount:\n",
    "    print(\"Subset\" ,i)\n",
    "    \n",
    "for epoch in range(numEpoch):\n",
    "\n",
    "    train_loss, train_accuracy = train(model, train_dl, criterion, optimizer)\n",
    "    test_loss, test_accuracy = validation(model, test_dl, criterion)\n",
    "    \n",
    "    if i<print_amount:        \n",
    "        print(\"epoch: {:3.0f}\".format(epoch+1) + \" | train accuracy: {:7.5f}\".format(train_accuracy) + \" | test accuracy: {:7.5f}\".format(test_accuracy))"
   ]
  },
  {
   "cell_type": "code",
   "execution_count": null,
   "metadata": {
    "id": "Y8ESKX6M35jX"
   },
   "outputs": [],
   "source": [
    "def start_train_end_node_process_print_some(number_of_samples, print_amount):\n",
    "    for i in range (number_of_samples): \n",
    "\n",
    "        train_ds = TensorDataset(x_train_dict[name_of_x_train_sets[i]], y_train_dict[name_of_y_train_sets[i]])\n",
    "        train_dl = DataLoader(train_ds, batch_size=batch_size, shuffle=True)\n",
    "\n",
    "        test_ds = TensorDataset(x_test_dict[name_of_x_test_sets[i]], y_test_dict[name_of_y_test_sets[i]])\n",
    "        test_dl = DataLoader(test_ds, batch_size= batch_size * 2)\n",
    "    \n",
    "        model=model_dict[name_of_models[i]]\n",
    "        criterion=criterion_dict[name_of_criterions[i]]\n",
    "        optimizer=optimizer_dict[name_of_optimizers[i]]\n",
    "    \n",
    "        if i<print_amount:\n",
    "            print(\"Subset\" ,i)\n",
    "            \n",
    "        for epoch in range(numEpoch):\n",
    "        \n",
    "            train_loss, train_accuracy = train(model, train_dl, criterion, optimizer)\n",
    "            test_loss, test_accuracy = validation(model, test_dl, criterion)\n",
    "            \n",
    "            if i<print_amount:        \n",
    "                print(\"epoch: {:3.0f}\".format(epoch+1) + \" | train accuracy: {:7.5f}\".format(train_accuracy) + \" | test accuracy: {:7.5f}\".format(test_accuracy))    "
   ]
  },
  {
   "cell_type": "code",
   "execution_count": null,
   "metadata": {
    "colab": {
     "base_uri": "https://localhost:8080/"
    },
    "id": "AyfQsI-535jX",
    "outputId": "df6ed845-f037-4f2d-dc00-3d1d0c9002d9"
   },
   "outputs": [
    {
     "name": "stderr",
     "output_type": "stream",
     "text": [
      "/usr/local/lib/python3.6/dist-packages/ipykernel_launcher.py:1: UserWarning: To copy construct from a tensor, it is recommended to use sourceTensor.clone().detach() or sourceTensor.clone().detach().requires_grad_(True), rather than torch.tensor(sourceTensor).\n",
      "  \"\"\"Entry point for launching an IPython kernel.\n"
     ]
    }
   ],
   "source": [
    "x_train, y_train, x_valid, y_valid,x_test, y_test = map(torch.tensor, (X_train, y_train, X_val, y_val, X_test, y_test))\n",
    "\n",
    "y_train = y_train.type(torch.LongTensor)\n",
    "y_valid = y_valid.type(torch.LongTensor)\n",
    "y_test = y_test.type(torch.LongTensor)\n",
    "\n",
    "number_of_samples=100\n",
    "learning_rate = 0.01\n",
    "numEpoch = 10\n",
    "batch_size = 32\n",
    "momentum = 0.9\n",
    "\n",
    "train_amount=4500\n",
    "valid_amount=900\n",
    "test_amount=900\n",
    "print_amount=3"
   ]
  },
  {
   "cell_type": "code",
   "execution_count": null,
   "metadata": {
    "colab": {
     "base_uri": "https://localhost:8080/"
    },
    "id": "MzFaO3f699O2",
    "outputId": "8c0d99c1-abe0-4562-b1d7-c8b6b8b08aea"
   },
   "outputs": [
    {
     "data": {
      "text/plain": [
       "11.11111111111111"
      ]
     },
     "execution_count": 26,
     "metadata": {
      "tags": []
     },
     "output_type": "execute_result"
    }
   ],
   "source": [
    "50000/4500"
   ]
  },
  {
   "cell_type": "markdown",
   "metadata": {
    "id": "sFkM40CT35jX"
   },
   "source": [
    "----------------\n",
    "\n",
    "### <span style=\"background-color:#F087F9\"> Let's examine what would the performance of the centralized model be if the data were not distributed to nodes at all? </span>   \n",
    "\n",
    "The model used in this example is very simple, different things can be done to improve model performance, such as using more complex models, increasing epoch or hyperparameter tuning. However, the purpose here is to compare the performance of the main model that is formed by combining the parameters of the local models trained on their own data with a centralized model that trained on all training data. In this way, we can gain insight into the capacity of federated learning.\n"
   ]
  },
  {
   "cell_type": "code",
   "execution_count": null,
   "metadata": {
    "id": "fFOlodNC35jY"
   },
   "outputs": [],
   "source": [
    "centralized_model = Net2nn()\n",
    "centralized_optimizer = torch.optim.SGD(centralized_model.parameters(), lr=0.01, momentum=0.9)\n",
    "centralized_criterion = nn.CrossEntropyLoss()"
   ]
  },
  {
   "cell_type": "code",
   "execution_count": null,
   "metadata": {
    "id": "p6FYygmG35jY"
   },
   "outputs": [],
   "source": [
    "train_ds = TensorDataset(x_train, y_train)\n",
    "train_dl = DataLoader(train_ds, batch_size=batch_size, shuffle=True)\n",
    "\n",
    "valid_ds = TensorDataset(x_valid, y_valid)\n",
    "valid_dl = DataLoader(valid_ds, batch_size=batch_size * 2)\n",
    "\n",
    "test_ds = TensorDataset(x_test, y_test)\n",
    "test_dl = DataLoader(test_ds, batch_size=batch_size * 2)"
   ]
  },
  {
   "cell_type": "code",
   "execution_count": null,
   "metadata": {
    "colab": {
     "base_uri": "https://localhost:8080/"
    },
    "id": "NxC04ldN35jY",
    "outputId": "9e7bd21e-fa9e-475f-c827-693bdde80589"
   },
   "outputs": [
    {
     "name": "stdout",
     "output_type": "stream",
     "text": [
      "------ Centralized Model ------\n",
      "epoch:   1 | train accuracy:  0.9986 | test accuracy:  0.9793\n",
      "epoch:   2 | train accuracy:  0.9990 | test accuracy:  0.9795\n",
      "epoch:   3 | train accuracy:  0.9997 | test accuracy:  0.9809\n",
      "epoch:   4 | train accuracy:  0.9998 | test accuracy:  0.9808\n",
      "epoch:   5 | train accuracy:  0.9999 | test accuracy:  0.9816\n",
      "epoch:   6 | train accuracy:  1.0000 | test accuracy:  0.9814\n",
      "epoch:   7 | train accuracy:  1.0000 | test accuracy:  0.9815\n",
      "epoch:   8 | train accuracy:  1.0000 | test accuracy:  0.9815\n",
      "epoch:   9 | train accuracy:  1.0000 | test accuracy:  0.9810\n",
      "epoch:  10 | train accuracy:  1.0000 | test accuracy:  0.9812\n",
      "------ Training finished ------\n"
     ]
    }
   ],
   "source": [
    "print(\"------ Centralized Model ------\")\n",
    "for epoch in range(numEpoch):\n",
    "    central_train_loss, central_train_accuracy = train(centralized_model, train_dl, centralized_criterion, centralized_optimizer)\n",
    "    central_test_loss, central_test_accuracy = validation(centralized_model, test_dl, centralized_criterion)\n",
    "    \n",
    "    print(\"epoch: {:3.0f}\".format(epoch+1) + \" | train accuracy: {:7.4f}\".format(central_train_accuracy) + \" | test accuracy: {:7.4f}\".format(central_test_accuracy))\n",
    "\n",
    "print(\"------ Training finished ------\")"
   ]
  },
  {
   "cell_type": "markdown",
   "metadata": {
    "id": "UnGLUs1335jZ"
   },
   "source": [
    "\n",
    "----------------\n",
    "-----------------\n",
    "**Data is distributed to nodes**\n",
    "\n",
    "<!-- ### <span style=\"background-color:#F087F9\"> Datanın nodelara dağıtılması </span>    -->"
   ]
  },
  {
   "cell_type": "code",
   "execution_count": null,
   "metadata": {
    "colab": {
     "base_uri": "https://localhost:8080/"
    },
    "id": "ajXGFPZJFATp",
    "outputId": "dcaba4b7-3a6c-4746-a9f9-99bc4e3200e0"
   },
   "outputs": [
    {
     "data": {
      "text/plain": [
       "<torch.utils.data.dataloader.DataLoader at 0x7f627c0d3a90>"
      ]
     },
     "execution_count": 158,
     "metadata": {
      "tags": []
     },
     "output_type": "execute_result"
    }
   ],
   "source": [
    "valid_dl."
   ]
  },
  {
   "cell_type": "code",
   "execution_count": null,
   "metadata": {
    "colab": {
     "base_uri": "https://localhost:8080/"
    },
    "id": "kvLcGEgWBrF5",
    "outputId": "3b72f4b1-9708-4477-83ad-e3ac08256aac"
   },
   "outputs": [
    {
     "name": "stdout",
     "output_type": "stream",
     "text": [
      "2 3\n"
     ]
    }
   ],
   "source": [
    "centralized_model.eval()\n",
    "\n",
    "with torch.no_grad():\n",
    "  for data, target in valid_dl:\n",
    "    output = centralized_model(data) \n",
    "    predictions = output.argmax(dim=1, keepdim=True)\n",
    "    for a,b in zip(predictions,target):\n",
    "      if a.item() != b.item():\n",
    "        print(a.item(),b.item())\n",
    "    break"
   ]
  },
  {
   "cell_type": "code",
   "execution_count": null,
   "metadata": {
    "colab": {
     "base_uri": "https://localhost:8080/"
    },
    "id": "Ms-XLQEhChX2",
    "outputId": "21bfdfb5-ffaa-42db-8b24-d61238bd9a80"
   },
   "outputs": [
    {
     "data": {
      "text/plain": [
       "tensor([[-7.2276e+00, -2.3302e+00,  5.7924e+00,  3.0447e+01, -1.9727e+01,\n",
       "          5.5094e+00, -1.9829e+01,  1.1468e+00,  5.1777e+00,  2.4399e-01],\n",
       "        [-5.8963e+00,  7.2713e+00,  3.0742e+01,  5.4823e+00, -1.5012e+01,\n",
       "         -1.2790e+01, -6.9552e-01,  1.2813e+01, -2.9695e+00, -2.0825e+01],\n",
       "        [ 2.6218e+00, -9.1090e+00,  1.8607e+00, -8.5736e+00,  2.4182e+00,\n",
       "         -5.0218e+00, -1.1260e+01,  2.3907e+01, -8.3308e+00,  1.0828e+01],\n",
       "        [-7.0610e+00, -4.1589e+00,  2.4149e+00,  5.9527e+00, -6.1239e+00,\n",
       "         -1.8943e+00, -8.6573e+00, -5.4855e+00,  2.5114e+01,  1.0185e+00],\n",
       "        [-1.1499e+01,  6.8759e+00,  2.6537e+01,  5.8371e+00, -8.0080e+00,\n",
       "         -2.3157e+00, -3.6150e+00,  4.3953e+00, -4.6042e+00, -1.4256e+01],\n",
       "        [-9.8228e+00, -2.3242e+00,  3.4766e+00,  3.1020e+01, -1.6621e+01,\n",
       "          2.4626e+00, -1.9890e+01,  2.0016e+00,  6.4451e+00,  2.5534e+00],\n",
       "        [-1.0435e+01,  8.4608e+00, -7.4585e+00, -5.8629e-01, -2.4167e+00,\n",
       "          1.3079e+01,  2.7749e+00, -7.3012e+00,  5.1268e+00, -1.7749e+00],\n",
       "        [-2.6011e+00,  8.0381e+00,  2.8011e+01,  2.2365e+00, -1.9393e+01,\n",
       "         -6.8313e+00,  9.5523e-01,  2.9367e+00,  2.1568e+00, -1.6101e+01],\n",
       "        [-5.8089e+00, -5.4355e+00,  1.8968e+00,  3.1579e+00, -5.7779e+00,\n",
       "         -2.8050e+00, -9.9326e+00, -6.5964e+00,  2.5718e+01,  6.7137e+00],\n",
       "        [-7.2841e+00,  2.2627e+00, -8.8476e+00, -4.3995e+00,  7.9862e+00,\n",
       "          5.9380e-01, -1.3953e+01,  5.1003e+00,  7.7742e-01,  1.8344e+01],\n",
       "        [-1.5421e+01,  2.7363e+00, -3.5446e+00,  4.2176e+01, -2.2940e+01,\n",
       "          9.2835e+00, -2.7864e+01,  5.7265e-01,  4.0241e+00,  9.3259e+00],\n",
       "        [ 5.1782e-01, -1.1920e+01, -1.0229e+00,  7.3959e+00, -3.1524e+00,\n",
       "         -1.7903e+00, -2.5910e+01,  1.3218e+01, -2.0799e+00,  2.4368e+01],\n",
       "        [-3.8712e+00,  1.8484e+01,  7.3777e-01, -3.0378e-01, -3.0937e+00,\n",
       "         -6.7160e+00, -2.8275e-01,  6.4726e-01,  4.6707e+00, -9.3654e+00],\n",
       "        [-4.7200e+00, -1.8566e+00,  2.7047e+01,  5.6334e+00,  5.9591e+00,\n",
       "         -9.7889e+00, -3.8474e+00, -5.2951e+00, -3.1999e+00, -1.0489e+01],\n",
       "        [-3.7354e+00,  1.4225e-01,  3.0325e+00, -1.2029e+00, -5.3173e+00,\n",
       "         -4.9948e+00, -1.8457e+01,  3.0866e+01, -4.8162e+00,  4.6422e+00],\n",
       "        [-7.0206e+00,  8.3628e+00,  2.8111e+01,  8.8113e+00, -1.9211e+01,\n",
       "         -1.1666e+01, -1.1525e+01,  5.3985e+00,  6.4059e+00, -7.7402e+00],\n",
       "        [-1.4442e+01, -5.9527e+00,  2.5270e+00,  4.0716e+00, -9.3323e-01,\n",
       "          3.6291e+00, -6.2243e+00, -9.4746e+00,  2.7575e+01, -4.6465e-01],\n",
       "        [-5.4290e+00,  2.0518e+01,  1.5805e+00, -3.6751e+00,  7.3263e+00,\n",
       "         -1.4587e+01, -7.7388e+00,  4.1167e+00,  4.0225e+00, -4.6869e+00],\n",
       "        [-3.1788e+00,  6.8438e-01,  2.1708e+01,  1.9703e+01, -2.7556e+01,\n",
       "         -7.8990e+00, -1.9714e+01,  8.4349e+00,  1.0161e+01, -2.0383e+00],\n",
       "        [-5.3094e+00, -4.6354e+00,  1.1636e+00,  2.7392e+01, -1.1921e+01,\n",
       "          4.4282e+00, -2.4875e+01, -1.1651e+01,  7.9666e+00,  1.6605e+01],\n",
       "        [-8.8359e+00,  9.4943e-01, -3.7674e-01,  2.7382e+01, -1.3107e+01,\n",
       "          1.0739e+01, -1.8276e+01, -3.6512e+00,  2.1508e+00,  1.7984e+00],\n",
       "        [-1.0964e+01, -4.7337e+00,  4.3724e+00,  1.2347e+01, -4.9799e+00,\n",
       "         -9.9648e+00, -2.2436e+01,  2.0703e+01,  6.5223e+00,  1.0314e+01],\n",
       "        [-1.3278e+01,  2.1437e+01, -1.5067e+00,  2.1311e+00, -1.3404e+00,\n",
       "         -7.3979e+00, -4.2636e+00,  6.2915e+00,  2.4764e+00, -5.4324e+00],\n",
       "        [-1.5981e+01, -1.5917e+00, -5.5419e+00, -4.8407e+00,  2.9514e+01,\n",
       "         -2.8149e+00, -1.1328e+01,  3.0097e+00,  5.7515e-01,  8.6490e+00],\n",
       "        [-8.8818e+00, -2.5854e+00, -1.5406e+01,  5.6514e+00, -8.9581e+00,\n",
       "          3.4568e+01, -3.7435e-01, -1.5335e+01,  5.9169e-02,  1.0720e+01],\n",
       "        [-7.9806e+00, -1.0364e+01, -1.8774e+00,  6.4363e+00, -2.6870e+00,\n",
       "          3.7583e+00, -1.2602e+01, -3.4447e+00,  2.3902e+01,  5.6412e+00],\n",
       "        [-1.0592e+01,  1.9194e+01,  2.2915e-01, -3.4936e+00,  3.8039e+00,\n",
       "         -6.2191e+00, -5.5881e+00,  7.3992e+00, -8.7055e-01, -4.2209e+00],\n",
       "        [-9.1724e+00, -6.2558e-02,  7.5491e+00,  2.5347e+01, -1.8843e+01,\n",
       "          6.2176e+00, -8.8977e+00, -8.0545e+00,  7.8366e+00, -4.2330e+00],\n",
       "        [-9.7663e+00,  1.2422e+01,  3.2628e+01,  5.9484e+00, -1.7597e+01,\n",
       "         -1.1262e+01, -5.7990e+00,  9.6118e+00, -9.0134e-03, -1.8028e+01],\n",
       "        [ 1.1748e+01, -1.7832e+01, -1.5862e+00, -1.3910e+01,  7.3012e+00,\n",
       "         -1.2376e+01, -7.6675e+00,  9.5485e+00,  9.2715e-01,  2.4920e+01],\n",
       "        [ 7.7885e-01,  8.2303e-01,  1.1085e-01, -5.4646e+00, -3.7587e+00,\n",
       "         -1.0041e+00,  2.9342e+01, -8.9940e+00,  1.1862e+00, -1.4716e+01],\n",
       "        [-2.1687e+00, -2.7450e+00, -4.6524e+00, -7.5539e+00,  1.4493e+01,\n",
       "         -3.0393e+00,  4.4739e-01, -1.0881e+00, -2.0151e+00,  8.4042e+00],\n",
       "        [ 4.5180e+00, -1.7842e+00, -8.0218e+00, -8.4484e+00,  7.4277e-02,\n",
       "         -1.3296e+00,  2.4307e+01, -4.9644e+00,  3.8217e-01, -5.2941e+00],\n",
       "        [-6.7022e+00,  1.1458e+01,  2.8412e+01,  8.4608e+00, -2.0789e+01,\n",
       "         -8.3444e+00, -6.2919e+00,  6.8026e+00, -2.7086e+00, -1.1341e+01],\n",
       "        [ 4.3211e+00,  4.0520e-01,  5.3049e+00, -4.3967e+00, -7.7248e+00,\n",
       "          1.0075e+00,  4.7621e+00, -9.8882e+00,  9.9092e+00, -3.4660e+00],\n",
       "        [-1.2464e+01, -1.5624e+00,  1.6106e+00,  3.2925e+01, -1.3803e+01,\n",
       "          3.0468e+00, -2.4592e+01, -6.3740e-01,  5.3210e+00,  9.7263e+00],\n",
       "        [-3.0700e+00,  2.1990e-01,  4.2016e+00, -6.5313e+00, -4.7386e+00,\n",
       "          8.2867e-01,  3.1395e+01, -1.3467e+01,  1.6566e+00, -1.2110e+01],\n",
       "        [ 3.2814e+01, -1.0058e+01,  5.2461e+00, -1.2085e+01, -6.7670e+00,\n",
       "         -1.0659e+01,  5.7546e+00, -5.9578e-02, -1.0093e+01,  1.9018e+00],\n",
       "        [-7.5264e+00, -1.3692e+00,  4.7003e+00,  2.5572e+01, -1.1476e+01,\n",
       "          3.1211e+00, -2.0880e+01, -6.4350e+00,  9.5324e+00,  3.7611e+00],\n",
       "        [ 3.7893e+00, -4.6463e+00, -1.6335e+00, -1.6599e+01,  9.0226e+00,\n",
       "         -2.6366e+00,  2.0308e+01, -1.4153e+00,  7.6453e-02, -6.7502e+00],\n",
       "        [-1.5144e+01,  1.0984e+00,  3.0279e-01,  2.0497e+01,  2.3165e-01,\n",
       "          9.9994e+00, -7.0054e+00, -3.9681e+00, -1.5833e+00, -6.4791e+00],\n",
       "        [ 3.0914e+01, -1.1289e+01,  1.0746e+00, -1.3754e+01, -1.5216e+01,\n",
       "          2.1386e+00,  7.9000e+00,  4.1106e+00, -1.0582e+01,  2.0816e+00],\n",
       "        [-1.1906e+01, -2.3478e+00,  1.3947e+00,  3.6499e+01, -1.3511e+01,\n",
       "          7.7358e+00, -2.5671e+01, -3.2176e+00,  2.8152e+00,  6.2341e+00],\n",
       "        [-1.1718e+01,  1.7296e+01,  5.4283e+00, -1.3851e+00,  4.5777e+00,\n",
       "         -8.8446e+00, -7.4241e+00,  4.4214e+00,  2.4250e+00, -4.3126e+00],\n",
       "        [ 7.3131e+00, -2.8224e+00, -4.5912e+00, -5.5217e+00, -7.3515e+00,\n",
       "          3.3379e+00,  2.6708e+01, -8.9755e+00,  1.9929e+00, -1.0817e+01],\n",
       "        [ 3.5878e-01,  4.1931e-01, -6.8052e-01, -8.2520e+00,  8.9079e+00,\n",
       "         -2.3865e+00,  8.4472e+00, -3.0015e+00, -5.1465e+00,  1.2114e+00],\n",
       "        [-9.3779e+00, -6.6542e-01, -8.6577e+00,  1.0493e+00,  8.2487e+00,\n",
       "         -7.5862e-01, -1.7842e+01,  7.3115e-01,  3.7741e+00,  2.4753e+01],\n",
       "        [-1.7501e+00,  3.0170e+00,  1.2278e+01, -2.1422e+00, -1.0658e+00,\n",
       "          3.5623e+00,  2.3087e+01, -1.0096e+01, -7.9598e+00, -2.1174e+01],\n",
       "        [ 5.3845e-01,  6.3295e-01, -1.7200e+00, -3.4265e+00,  1.0644e+01,\n",
       "         -1.1974e+00, -7.4449e+00, -1.7500e+00, -7.5944e+00,  1.2055e+01],\n",
       "        [ 2.6392e+00, -1.3275e+00,  3.8712e-01, -1.2961e+01,  1.0736e+01,\n",
       "         -7.0144e+00,  1.8523e+01,  4.0933e-01, -4.7176e+00, -7.2556e+00],\n",
       "        [ 2.3923e+01, -6.4021e+00,  2.3006e+00, -9.4404e+00, -1.2928e+01,\n",
       "          4.8380e+00,  9.2612e+00, -3.6575e+00, -7.0300e+00, -2.6865e+00],\n",
       "        [-1.0035e+01,  5.0935e+00, -1.4207e+01, -6.1300e-01,  1.1869e+01,\n",
       "         -2.9184e+00, -1.8607e+01, -6.9157e-01,  5.7831e+00,  2.5701e+01],\n",
       "        [-1.0733e+01,  3.8267e+00,  6.4116e+00,  3.1199e+01, -1.7468e+01,\n",
       "          1.0354e+01, -1.5236e+01, -7.7741e+00,  3.7280e+00, -6.3772e+00],\n",
       "        [ 2.7881e+01, -1.4081e+01,  2.6854e+00, -1.1861e+01, -1.3194e+01,\n",
       "          3.3022e-01, -2.4581e+00,  6.6052e+00, -2.9959e+00,  5.2128e+00],\n",
       "        [-3.9955e+00, -5.9552e+00,  4.1764e+00,  1.2662e+01, -1.2001e+01,\n",
       "         -4.2693e+00, -1.4630e+01, -8.1672e+00,  2.8092e+01,  4.3779e+00],\n",
       "        [-7.0910e+00, -9.4840e+00,  5.4496e-01,  3.0034e+00, -7.9877e+00,\n",
       "          2.7318e+00, -1.0084e+01, -7.2749e+00,  2.9148e+01,  7.5785e+00],\n",
       "        [ 6.5321e-03, -9.2215e+00, -2.1328e+00, -6.4197e+00,  2.1323e+01,\n",
       "         -4.7701e-01, -4.4545e+00,  2.4683e+00, -6.2125e+00,  5.4179e+00],\n",
       "        [-5.6401e+00, -4.2924e+00,  1.3313e-01, -1.4783e+00, -1.2548e+01,\n",
       "          1.1610e+01,  1.9708e+01, -2.0296e+01,  1.3843e+01, -6.8681e-01],\n",
       "        [-8.7668e+00, -2.6841e+00, -3.9221e+00,  1.1682e+01, -5.7223e+00,\n",
       "          1.2535e+01, -6.9738e+00, -3.9907e+00,  1.5077e+00,  5.6746e+00],\n",
       "        [-1.1069e+01, -3.8944e+00,  5.9289e+00,  3.7935e+01, -1.9787e+01,\n",
       "         -1.6105e-01, -2.8286e+01,  5.8744e+00,  4.4604e+00,  7.7476e+00],\n",
       "        [-9.0862e+00, -1.1144e+01,  6.7904e-01,  7.3019e+00, -4.2620e+00,\n",
       "         -2.3588e+00, -6.1397e+00, -7.2420e+00,  2.6022e+01,  7.8398e+00],\n",
       "        [-1.5184e+00, -2.4274e+00,  1.5915e-01, -5.9994e+00,  1.0353e+01,\n",
       "         -4.1774e+00,  1.4620e+01, -4.8130e+00, -6.3549e+00, -1.3492e+00],\n",
       "        [-1.0754e+01,  3.2936e+00,  4.9457e+00,  1.0617e+01, -1.2302e+01,\n",
       "          1.0525e+00, -1.5487e+01,  1.3698e+01, -2.3980e+00,  7.1057e+00],\n",
       "        [ 5.8915e+00, -1.0794e+01, -5.9320e+00, -9.9675e+00, -1.9422e+00,\n",
       "          1.1787e+01,  1.5498e+01, -4.3335e+00,  1.0189e+01, -1.0577e+01]])"
      ]
     },
     "execution_count": 155,
     "metadata": {
      "tags": []
     },
     "output_type": "execute_result"
    }
   ],
   "source": [
    "full_output[0]"
   ]
  },
  {
   "cell_type": "code",
   "execution_count": null,
   "metadata": {
    "id": "6DBlTPruAdZ-"
   },
   "outputs": [],
   "source": [
    "label_dict_train=split_and_shuffle_labels(y_data=y_train, seed=1, amount=train_amount) \n"
   ]
  },
  {
   "cell_type": "code",
   "execution_count": null,
   "metadata": {
    "colab": {
     "base_uri": "https://localhost:8080/",
     "height": 355
    },
    "id": "g20jFOPfAfER",
    "outputId": "05439b3d-2c5a-482e-e58e-99c54ee6ab46"
   },
   "outputs": [
    {
     "data": {
      "text/html": [
       "<div>\n",
       "<style scoped>\n",
       "    .dataframe tbody tr th:only-of-type {\n",
       "        vertical-align: middle;\n",
       "    }\n",
       "\n",
       "    .dataframe tbody tr th {\n",
       "        vertical-align: top;\n",
       "    }\n",
       "\n",
       "    .dataframe thead th {\n",
       "        text-align: right;\n",
       "    }\n",
       "</style>\n",
       "<table border=\"1\" class=\"dataframe\">\n",
       "  <thead>\n",
       "    <tr style=\"text-align: right;\">\n",
       "      <th></th>\n",
       "      <th>labels</th>\n",
       "      <th>i</th>\n",
       "    </tr>\n",
       "  </thead>\n",
       "  <tbody>\n",
       "    <tr>\n",
       "      <th>1</th>\n",
       "      <td>0</td>\n",
       "      <td>46399</td>\n",
       "    </tr>\n",
       "    <tr>\n",
       "      <th>2</th>\n",
       "      <td>0</td>\n",
       "      <td>46207</td>\n",
       "    </tr>\n",
       "    <tr>\n",
       "      <th>3</th>\n",
       "      <td>0</td>\n",
       "      <td>42130</td>\n",
       "    </tr>\n",
       "    <tr>\n",
       "      <th>4</th>\n",
       "      <td>0</td>\n",
       "      <td>44287</td>\n",
       "    </tr>\n",
       "    <tr>\n",
       "      <th>5</th>\n",
       "      <td>0</td>\n",
       "      <td>12156</td>\n",
       "    </tr>\n",
       "    <tr>\n",
       "      <th>6</th>\n",
       "      <td>0</td>\n",
       "      <td>42700</td>\n",
       "    </tr>\n",
       "    <tr>\n",
       "      <th>7</th>\n",
       "      <td>0</td>\n",
       "      <td>35076</td>\n",
       "    </tr>\n",
       "    <tr>\n",
       "      <th>8</th>\n",
       "      <td>0</td>\n",
       "      <td>44988</td>\n",
       "    </tr>\n",
       "    <tr>\n",
       "      <th>9</th>\n",
       "      <td>0</td>\n",
       "      <td>34844</td>\n",
       "    </tr>\n",
       "    <tr>\n",
       "      <th>10</th>\n",
       "      <td>0</td>\n",
       "      <td>7519</td>\n",
       "    </tr>\n",
       "  </tbody>\n",
       "</table>\n",
       "</div>"
      ],
      "text/plain": [
       "    labels      i\n",
       "1        0  46399\n",
       "2        0  46207\n",
       "3        0  42130\n",
       "4        0  44287\n",
       "5        0  12156\n",
       "6        0  42700\n",
       "7        0  35076\n",
       "8        0  44988\n",
       "9        0  34844\n",
       "10       0   7519"
      ]
     },
     "execution_count": 36,
     "metadata": {
      "tags": []
     },
     "output_type": "execute_result"
    }
   ],
   "source": [
    "label_dict_train['label0'].loc[1:10,:]"
   ]
  },
  {
   "cell_type": "code",
   "execution_count": null,
   "metadata": {
    "id": "DNz4LH8KC0Cn"
   },
   "outputs": [],
   "source": [
    "sample_dict_train=get_iid_subsamples_indices(label_dict=label_dict_train, number_of_samples=number_of_samples, amount=train_amount)"
   ]
  },
  {
   "cell_type": "code",
   "execution_count": null,
   "metadata": {
    "id": "iQh667OsC5qN"
   },
   "outputs": [],
   "source": [
    "d = sample_dict_train['sample0']"
   ]
  },
  {
   "cell_type": "code",
   "execution_count": null,
   "metadata": {
    "colab": {
     "base_uri": "https://localhost:8080/"
    },
    "id": "TeOf1U-LDkFt",
    "outputId": "60dc559c-2dc6-4bc7-a006-dd4560f102db"
   },
   "outputs": [
    {
     "data": {
      "text/plain": [
       "(45, 2)"
      ]
     },
     "execution_count": 43,
     "metadata": {
      "tags": []
     },
     "output_type": "execute_result"
    }
   ],
   "source": [
    "\n",
    "d[d['labels'] == 0].shape"
   ]
  },
  {
   "cell_type": "code",
   "execution_count": null,
   "metadata": {
    "id": "3VKYYFRBEjYk"
   },
   "outputs": [],
   "source": [
    "x_train_dict, y_train_dict = create_iid_subsamples(sample_dict=sample_dict_train, x_data=x_train, y_data=y_train, x_name=\"x_train\", y_name=\"y_train\")\n"
   ]
  },
  {
   "cell_type": "code",
   "execution_count": null,
   "metadata": {
    "colab": {
     "base_uri": "https://localhost:8080/"
    },
    "id": "2CormZpxElZu",
    "outputId": "5fffed19-fdaf-4f93-e36b-e252dcc2727f"
   },
   "outputs": [
    {
     "data": {
      "text/plain": [
       "dict_keys(['x_train0', 'x_train1', 'x_train2', 'x_train3', 'x_train4', 'x_train5', 'x_train6', 'x_train7', 'x_train8', 'x_train9', 'x_train10', 'x_train11', 'x_train12', 'x_train13', 'x_train14', 'x_train15', 'x_train16', 'x_train17', 'x_train18', 'x_train19', 'x_train20', 'x_train21', 'x_train22', 'x_train23', 'x_train24', 'x_train25', 'x_train26', 'x_train27', 'x_train28', 'x_train29', 'x_train30', 'x_train31', 'x_train32', 'x_train33', 'x_train34', 'x_train35', 'x_train36', 'x_train37', 'x_train38', 'x_train39', 'x_train40', 'x_train41', 'x_train42', 'x_train43', 'x_train44', 'x_train45', 'x_train46', 'x_train47', 'x_train48', 'x_train49', 'x_train50', 'x_train51', 'x_train52', 'x_train53', 'x_train54', 'x_train55', 'x_train56', 'x_train57', 'x_train58', 'x_train59', 'x_train60', 'x_train61', 'x_train62', 'x_train63', 'x_train64', 'x_train65', 'x_train66', 'x_train67', 'x_train68', 'x_train69', 'x_train70', 'x_train71', 'x_train72', 'x_train73', 'x_train74', 'x_train75', 'x_train76', 'x_train77', 'x_train78', 'x_train79', 'x_train80', 'x_train81', 'x_train82', 'x_train83', 'x_train84', 'x_train85', 'x_train86', 'x_train87', 'x_train88', 'x_train89', 'x_train90', 'x_train91', 'x_train92', 'x_train93', 'x_train94', 'x_train95', 'x_train96', 'x_train97', 'x_train98', 'x_train99'])"
      ]
     },
     "execution_count": 46,
     "metadata": {
      "tags": []
     },
     "output_type": "execute_result"
    }
   ],
   "source": [
    "x_train_dict.keys()"
   ]
  },
  {
   "cell_type": "code",
   "execution_count": null,
   "metadata": {
    "id": "LsJTHEVG35ja"
   },
   "outputs": [],
   "source": [
    "label_dict_train=split_and_shuffle_labels(y_data=y_train, seed=1, amount=train_amount) \n",
    "sample_dict_train=get_iid_subsamples_indices(label_dict=label_dict_train, number_of_samples=number_of_samples, amount=train_amount)\n",
    "x_train_dict, y_train_dict = create_iid_subsamples(sample_dict=sample_dict_train, x_data=x_train, y_data=y_train, x_name=\"x_train\", y_name=\"y_train\")\n",
    "\n",
    "\n",
    "label_dict_valid = split_and_shuffle_labels(y_data=y_valid, seed=1, amount=valid_amount) \n",
    "sample_dict_valid = get_iid_subsamples_indices(label_dict=label_dict_valid, number_of_samples=number_of_samples, amount=valid_amount)\n",
    "x_valid_dict, y_valid_dict = create_iid_subsamples(sample_dict=sample_dict_valid, x_data=x_valid, y_data=y_valid, x_name=\"x_valid\", y_name=\"y_valid\")\n",
    "\n",
    "label_dict_test = split_and_shuffle_labels(y_data=y_test, seed=1, amount=test_amount) \n",
    "sample_dict_test = get_iid_subsamples_indices(label_dict=label_dict_test, number_of_samples=number_of_samples, amount=test_amount)\n",
    "x_test_dict, y_test_dict = create_iid_subsamples(sample_dict=sample_dict_test, x_data=x_test, y_data=y_test, x_name=\"x_test\", y_name=\"y_test\")"
   ]
  },
  {
   "cell_type": "code",
   "execution_count": null,
   "metadata": {
    "colab": {
     "base_uri": "https://localhost:8080/",
     "height": 335
    },
    "id": "cmE7UZ2J35ja",
    "outputId": "1222dcc0-8ab8-419c-9bf7-27183b72cb54"
   },
   "outputs": [
    {
     "name": "stdout",
     "output_type": "stream",
     "text": [
      "torch.Size([450, 784]) torch.Size([450])\n",
      "torch.Size([90, 784]) torch.Size([90])\n",
      "torch.Size([90, 784]) torch.Size([90])\n",
      "tensor(7)\n"
     ]
    },
    {
     "data": {
      "image/png": "[encoded data removed]",
      "text/plain": [
       "<Figure size 432x288 with 1 Axes>"
      ]
     },
     "metadata": {
      "needs_background": "light",
      "tags": []
     },
     "output_type": "display_data"
    }
   ],
   "source": [
    "print(x_train_dict[\"x_train1\"].shape, y_train_dict[\"y_train1\"].shape)\n",
    "print(x_valid_dict[\"x_valid1\"].shape, y_valid_dict[\"y_valid1\"].shape) \n",
    "print(x_test_dict[\"x_test1\"].shape, y_test_dict[\"y_test1\"].shape)\n",
    "\n",
    "num_index = np.random.randint(test_amount/number_of_samples*10)\n",
    "pyplot.imshow(x_test_dict[\"x_test1\"][num_index].reshape((28,28)), cmap=\"gray\")\n",
    "print(y_test_dict[\"y_test1\"][num_index])"
   ]
  },
  {
   "cell_type": "markdown",
   "metadata": {
    "id": "cOhRxI2k35jb"
   },
   "source": [
    "**Main model is created**"
   ]
  },
  {
   "cell_type": "code",
   "execution_count": null,
   "metadata": {
    "colab": {
     "base_uri": "https://localhost:8080/",
     "height": 322
    },
    "id": "MtDFD4cp35jc",
    "outputId": "ff6dd436-30d0-404e-a28c-e21cd0dc02e3"
   },
   "outputs": [
    {
     "ename": "NameError",
     "evalue": "ignored",
     "output_type": "error",
     "traceback": [
      "\u001b[0;31m---------------------------------------------------------------------------\u001b[0m",
      "\u001b[0;31mNameError\u001b[0m                                 Traceback (most recent call last)",
      "\u001b[0;32m<ipython-input-146-c6f8c208115f>\u001b[0m in \u001b[0;36m<module>\u001b[0;34m()\u001b[0m\n\u001b[0;32m----> 1\u001b[0;31m \u001b[0mmain_model\u001b[0m \u001b[0;34m=\u001b[0m \u001b[0mNet2nn\u001b[0m\u001b[0;34m(\u001b[0m\u001b[0;34m)\u001b[0m\u001b[0;34m\u001b[0m\u001b[0;34m\u001b[0m\u001b[0m\n\u001b[0m\u001b[1;32m      2\u001b[0m \u001b[0mmain_optimizer\u001b[0m \u001b[0;34m=\u001b[0m \u001b[0mtorch\u001b[0m\u001b[0;34m.\u001b[0m\u001b[0moptim\u001b[0m\u001b[0;34m.\u001b[0m\u001b[0mSGD\u001b[0m\u001b[0;34m(\u001b[0m\u001b[0mmain_model\u001b[0m\u001b[0;34m.\u001b[0m\u001b[0mparameters\u001b[0m\u001b[0;34m(\u001b[0m\u001b[0;34m)\u001b[0m\u001b[0;34m,\u001b[0m \u001b[0mlr\u001b[0m\u001b[0;34m=\u001b[0m\u001b[0mlearning_rate\u001b[0m\u001b[0;34m,\u001b[0m \u001b[0mmomentum\u001b[0m\u001b[0;34m=\u001b[0m\u001b[0;36m0.9\u001b[0m\u001b[0;34m)\u001b[0m\u001b[0;34m\u001b[0m\u001b[0;34m\u001b[0m\u001b[0m\n\u001b[1;32m      3\u001b[0m \u001b[0mmain_criterion\u001b[0m \u001b[0;34m=\u001b[0m \u001b[0mnn\u001b[0m\u001b[0;34m.\u001b[0m\u001b[0mCrossEntropyLoss\u001b[0m\u001b[0;34m(\u001b[0m\u001b[0;34m)\u001b[0m\u001b[0;34m\u001b[0m\u001b[0;34m\u001b[0m\u001b[0m\n",
      "\u001b[0;32m<ipython-input-145-cfa4d1c9babb>\u001b[0m in \u001b[0;36m__init__\u001b[0;34m(self)\u001b[0m\n\u001b[1;32m      1\u001b[0m \u001b[0;32mclass\u001b[0m \u001b[0mNet2nn\u001b[0m\u001b[0;34m(\u001b[0m\u001b[0mnn\u001b[0m\u001b[0;34m.\u001b[0m\u001b[0mModule\u001b[0m\u001b[0;34m)\u001b[0m\u001b[0;34m:\u001b[0m\u001b[0;34m\u001b[0m\u001b[0;34m\u001b[0m\u001b[0m\n\u001b[1;32m      2\u001b[0m     \u001b[0;32mdef\u001b[0m \u001b[0m__init__\u001b[0m\u001b[0;34m(\u001b[0m\u001b[0mself\u001b[0m\u001b[0;34m)\u001b[0m\u001b[0;34m:\u001b[0m\u001b[0;34m\u001b[0m\u001b[0;34m\u001b[0m\u001b[0m\n\u001b[0;32m----> 3\u001b[0;31m         \u001b[0msuper\u001b[0m\u001b[0;34m(\u001b[0m\u001b[0mNet\u001b[0m\u001b[0;34m,\u001b[0m \u001b[0mself\u001b[0m\u001b[0;34m)\u001b[0m\u001b[0;34m.\u001b[0m\u001b[0m__init__\u001b[0m\u001b[0;34m(\u001b[0m\u001b[0;34m)\u001b[0m\u001b[0;34m\u001b[0m\u001b[0;34m\u001b[0m\u001b[0m\n\u001b[0m\u001b[1;32m      4\u001b[0m \u001b[0;34m\u001b[0m\u001b[0m\n\u001b[1;32m      5\u001b[0m         self.cnn_layers = Sequential(\n",
      "\u001b[0;31mNameError\u001b[0m: name 'Net' is not defined"
     ]
    }
   ],
   "source": [
    "main_model = Net2nn()\n",
    "main_optimizer = torch.optim.SGD(main_model.parameters(), lr=learning_rate, momentum=0.9)\n",
    "main_criterion = nn.CrossEntropyLoss()"
   ]
  },
  {
   "cell_type": "markdown",
   "metadata": {
    "id": "Q2l5Tf6035jc"
   },
   "source": [
    "**Models,optimizers and loss functions in nodes are defined**"
   ]
  },
  {
   "cell_type": "code",
   "execution_count": null,
   "metadata": {
    "id": "6LmFqyGu35jc"
   },
   "outputs": [],
   "source": [
    "model_dict, optimizer_dict, criterion_dict = create_model_optimizer_criterion_dict(number_of_samples,learning_rate,momentum)"
   ]
  },
  {
   "cell_type": "markdown",
   "metadata": {
    "id": "r8h-6h9k35jd"
   },
   "source": [
    "**Keys of dicts are being made iterable**"
   ]
  },
  {
   "cell_type": "code",
   "execution_count": null,
   "metadata": {
    "colab": {
     "base_uri": "https://localhost:8080/"
    },
    "id": "S7IPqQlnIZ_i",
    "outputId": "b4dce7a3-7bd4-4f00-af8a-691cfc89629a"
   },
   "outputs": [
    {
     "data": {
      "text/plain": [
       "dict_keys"
      ]
     },
     "execution_count": 65,
     "metadata": {
      "tags": []
     },
     "output_type": "execute_result"
    }
   ],
   "source": [
    "type(x_train_dict.keys())"
   ]
  },
  {
   "cell_type": "code",
   "execution_count": null,
   "metadata": {
    "id": "kX6cNmhS35jd"
   },
   "outputs": [],
   "source": [
    "name_of_x_train_sets=list(x_train_dict.keys())\n",
    "name_of_y_train_sets=list(y_train_dict.keys())\n",
    "name_of_x_valid_sets=list(x_valid_dict.keys())\n",
    "name_of_y_valid_sets=list(y_valid_dict.keys())\n",
    "name_of_x_test_sets=list(x_test_dict.keys())\n",
    "name_of_y_test_sets=list(y_test_dict.keys())\n",
    "\n",
    "name_of_models=list(model_dict.keys())\n",
    "name_of_optimizers=list(optimizer_dict.keys())\n",
    "name_of_criterions=list(criterion_dict.keys())\n",
    "\n",
    "# print(name_of_x_train_sets)\n",
    "# print(name_of_y_train_sets)\n",
    "# print(name_of_x_valid_sets)\n",
    "# print(name_of_y_valid_sets)\n",
    "# print(name_of_x_test_sets)\n",
    "# print(name_of_y_test_sets)\n",
    "# print(\"\\n ------------\")\n",
    "# print(name_of_models)\n",
    "# print(name_of_optimizers)\n",
    "# print(name_of_criterions)"
   ]
  },
  {
   "cell_type": "code",
   "execution_count": null,
   "metadata": {
    "colab": {
     "base_uri": "https://localhost:8080/"
    },
    "id": "lmezq6N1Kni9",
    "outputId": "8e250a2a-645b-4423-a262-0584201846ce"
   },
   "outputs": [
    {
     "data": {
      "text/plain": [
       "200"
      ]
     },
     "execution_count": 70,
     "metadata": {
      "tags": []
     },
     "output_type": "execute_result"
    }
   ],
   "source": [
    "len(main_model.fc2.weight)"
   ]
  },
  {
   "cell_type": "code",
   "execution_count": null,
   "metadata": {
    "colab": {
     "base_uri": "https://localhost:8080/"
    },
    "id": "FDukucRf35jd",
    "outputId": "3ae64852-3467-4e98-fbb3-c0e7164a2ba8"
   },
   "outputs": [
    {
     "name": "stdout",
     "output_type": "stream",
     "text": [
      "tensor([[ 0.0587, -0.0059,  0.0627,  0.0130, -0.0042]],\n",
      "       grad_fn=<SliceBackward>)\n",
      "tensor([[ 0.0005,  0.0615,  0.0201,  0.0401, -0.0654]],\n",
      "       grad_fn=<SliceBackward>)\n"
     ]
    }
   ],
   "source": [
    "print(main_model.fc2.weight[0:1,0:5])\n",
    "print(model_dict[\"model1\"].fc2.weight[0:1,0:5])"
   ]
  },
  {
   "cell_type": "markdown",
   "metadata": {
    "id": "EeIxU0QF35je"
   },
   "source": [
    "**Parameters of main model are sent to nodes**  \n",
    "Since the parameters of the main model and parameters of all local models in the nodes are randomly initialized, all these parameters will be different from each other. For this reason, the main model sends its parameters to the nodes before the training of local models in the nodes begins. You can check the weights below."
   ]
  },
  {
   "cell_type": "code",
   "execution_count": null,
   "metadata": {
    "id": "f1LEGmKE35je"
   },
   "outputs": [],
   "source": [
    "model_dict=send_main_model_to_nodes_and_update_model_dict(main_model, model_dict, number_of_samples)"
   ]
  },
  {
   "cell_type": "code",
   "execution_count": null,
   "metadata": {
    "colab": {
     "base_uri": "https://localhost:8080/"
    },
    "id": "foNjj86g35jf",
    "outputId": "20793073-da53-4c6c-f5ce-4e869787fcfa"
   },
   "outputs": [
    {
     "name": "stdout",
     "output_type": "stream",
     "text": [
      "tensor([[ 0.0587, -0.0059,  0.0627,  0.0130, -0.0042]],\n",
      "       grad_fn=<SliceBackward>)\n",
      "tensor([[ 0.0587, -0.0059,  0.0627,  0.0130, -0.0042]],\n",
      "       grad_fn=<SliceBackward>)\n"
     ]
    }
   ],
   "source": [
    "print(main_model.fc2.weight[0:1,0:5])\n",
    "print(model_dict[\"model99\"].fc2.weight[0:1,0:5])"
   ]
  },
  {
   "cell_type": "markdown",
   "metadata": {
    "id": "hWsNqejp35jf"
   },
   "source": [
    "**Models in the nodes are trained**"
   ]
  },
  {
   "cell_type": "code",
   "execution_count": null,
   "metadata": {
    "colab": {
     "base_uri": "https://localhost:8080/"
    },
    "id": "LgsvAHE735jf",
    "outputId": "b2f688ac-0a3f-4974-cf92-201d16f741f4"
   },
   "outputs": [
    {
     "name": "stdout",
     "output_type": "stream",
     "text": [
      "Subset 0\n",
      "epoch:   1 | train accuracy: 0.18889 | test accuracy: 0.30000\n",
      "epoch:   2 | train accuracy: 0.41111 | test accuracy: 0.42222\n",
      "epoch:   3 | train accuracy: 0.52667 | test accuracy: 0.53333\n",
      "epoch:   4 | train accuracy: 0.57111 | test accuracy: 0.61111\n",
      "epoch:   5 | train accuracy: 0.68667 | test accuracy: 0.64444\n",
      "epoch:   6 | train accuracy: 0.72667 | test accuracy: 0.76667\n",
      "epoch:   7 | train accuracy: 0.80222 | test accuracy: 0.65556\n",
      "epoch:   8 | train accuracy: 0.73111 | test accuracy: 0.75556\n",
      "epoch:   9 | train accuracy: 0.79556 | test accuracy: 0.73333\n",
      "epoch:  10 | train accuracy: 0.85333 | test accuracy: 0.73333\n",
      "Subset 1\n",
      "epoch:   1 | train accuracy: 0.11333 | test accuracy: 0.16667\n",
      "epoch:   2 | train accuracy: 0.28667 | test accuracy: 0.41111\n",
      "epoch:   3 | train accuracy: 0.45556 | test accuracy: 0.37778\n",
      "epoch:   4 | train accuracy: 0.47556 | test accuracy: 0.52222\n",
      "epoch:   5 | train accuracy: 0.60667 | test accuracy: 0.58889\n",
      "epoch:   6 | train accuracy: 0.66889 | test accuracy: 0.70000\n",
      "epoch:   7 | train accuracy: 0.73111 | test accuracy: 0.65556\n",
      "epoch:   8 | train accuracy: 0.76222 | test accuracy: 0.64444\n",
      "epoch:   9 | train accuracy: 0.72889 | test accuracy: 0.70000\n",
      "epoch:  10 | train accuracy: 0.87778 | test accuracy: 0.78889\n",
      "Subset 2\n",
      "epoch:   1 | train accuracy: 0.10000 | test accuracy: 0.13333\n",
      "epoch:   2 | train accuracy: 0.25778 | test accuracy: 0.21111\n",
      "epoch:   3 | train accuracy: 0.27778 | test accuracy: 0.30000\n",
      "epoch:   4 | train accuracy: 0.41556 | test accuracy: 0.37778\n",
      "epoch:   5 | train accuracy: 0.51111 | test accuracy: 0.52222\n",
      "epoch:   6 | train accuracy: 0.65333 | test accuracy: 0.56667\n",
      "epoch:   7 | train accuracy: 0.67556 | test accuracy: 0.63333\n",
      "epoch:   8 | train accuracy: 0.67778 | test accuracy: 0.56667\n",
      "epoch:   9 | train accuracy: 0.70000 | test accuracy: 0.65556\n",
      "epoch:  10 | train accuracy: 0.81333 | test accuracy: 0.68889\n"
     ]
    }
   ],
   "source": [
    "# start_train_end_node_process()\n",
    "start_train_end_node_process_print_some(number_of_samples, print_amount)"
   ]
  },
  {
   "cell_type": "code",
   "execution_count": null,
   "metadata": {
    "id": "sTkhBy322FW-"
   },
   "outputs": [],
   "source": []
  },
  {
   "cell_type": "code",
   "execution_count": null,
   "metadata": {
    "colab": {
     "base_uri": "https://localhost:8080/"
    },
    "id": "d_AdcyVr35jg",
    "outputId": "ad5af1a5-8bc4-4613-c680-e4915c93cc1d"
   },
   "outputs": [
    {
     "name": "stdout",
     "output_type": "stream",
     "text": [
      "tensor([-0.0262,  0.0325,  0.0636, -0.0280, -0.0387], grad_fn=<SliceBackward>)\n",
      "tensor([ 0.0577, -0.0099,  0.0662,  0.0272, -0.0166], grad_fn=<SliceBackward>)\n"
     ]
    }
   ],
   "source": [
    "## As you can see, wieghts of local models are updated after training process\n",
    "print(main_model.fc2.weight[0,0:5])\n",
    "print(model_dict[\"model1\"].fc2.weight[0,0:5])"
   ]
  },
  {
   "cell_type": "code",
   "execution_count": null,
   "metadata": {
    "colab": {
     "base_uri": "https://localhost:8080/",
     "height": 283
    },
    "id": "PWDqgrVPUnUD",
    "outputId": "75b3630d-92c9-47fa-ce1e-02f216b4ffbc"
   },
   "outputs": [
    {
     "data": {
      "text/plain": [
       "<matplotlib.image.AxesImage at 0x7f627bf488d0>"
      ]
     },
     "execution_count": 126,
     "metadata": {
      "tags": []
     },
     "output_type": "execute_result"
    },
    {
     "data": {
      "image/png": "[encoded data removed]",
      "text/plain": [
       "<Figure size 432x288 with 1 Axes>"
      ]
     },
     "metadata": {
      "needs_background": "light",
      "tags": []
     },
     "output_type": "display_data"
    }
   ],
   "source": [
    "pyplot.imshow(x_test_dict[\"x_test1\"][10].reshape((28,28)), cmap=\"gray\")"
   ]
  },
  {
   "cell_type": "code",
   "execution_count": null,
   "metadata": {
    "id": "AgxU4RBr2MsF"
   },
   "outputs": [],
   "source": [
    "model_tmp = model_dict[\"model1\"]\n"
   ]
  },
  {
   "cell_type": "code",
   "execution_count": null,
   "metadata": {
    "colab": {
     "base_uri": "https://localhost:8080/"
    },
    "id": "rqY6mPR0783p",
    "outputId": "de5dba35-f0c9-4739-d97c-54e5b25480a2"
   },
   "outputs": [
    {
     "name": "stdout",
     "output_type": "stream",
     "text": [
      "Net2nn(\n",
      "  (fc1): Linear(in_features=784, out_features=200, bias=True)\n",
      "  (fc2): Linear(in_features=200, out_features=200, bias=True)\n",
      "  (fc3): Linear(in_features=200, out_features=10, bias=True)\n",
      ")\n"
     ]
    }
   ],
   "source": [
    "print(model_tmp)"
   ]
  },
  {
   "cell_type": "code",
   "execution_count": null,
   "metadata": {
    "colab": {
     "base_uri": "https://localhost:8080/",
     "height": 1000
    },
    "id": "yPd2d50z2Quw",
    "outputId": "e2bb7dff-988c-456d-8801-a626d6ce4afc"
   },
   "outputs": [
    {
     "data": {
      "image/png": "[encoded data removed]",
      "text/plain": [
       "<Figure size 432x288 with 1 Axes>"
      ]
     },
     "metadata": {
      "needs_background": "light",
      "tags": []
     },
     "output_type": "display_data"
    },
    {
     "name": "stdout",
     "output_type": "stream",
     "text": [
      "tensor([ 0.8263, -1.9254, -0.7504,  0.3236, -1.4792,  3.2591,  0.5135, -3.1834,\n",
      "         2.0839,  0.0483])\n"
     ]
    },
    {
     "data": {
      "image/png": "[encoded data removed]",
      "text/plain": [
       "<Figure size 432x288 with 1 Axes>"
      ]
     },
     "metadata": {
      "needs_background": "light",
      "tags": []
     },
     "output_type": "display_data"
    },
    {
     "name": "stdout",
     "output_type": "stream",
     "text": [
      "tensor([-5.2060, -1.9026, -1.8418, -2.3945,  6.3896, -1.0521, -1.7287,  0.3188,\n",
      "         1.4237,  5.3118])\n"
     ]
    },
    {
     "data": {
      "image/png": "[encoded data removed]",
      "text/plain": [
       "<Figure size 432x288 with 1 Axes>"
      ]
     },
     "metadata": {
      "needs_background": "light",
      "tags": []
     },
     "output_type": "display_data"
    },
    {
     "name": "stdout",
     "output_type": "stream",
     "text": [
      "tensor([ 0.4412, -1.6585, -1.3993, -0.1947, -0.2258,  1.2013, -1.3383,  1.3030,\n",
      "         0.2539,  0.9611])\n"
     ]
    },
    {
     "data": {
      "image/png": "[encoded data removed]",
      "text/plain": [
       "<Figure size 432x288 with 1 Axes>"
      ]
     },
     "metadata": {
      "needs_background": "light",
      "tags": []
     },
     "output_type": "display_data"
    },
    {
     "name": "stdout",
     "output_type": "stream",
     "text": [
      "tensor([-0.7764, -2.3865, -0.1124, -2.5427,  2.3423,  0.3183,  0.5200, -0.6677,\n",
      "         0.6279,  2.6043])\n"
     ]
    },
    {
     "data": {
      "image/png": "[encoded data removed]",
      "text/plain": [
       "<Figure size 432x288 with 1 Axes>"
      ]
     },
     "metadata": {
      "needs_background": "light",
      "tags": []
     },
     "output_type": "display_data"
    },
    {
     "name": "stdout",
     "output_type": "stream",
     "text": [
      "tensor([-2.2277,  0.0754, -1.8814,  6.0498, -3.7235,  4.5896, -5.1379, -4.4976,\n",
      "         5.1256,  0.3571])\n"
     ]
    },
    {
     "data": {
      "image/png": "[encoded data removed]",
      "text/plain": [
       "<Figure size 432x288 with 1 Axes>"
      ]
     },
     "metadata": {
      "needs_background": "light",
      "tags": []
     },
     "output_type": "display_data"
    },
    {
     "name": "stdout",
     "output_type": "stream",
     "text": [
      "tensor([ 6.6266, -5.5447,  2.5062, -1.6825, -4.0327,  3.5545,  1.8898, -2.1243,\n",
      "         0.8316, -1.6030])\n"
     ]
    },
    {
     "data": {
      "image/png": "[encoded data removed]",
      "text/plain": [
       "<Figure size 432x288 with 1 Axes>"
      ]
     },
     "metadata": {
      "needs_background": "light",
      "tags": []
     },
     "output_type": "display_data"
    },
    {
     "name": "stdout",
     "output_type": "stream",
     "text": [
      "tensor([-1.7183, -0.4172, -1.0591,  0.1709,  0.9139,  1.2320, -0.3228, -1.1294,\n",
      "         0.7506,  1.1706])\n"
     ]
    },
    {
     "data": {
      "image/png": "[encoded data removed]",
      "text/plain": [
       "<Figure size 432x288 with 1 Axes>"
      ]
     },
     "metadata": {
      "needs_background": "light",
      "tags": []
     },
     "output_type": "display_data"
    },
    {
     "name": "stdout",
     "output_type": "stream",
     "text": [
      "tensor([-3.5033, -0.2179, -0.6246, -1.8944,  2.4909, -0.8139, -1.4029,  0.2374,\n",
      "         1.7885,  3.5640])\n"
     ]
    },
    {
     "data": {
      "image/png": "[encoded data removed]",
      "text/plain": [
       "<Figure size 432x288 with 1 Axes>"
      ]
     },
     "metadata": {
      "needs_background": "light",
      "tags": []
     },
     "output_type": "display_data"
    },
    {
     "name": "stdout",
     "output_type": "stream",
     "text": [
      "tensor([-1.8540,  0.4616,  0.0244,  0.9739, -1.5512,  0.3386, -3.5972,  0.5327,\n",
      "         2.7544,  1.2767])\n"
     ]
    },
    {
     "data": {
      "image/png": "[encoded data removed]",
      "text/plain": [
       "<Figure size 432x288 with 1 Axes>"
      ]
     },
     "metadata": {
      "needs_background": "light",
      "tags": []
     },
     "output_type": "display_data"
    },
    {
     "name": "stdout",
     "output_type": "stream",
     "text": [
      "tensor([-2.4303,  0.6232, -0.6641,  1.2463, -0.6951,  1.5052, -1.9112, -3.7553,\n",
      "         4.9475,  0.7695])\n"
     ]
    }
   ],
   "source": [
    "with torch.no_grad():\n",
    "  model_tmp.eval()\n",
    "  for i in range(10):\n",
    "    pyplot.imshow(x_test_dict[\"x_test1\"][i].reshape((28,28)), cmap=\"gray\")\n",
    "    pyplot.title(y_test_dict[\"y_test1\"][i])\n",
    "    pyplot.show()\n",
    "    print(model_tmp(x_test_dict[\"x_test1\"][i]))"
   ]
  },
  {
   "cell_type": "code",
   "execution_count": null,
   "metadata": {
    "colab": {
     "base_uri": "https://localhost:8080/"
    },
    "id": "ad8gHIRl2UrM",
    "outputId": "8bf2106c-ea0b-49d4-9f1d-9ac44b2b0ea5"
   },
   "outputs": [
    {
     "data": {
      "text/plain": [
       "tensor([-0.3299, -2.6791, -1.5458,  2.7544, -0.8737,  2.8483, -3.6477, -0.7090,\n",
       "         1.7791,  1.3609], grad_fn=<AddBackward0>)"
      ]
     },
     "execution_count": 132,
     "metadata": {
      "tags": []
     },
     "output_type": "execute_result"
    }
   ],
   "source": []
  },
  {
   "cell_type": "code",
   "execution_count": null,
   "metadata": {
    "colab": {
     "base_uri": "https://localhost:8080/"
    },
    "id": "AYlcWqieSpET",
    "outputId": "4ef64b35-8490-4588-a26f-1ccc9e1a4131"
   },
   "outputs": [
    {
     "data": {
      "text/plain": [
       "tensor([0.1055, 0.0965, 0.0981, 0.0931, 0.1071, 0.0920, 0.1043, 0.1004, 0.1007,\n",
       "        0.1023], grad_fn=<SoftmaxBackward>)"
      ]
     },
     "execution_count": 128,
     "metadata": {
      "tags": []
     },
     "output_type": "execute_result"
    }
   ],
   "source": [
    "torch.softmax(main_model.forward(x_test_dict[\"x_test1\"][10]),0)\n"
   ]
  },
  {
   "cell_type": "markdown",
   "metadata": {
    "id": "RWc2Xudv35jg"
   },
   "source": [
    "### Let's compare the performance of federated main model, individual local models and centralized model  \n",
    "\n",
    "**Federated main model vs individual local models before 1st iteration (on distributed test set)**  \n",
    "Since main model is randomly initialized and no action taken on it yet, its performance is very poor. Please before_acc_table"
   ]
  },
  {
   "cell_type": "code",
   "execution_count": null,
   "metadata": {
    "id": "wk-b6dkP35jh"
   },
   "outputs": [],
   "source": [
    "before_acc_table=compare_local_and_merged_model_performance(number_of_samples=number_of_samples)\n",
    "before_test_loss, before_test_accuracy = validation(main_model, test_dl, main_criterion)\n",
    "\n",
    "main_model= set_averaged_weights_as_main_model_weights_and_update_main_model(main_model,model_dict, number_of_samples) \n",
    "\n",
    "after_acc_table=compare_local_and_merged_model_performance(number_of_samples=number_of_samples)\n",
    "after_test_loss, after_test_accuracy = validation(main_model, test_dl, main_criterion)"
   ]
  },
  {
   "cell_type": "code",
   "execution_count": null,
   "metadata": {
    "id": "JE_EmCcF35jh",
    "outputId": "1285c52c-81d3-429a-ca06-91c7f8f380e2"
   },
   "outputs": [
    {
     "name": "stdout",
     "output_type": "stream",
     "text": [
      "Federated main model vs individual local models before FedAvg first iteration\n"
     ]
    },
    {
     "data": {
      "text/html": [
       "<div>\n",
       "<style scoped>\n",
       "    .dataframe tbody tr th:only-of-type {\n",
       "        vertical-align: middle;\n",
       "    }\n",
       "\n",
       "    .dataframe tbody tr th {\n",
       "        vertical-align: top;\n",
       "    }\n",
       "\n",
       "    .dataframe thead th {\n",
       "        text-align: right;\n",
       "    }\n",
       "</style>\n",
       "<table border=\"1\" class=\"dataframe\">\n",
       "  <thead>\n",
       "    <tr style=\"text-align: right;\">\n",
       "      <th></th>\n",
       "      <th>sample</th>\n",
       "      <th>local_ind_model</th>\n",
       "      <th>merged_main_model</th>\n",
       "    </tr>\n",
       "  </thead>\n",
       "  <tbody>\n",
       "    <tr>\n",
       "      <th>0</th>\n",
       "      <td>sample 0</td>\n",
       "      <td>0.8111</td>\n",
       "      <td>0.0889</td>\n",
       "    </tr>\n",
       "    <tr>\n",
       "      <th>1</th>\n",
       "      <td>sample 1</td>\n",
       "      <td>0.7667</td>\n",
       "      <td>0.1222</td>\n",
       "    </tr>\n",
       "    <tr>\n",
       "      <th>2</th>\n",
       "      <td>sample 2</td>\n",
       "      <td>0.7111</td>\n",
       "      <td>0.1556</td>\n",
       "    </tr>\n",
       "    <tr>\n",
       "      <th>3</th>\n",
       "      <td>sample 3</td>\n",
       "      <td>0.8111</td>\n",
       "      <td>0.1222</td>\n",
       "    </tr>\n",
       "    <tr>\n",
       "      <th>4</th>\n",
       "      <td>sample 4</td>\n",
       "      <td>0.7222</td>\n",
       "      <td>0.1222</td>\n",
       "    </tr>\n",
       "  </tbody>\n",
       "</table>\n",
       "</div>"
      ],
      "text/plain": [
       "     sample  local_ind_model  merged_main_model\n",
       "0  sample 0           0.8111             0.0889\n",
       "1  sample 1           0.7667             0.1222\n",
       "2  sample 2           0.7111             0.1556\n",
       "3  sample 3           0.8111             0.1222\n",
       "4  sample 4           0.7222             0.1222"
      ]
     },
     "execution_count": 37,
     "metadata": {
      "tags": []
     },
     "output_type": "execute_result"
    }
   ],
   "source": [
    "print(\"Federated main model vs individual local models before FedAvg first iteration\")\n",
    "before_acc_table.head()"
   ]
  },
  {
   "cell_type": "code",
   "execution_count": null,
   "metadata": {
    "id": "7cqJpTUi35ji",
    "outputId": "486d6210-9c56-4dae-c23a-d4548cad7121"
   },
   "outputs": [
    {
     "name": "stdout",
     "output_type": "stream",
     "text": [
      "Federated main model vs individual local models after FedAvg first iteration\n"
     ]
    },
    {
     "data": {
      "text/html": [
       "<div>\n",
       "<style scoped>\n",
       "    .dataframe tbody tr th:only-of-type {\n",
       "        vertical-align: middle;\n",
       "    }\n",
       "\n",
       "    .dataframe tbody tr th {\n",
       "        vertical-align: top;\n",
       "    }\n",
       "\n",
       "    .dataframe thead th {\n",
       "        text-align: right;\n",
       "    }\n",
       "</style>\n",
       "<table border=\"1\" class=\"dataframe\">\n",
       "  <thead>\n",
       "    <tr style=\"text-align: right;\">\n",
       "      <th></th>\n",
       "      <th>sample</th>\n",
       "      <th>local_ind_model</th>\n",
       "      <th>merged_main_model</th>\n",
       "    </tr>\n",
       "  </thead>\n",
       "  <tbody>\n",
       "    <tr>\n",
       "      <th>0</th>\n",
       "      <td>sample 0</td>\n",
       "      <td>0.8111</td>\n",
       "      <td>0.9000</td>\n",
       "    </tr>\n",
       "    <tr>\n",
       "      <th>1</th>\n",
       "      <td>sample 1</td>\n",
       "      <td>0.7667</td>\n",
       "      <td>0.8222</td>\n",
       "    </tr>\n",
       "    <tr>\n",
       "      <th>2</th>\n",
       "      <td>sample 2</td>\n",
       "      <td>0.7111</td>\n",
       "      <td>0.7889</td>\n",
       "    </tr>\n",
       "    <tr>\n",
       "      <th>3</th>\n",
       "      <td>sample 3</td>\n",
       "      <td>0.8111</td>\n",
       "      <td>0.8556</td>\n",
       "    </tr>\n",
       "    <tr>\n",
       "      <th>4</th>\n",
       "      <td>sample 4</td>\n",
       "      <td>0.7222</td>\n",
       "      <td>0.8667</td>\n",
       "    </tr>\n",
       "  </tbody>\n",
       "</table>\n",
       "</div>"
      ],
      "text/plain": [
       "     sample  local_ind_model  merged_main_model\n",
       "0  sample 0           0.8111             0.9000\n",
       "1  sample 1           0.7667             0.8222\n",
       "2  sample 2           0.7111             0.7889\n",
       "3  sample 3           0.8111             0.8556\n",
       "4  sample 4           0.7222             0.8667"
      ]
     },
     "execution_count": 38,
     "metadata": {
      "tags": []
     },
     "output_type": "execute_result"
    }
   ],
   "source": [
    "print(\"Federated main model vs individual local models after FedAvg first iteration\")\n",
    "after_acc_table.head()"
   ]
  },
  {
   "cell_type": "markdown",
   "metadata": {
    "id": "Urla9WMY35ji"
   },
   "source": [
    "**Federated main model vs centralized model before 1st iteration (on all test data)**  \n",
    "Please be aware that the centralized model gets approximately %98 accuracy on all test data."
   ]
  },
  {
   "cell_type": "code",
   "execution_count": null,
   "metadata": {
    "id": "PJSZ9_Vm35jj",
    "outputId": "7469b366-3bcd-4a03-f472-da2b9aee556e"
   },
   "outputs": [
    {
     "name": "stdout",
     "output_type": "stream",
     "text": [
      "Before 1st iteration main model accuracy on all test data:  0.1152\n",
      "After 1st iteration main model accuracy on all test data:  0.8556\n",
      "Centralized model accuracy on all test data:  0.9779\n"
     ]
    }
   ],
   "source": [
    "print(\"Before 1st iteration main model accuracy on all test data: {:7.4f}\".format(before_test_accuracy))\n",
    "print(\"After 1st iteration main model accuracy on all test data: {:7.4f}\".format(after_test_accuracy))\n",
    "print(\"Centralized model accuracy on all test data: {:7.4f}\".format(central_test_accuracy))"
   ]
  },
  {
   "cell_type": "markdown",
   "metadata": {
    "id": "MXhFRYDd35jj"
   },
   "source": [
    "This is a single iteration, we can send the weights of the main model back to the nodes and repeat the above steps.\n",
    "Now let's check how the performance of the main model improves when we repeat the iteration 10 more times."
   ]
  },
  {
   "cell_type": "code",
   "execution_count": null,
   "metadata": {
    "id": "PJqH4V1u35jj",
    "outputId": "d1cc92ae-c0df-4cea-8ae1-abd6bd2cbe1d"
   },
   "outputs": [
    {
     "name": "stdout",
     "output_type": "stream",
     "text": [
      "Iteration 2 : main_model accuracy on all test data:  0.8973\n",
      "Iteration 3 : main_model accuracy on all test data:  0.9098\n",
      "Iteration 4 : main_model accuracy on all test data:  0.9173\n",
      "Iteration 5 : main_model accuracy on all test data:  0.9231\n",
      "Iteration 6 : main_model accuracy on all test data:  0.9295\n",
      "Iteration 7 : main_model accuracy on all test data:  0.9348\n",
      "Iteration 8 : main_model accuracy on all test data:  0.9370\n",
      "Iteration 9 : main_model accuracy on all test data:  0.9393\n",
      "Iteration 10 : main_model accuracy on all test data:  0.9427\n",
      "Iteration 11 : main_model accuracy on all test data:  0.9441\n"
     ]
    }
   ],
   "source": [
    "for i in range(10):\n",
    "    model_dict=send_main_model_to_nodes_and_update_model_dict(main_model, model_dict, number_of_samples)\n",
    "    start_train_end_node_process_without_print(number_of_samples)\n",
    "    main_model= set_averaged_weights_as_main_model_weights_and_update_main_model(main_model,model_dict, number_of_samples) \n",
    "    test_loss, test_accuracy = validation(main_model, test_dl, main_criterion)\n",
    "    print(\"Iteration\", str(i+2), \": main_model accuracy on all test data: {:7.4f}\".format(test_accuracy))   "
   ]
  },
  {
   "cell_type": "markdown",
   "metadata": {
    "id": "tQklAOWh35jk"
   },
   "source": [
    "The accuracy of the centralized model was calculated as approximately 98%. The accuracy of the main model obtained by FedAvg method started from 85% and improved to 94%. In this case, we can say that although the main model obtained by FedAvg method was trained without seeing the data, its performance cannot be underestimated."
   ]
  },
  {
   "cell_type": "code",
   "execution_count": null,
   "metadata": {
    "colab": {
     "base_uri": "https://localhost:8080/"
    },
    "id": "fOcLp1BMC2Rv",
    "outputId": "baed5dfa-f4f3-4d31-d9b5-a1e2afb07e2f"
   },
   "outputs": [
    {
     "name": "stdout",
     "output_type": "stream",
     "text": [
      "[[ 0  0  0  0]\n",
      " [ 1  1  1  1]\n",
      " [ 2  2  2  2]\n",
      " [ 3  3  3  3]\n",
      " [ 4  4  4  4]\n",
      " [ 5  5  5  5]\n",
      " [ 6  6  6  6]\n",
      " [ 7  7  7  7]\n",
      " [ 8  8  8  8]\n",
      " [ 9  9  9  9]\n",
      " [10 10 10 10]\n",
      " [11 11 11 11]\n",
      " [12 12 12 12]\n",
      " [13 13 13 13]\n",
      " [14 14 14 14]\n",
      " [15 15 15 15]\n",
      " [16 16 16 16]\n",
      " [17 17 17 17]\n",
      " [18 18 18 18]\n",
      " [19 19 19 19]]\n",
      "[ 0  1  2  3  4  5  6  7  8  9 10 11 12 13 14 15 16 17 18 19]\n"
     ]
    }
   ],
   "source": [
    "from sklearn.utils import shuffle\n",
    "import numpy as np\n",
    "\n",
    "X = np.array([[0, 0, 0, 0], [1, 1, 1, 1], [2, 2, 2, 2], [3, 3, 3, 3], [4, 4, 4, 4],\n",
    "              [5, 5, 5, 5], [6, 6, 6, 6], [7, 7, 7, 7], [8, 8, 8, 8], [9, 9, 9, 9],\n",
    "              [10, 10, 10, 10], [11, 11, 11, 11], [12, 12, 12, 12], [13, 13, 13, 13], [14, 14, 14, 14],\n",
    "              [15, 15, 15, 15], [16, 16, 16, 16], [17, 17, 17, 17], [18, 18, 18, 18], [19, 19, 19, 19]])\n",
    "y = np.array([0, 1, 2, 3, 4, 5, 6, 7, 8, 9, 10, 11, 12, 13, 14, 15, 16, 17, 18, 19])\n",
    "\n",
    "print(X)\n",
    "print(y)"
   ]
  },
  {
   "cell_type": "code",
   "execution_count": null,
   "metadata": {
    "colab": {
     "base_uri": "https://localhost:8080/"
    },
    "id": "2uIfhsl4yOth",
    "outputId": "bbcf3d9b-807b-479c-8144-6998587cd0e6"
   },
   "outputs": [
    {
     "name": "stdout",
     "output_type": "stream",
     "text": [
      "(20, 4)\n"
     ]
    }
   ],
   "source": [
    "print(X.shape)"
   ]
  },
  {
   "cell_type": "code",
   "execution_count": null,
   "metadata": {
    "colab": {
     "base_uri": "https://localhost:8080/"
    },
    "id": "EKXntWbb4xj4",
    "outputId": "60c8463e-25f5-4f82-da7c-fb7b89fe3779"
   },
   "outputs": [
    {
     "name": "stdout",
     "output_type": "stream",
     "text": [
      "(20,)\n"
     ]
    }
   ],
   "source": [
    "print(y.shape)"
   ]
  },
  {
   "cell_type": "code",
   "execution_count": null,
   "metadata": {
    "id": "dIbf0sZq4zel"
   },
   "outputs": [],
   "source": [
    "X, y = shuffle(X, y, random_state=42)"
   ]
  },
  {
   "cell_type": "code",
   "execution_count": null,
   "metadata": {
    "colab": {
     "base_uri": "https://localhost:8080/"
    },
    "id": "vY16DH6p45I3",
    "outputId": "893493da-7077-44eb-e863-ab6896d4592d"
   },
   "outputs": [
    {
     "name": "stdout",
     "output_type": "stream",
     "text": [
      "[[ 0  0  0  0]\n",
      " [17 17 17 17]\n",
      " [15 15 15 15]\n",
      " [ 1  1  1  1]\n",
      " [ 8  8  8  8]\n",
      " [ 5  5  5  5]\n",
      " [11 11 11 11]\n",
      " [ 3  3  3  3]\n",
      " [18 18 18 18]\n",
      " [16 16 16 16]\n",
      " [13 13 13 13]\n",
      " [ 2  2  2  2]\n",
      " [ 9  9  9  9]\n",
      " [19 19 19 19]\n",
      " [ 4  4  4  4]\n",
      " [12 12 12 12]\n",
      " [ 7  7  7  7]\n",
      " [10 10 10 10]\n",
      " [14 14 14 14]\n",
      " [ 6  6  6  6]]\n"
     ]
    }
   ],
   "source": [
    "print(X)"
   ]
  },
  {
   "cell_type": "code",
   "execution_count": null,
   "metadata": {
    "colab": {
     "base_uri": "https://localhost:8080/"
    },
    "id": "qE3RIn9j46NP",
    "outputId": "dcbd94d5-4d4a-460d-aab4-cb7c1af54460"
   },
   "outputs": [
    {
     "name": "stdout",
     "output_type": "stream",
     "text": [
      "[ 0 17 15  1  8  5 11  3 18 16 13  2  9 19  4 12  7 10 14  6]\n"
     ]
    }
   ],
   "source": [
    "print(y)"
   ]
  },
  {
   "cell_type": "code",
   "execution_count": null,
   "metadata": {
    "id": "OAc_GwQn48YM"
   },
   "outputs": [],
   "source": [
    "X_trains = np.array_split(X, 5)"
   ]
  },
  {
   "cell_type": "code",
   "execution_count": null,
   "metadata": {
    "id": "kzUxO9fM5G73"
   },
   "outputs": [],
   "source": [
    "y_trains = np.array_split(y, 5)"
   ]
  },
  {
   "cell_type": "code",
   "execution_count": null,
   "metadata": {
    "colab": {
     "base_uri": "https://localhost:8080/"
    },
    "id": "V3bH6VPP5KV2",
    "outputId": "61efc468-f60c-4b01-a744-be09b426279e"
   },
   "outputs": [
    {
     "name": "stdout",
     "output_type": "stream",
     "text": [
      "[[ 0  0  0  0]\n",
      " [17 17 17 17]\n",
      " [15 15 15 15]\n",
      " [ 1  1  1  1]]\n"
     ]
    }
   ],
   "source": [
    "print(X_trains[0])"
   ]
  },
  {
   "cell_type": "code",
   "execution_count": null,
   "metadata": {
    "colab": {
     "base_uri": "https://localhost:8080/"
    },
    "id": "NIGdTh2i5NKl",
    "outputId": "5290e0b8-bcd7-4831-eb1b-95d664b4403e"
   },
   "outputs": [
    {
     "name": "stdout",
     "output_type": "stream",
     "text": [
      "[ 0 17 15  1]\n"
     ]
    }
   ],
   "source": [
    "print(y_trains[0])"
   ]
  },
  {
   "cell_type": "code",
   "execution_count": null,
   "metadata": {
    "id": "tZesYj-M5Pmb"
   },
   "outputs": [],
   "source": []
  }
 ],
 "metadata": {
  "colab": {
   "collapsed_sections": [],
   "name": "Copia di fedavg_mnist_iid.ipynb",
   "provenance": []
  },
  "kernelspec": {
   "display_name": "Python 3",
   "language": "python",
   "name": "python3"
  },
  "language_info": {
   "codemirror_mode": {
    "name": "ipython",
    "version": 3
   },
   "file_extension": ".py",
   "mimetype": "text/x-python",
   "name": "python",
   "nbconvert_exporter": "python",
   "pygments_lexer": "ipython3",
   "version": "3.8.5"
  }
 },
 "nbformat": 4,
 "nbformat_minor": 1
}
