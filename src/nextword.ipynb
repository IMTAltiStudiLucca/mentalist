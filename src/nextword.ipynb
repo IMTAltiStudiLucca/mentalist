{
 "cells": [
  {
   "cell_type": "code",
   "execution_count": 1,
   "metadata": {},
   "outputs": [
    {
     "data": {
      "text/plain": [
       "<torch._C.Generator at 0x7fcca00845d0>"
      ]
     },
     "execution_count": 1,
     "metadata": {},
     "output_type": "execute_result"
    }
   ],
   "source": [
    "import torch\n",
    "import torch.nn as nn\n",
    "import torch.nn.functional as F\n",
    "import torch.optim as optim\n",
    "\n",
    "torch.manual_seed(1)"
   ]
  },
  {
   "cell_type": "code",
   "execution_count": 3,
   "metadata": {},
   "outputs": [],
   "source": [
    "test_sentence = \"\"\"When forty winters shall besiege thy brow,\n",
    "And dig deep trenches in thy beauty's field,\n",
    "Thy youth's proud livery so gazed on now,\n",
    "Will be a totter'd weed of small worth held:\n",
    "Then being asked, where all thy beauty lies,\n",
    "Where all the treasure of thy lusty days;\n",
    "To say, within thine own deep sunken eyes,\n",
    "Were an all-eating shame, and thriftless praise.\n",
    "How much more praise deserv'd thy beauty's use,\n",
    "If thou couldst answer 'This fair child of mine\n",
    "Shall sum my count, and make my old excuse,'\n",
    "Proving his beauty by succession thine!\n",
    "This were to be new made when thou art old,\n",
    "And see thy blood warm when thou feel'st it cold.\"\"\".split()"
   ]
  },
  {
   "cell_type": "code",
   "execution_count": 4,
   "metadata": {},
   "outputs": [],
   "source": [
    "vocab = set(test_sentence)\n",
    "word_to_ix = {word: i for i, word in enumerate(vocab)}"
   ]
  },
  {
   "cell_type": "code",
   "execution_count": 6,
   "metadata": {},
   "outputs": [
    {
     "name": "stdout",
     "output_type": "stream",
     "text": [
      "tensor([[ 1.8197e-01, -1.2673e+00, -5.9425e-01, -1.4850e-01, -2.5285e-01],\n",
      "        [-1.3820e+00,  9.3916e-01,  3.5618e-01,  4.9380e-01, -1.0002e+00],\n",
      "        [-6.8304e-01, -8.3323e-01, -3.4162e-01,  7.1815e-01,  8.0668e-01],\n",
      "        [-7.7834e-01, -1.2114e-01,  3.7646e-01,  2.2569e+00, -4.6711e-01],\n",
      "        [ 1.3315e-01, -7.5470e-01, -1.6823e-01,  3.4665e-01, -1.1639e+00],\n",
      "        [ 4.7478e-01, -5.0918e-01,  1.6730e+00, -4.5682e-01, -8.1052e-02],\n",
      "        [ 8.7875e-01, -5.9558e-01, -2.3440e-01, -5.4519e-01,  2.7512e-01],\n",
      "        [-1.1834e+00, -8.2016e-01,  3.0568e-01,  1.3983e-01, -6.3713e-01],\n",
      "        [ 4.4416e-01,  4.8962e-01,  1.2514e+00, -1.7716e+00, -2.0931e-02],\n",
      "        [ 5.8456e-01,  6.1586e-01, -4.9985e-01, -8.8783e-01, -7.8470e-01],\n",
      "        [-5.2750e-01,  2.9954e-01, -3.9653e-01, -5.3095e-01,  9.3562e-01],\n",
      "        [-8.8727e-01,  7.5477e-01, -1.7974e+00,  9.0870e-01, -3.3137e-01],\n",
      "        [-3.4890e-01,  7.6789e-01, -3.3286e-01, -9.1728e-01, -3.3329e-01],\n",
      "        [-5.2900e-01,  1.8210e+00, -1.2991e+00, -1.4490e+00, -1.1117e+00],\n",
      "        [ 1.9441e+00,  8.5329e-01, -4.8797e-01,  4.7066e-01, -2.0690e-01],\n",
      "        [-9.5864e-01,  1.5239e+00,  4.9687e-02, -1.0363e-01, -1.4259e+00],\n",
      "        [-3.0865e-01, -3.0138e+00, -1.2482e+00, -4.7933e-01, -1.9467e-01],\n",
      "        [-1.3608e+00,  1.3796e+00, -2.7945e-01, -1.0715e+00, -4.0549e-01],\n",
      "        [ 9.9240e-01,  5.5031e-01, -2.3263e-01, -1.1291e+00, -2.2448e+00],\n",
      "        [-6.2453e-01,  1.6032e+00, -1.8161e+00,  8.7348e-01, -1.0497e+00],\n",
      "        [ 8.3407e-01,  1.5750e+00, -5.6191e-01, -1.8470e+00, -1.7370e-01],\n",
      "        [ 1.5378e+00, -1.1702e+00,  7.7830e-01, -2.6398e-01, -1.2449e+00],\n",
      "        [ 1.1790e+00, -2.0899e-01, -4.3749e-01,  5.8088e-01,  8.3936e-01],\n",
      "        [ 4.8905e-01, -1.5928e-01,  1.8958e-01,  6.5356e-01,  1.0295e+00],\n",
      "        [ 6.8570e-01, -6.0794e-01, -5.5948e-01, -1.0647e+00, -8.7338e-01],\n",
      "        [ 1.4443e-01, -1.1456e-01,  4.0308e-01,  9.0304e-01, -5.4764e-01],\n",
      "        [-8.6845e-01,  4.1864e-01,  7.1874e-01, -4.9183e-01,  6.3250e-01],\n",
      "        [ 4.4090e-01, -4.8222e-02,  1.4369e-01, -1.2343e+00,  9.6237e-03],\n",
      "        [-2.6102e-01,  4.0107e-01,  1.6719e-01, -6.5246e-01, -7.9559e-01],\n",
      "        [-2.4326e+00, -2.4962e-01,  7.3607e-03,  3.2084e-01,  8.5755e-01],\n",
      "        [-6.3947e-02,  1.6332e-01, -5.2410e-01,  4.9374e-01, -5.3601e-01],\n",
      "        [ 2.6986e-01,  4.0335e-01, -1.3365e+00,  1.0815e+00, -2.1976e-01],\n",
      "        [ 1.6428e+00, -5.7611e-02,  3.3120e-01,  1.0353e+00, -1.6316e-01],\n",
      "        [ 2.5800e-01,  8.2731e-01, -2.4230e-01,  1.4204e+00, -5.6789e-01],\n",
      "        [ 7.1993e-01,  7.5565e-01,  1.7704e-01,  1.4330e+00,  7.2444e-02],\n",
      "        [-7.7046e-01, -3.7336e-01,  7.1440e-01,  1.9289e+00,  4.3172e-01],\n",
      "        [ 5.0539e-01, -7.0118e-01, -1.4620e+00,  1.0287e+00,  7.7592e-01],\n",
      "        [-1.8130e+00, -3.1579e-01, -4.6178e-01,  4.6072e-01,  5.3582e-01],\n",
      "        [ 1.0058e+00, -5.1035e-01,  2.7901e-01, -5.3532e-01,  1.1382e+00],\n",
      "        [-9.2864e-02,  7.5527e-01, -8.2262e-01, -2.3407e-01, -1.9518e+00],\n",
      "        [-6.8899e-01, -4.3999e-01,  3.4968e-01, -9.7975e-01, -1.3293e+00],\n",
      "        [-9.8427e-01,  6.2864e-01, -4.1744e-01,  6.1133e-01, -1.2869e+00],\n",
      "        [-6.5024e-01,  1.0026e+00,  3.4872e-01, -4.2098e-01, -6.4504e-01],\n",
      "        [ 1.5778e+00,  6.0198e-01, -2.3251e+00,  2.7756e+00,  4.0078e-01],\n",
      "        [ 4.8548e-01, -1.7274e+00, -1.5487e+00,  6.3812e-01,  1.1120e+00],\n",
      "        [-9.4643e-01,  1.6345e+00,  1.2819e+00,  4.3976e-01, -4.8389e-01],\n",
      "        [-1.7124e+00,  1.1768e+00,  1.3506e+00,  1.8432e+00, -1.2497e+00],\n",
      "        [-1.1859e+00, -9.4936e-01,  1.8357e+00,  1.2282e+00,  1.2143e+00],\n",
      "        [-2.1520e-01,  1.5451e+00, -3.9323e-01,  9.3478e-01,  5.0409e-01],\n",
      "        [ 6.6534e-01, -6.0162e-01, -9.3260e-01, -6.6178e-01,  1.3849e+00],\n",
      "        [-1.8204e-01,  2.6609e-01, -1.2686e+00, -6.0004e-02,  1.2471e+00],\n",
      "        [-4.6735e-01,  2.9218e-01,  5.7505e-01,  4.7759e-01,  6.7971e-01],\n",
      "        [-5.2799e-01,  1.0699e+00, -1.0713e+00, -4.8272e-01,  6.8543e-01],\n",
      "        [ 2.5808e-01,  5.8197e-01, -3.8089e-01, -1.2363e+00,  1.5673e-01],\n",
      "        [ 6.1961e-01, -1.2436e-01,  1.6575e+00,  1.0078e+00,  1.3923e+00],\n",
      "        [-3.0234e-01, -8.1448e-01, -9.1669e-01,  5.4252e-01,  1.3378e+00],\n",
      "        [-4.0866e-01, -2.3702e+00, -2.1516e-02,  1.9320e+00,  3.3774e-01],\n",
      "        [-6.9402e-01, -3.8391e-01,  3.4689e-01,  7.6350e-01, -1.9245e-01],\n",
      "        [-6.8592e-01,  1.2803e+00,  8.9742e-01,  3.5555e-03, -2.3826e-01],\n",
      "        [-1.8412e+00, -6.5671e-02, -1.2895e+00,  5.9075e-02, -8.2610e-01],\n",
      "        [-6.7009e-01,  9.6200e-01, -1.6931e+00, -7.1018e-01,  8.1323e-01],\n",
      "        [ 9.0975e-02, -5.7014e-01,  5.3846e-01,  9.1875e-01, -1.1020e+00],\n",
      "        [ 1.5297e+00, -2.6117e-01,  8.0996e-02, -9.7508e-01,  7.9828e-01],\n",
      "        [-1.8805e-01,  9.7693e-02,  9.9620e-01, -1.3022e+00, -1.2149e+00],\n",
      "        [ 3.2928e-01,  3.7079e-01, -1.0255e+00,  1.1686e+00, -3.7791e-01],\n",
      "        [ 1.4156e-02, -6.4142e-01,  8.7677e-01, -6.8439e-01,  3.6302e-02],\n",
      "        [ 5.5979e-01,  9.9856e-01,  1.8609e-01,  4.1236e-01, -9.7460e-01],\n",
      "        [ 4.9444e-01,  2.5639e-02, -3.9241e-01,  3.1191e-01, -1.4183e+00],\n",
      "        [ 3.9768e-01,  7.0676e-01, -1.8458e+00, -8.0106e-01, -4.7428e-01],\n",
      "        [ 5.7737e-01,  1.7577e-01, -1.1705e+00, -9.8012e-01,  5.5552e-02],\n",
      "        [-6.2612e-01, -5.7936e-01,  6.9948e-01, -6.6051e-01,  5.6863e-01],\n",
      "        [ 3.7248e-01,  4.8524e-01,  8.4755e-02,  2.6196e-01, -9.1017e-01],\n",
      "        [ 1.0681e+00, -9.4928e-01, -7.2223e-01, -3.1376e-01,  1.2276e+00],\n",
      "        [-5.9290e-01, -3.3637e-01, -3.2089e-02,  1.3376e+00, -1.2658e+00],\n",
      "        [-2.0567e+00,  1.6701e+00, -1.5656e+00, -5.4497e-01,  3.1158e-01],\n",
      "        [ 5.9308e-01, -8.3254e-01,  1.2053e+00, -2.3208e-01,  3.5909e-01],\n",
      "        [ 2.1991e-01,  6.6767e-01,  6.3482e-01, -5.0827e-01,  4.1680e-01],\n",
      "        [-7.5422e-01,  7.9217e-01,  3.0253e-01, -1.4627e+00, -7.3234e-01],\n",
      "        [-1.0476e+00, -1.5175e+00, -1.6232e-01, -7.4177e-01, -7.8852e-01],\n",
      "        [-7.4092e-02, -1.0501e+00,  5.4539e-01,  1.2173e+00, -8.4675e-01],\n",
      "        [ 1.2649e+00, -2.3915e-01,  1.7528e+00, -1.3151e+00,  1.7259e-01],\n",
      "        [-8.7715e-02, -4.2182e-01, -1.1414e+00, -8.2367e-01, -1.5554e-02],\n",
      "        [ 1.0395e+00,  9.3720e-03, -1.9971e-01,  1.4666e+00, -1.7950e+00],\n",
      "        [-1.0096e+00, -1.0321e+00,  7.1395e-01, -1.5632e+00, -3.5908e-01],\n",
      "        [-8.1939e-01,  1.6901e+00,  2.5804e-01, -3.9455e+00,  1.4248e-01],\n",
      "        [ 9.4384e-01, -2.2580e-01,  4.6330e-01, -1.6465e+00, -8.8883e-01],\n",
      "        [ 1.7225e+00, -5.2207e-01,  2.7769e+00,  4.5333e-01,  1.0132e+00],\n",
      "        [ 2.8881e+00,  1.5409e+00, -4.5910e-01, -5.7628e-01,  9.9596e-01],\n",
      "        [ 9.3396e-01,  8.4311e-02,  2.0341e-01, -3.6050e-01, -1.1880e+00],\n",
      "        [-1.3643e+00,  5.8054e-01, -4.6488e-01, -5.5156e-01, -2.4631e-01],\n",
      "        [ 4.8169e-01, -6.8853e-01, -4.4599e-02, -8.0908e-01,  1.5097e-01],\n",
      "        [ 6.3669e-01,  7.8312e-01, -1.9224e+00, -1.0441e+00,  3.7568e-01],\n",
      "        [-9.4446e-01, -5.8704e-01, -2.5242e-01,  1.3006e+00,  1.0812e+00],\n",
      "        [ 5.3635e-01,  2.3483e+00, -2.9083e-01,  6.3281e-01, -1.2868e+00],\n",
      "        [-7.6861e-01, -4.3937e-01,  4.4948e-01, -2.0128e+00,  3.0877e+00],\n",
      "        [ 2.9216e+00, -1.5525e+00,  1.0192e+00,  6.0317e-02, -9.3970e-01],\n",
      "        [ 1.9988e-01, -3.9759e-01,  2.0582e+00,  1.5854e-03,  1.6362e-01]],\n",
      "       grad_fn=<EmbeddingBackward>)\n"
     ]
    }
   ],
   "source": [
    "embeds = nn.Embedding(len(vocab), 5)  # 2 words in vocab, 5 dimensional embeddings\n",
    "lookup_tensor = torch.tensor([ word_to_ix[w] for w in word_to_ix], dtype=torch.long)\n",
    "hello_embed = embeds(lookup_tensor)\n",
    "print(hello_embed)"
   ]
  },
  {
   "cell_type": "code",
   "execution_count": 10,
   "metadata": {},
   "outputs": [
    {
     "name": "stdout",
     "output_type": "stream",
     "text": [
      "tensor([[[ 0.0637,  0.3064,  0.0738]],\n",
      "\n",
      "        [[ 0.0136,  0.2445,  0.0861]],\n",
      "\n",
      "        [[ 0.2833,  0.0139, -0.0708]],\n",
      "\n",
      "        [[ 0.1037,  0.0319, -0.1022]],\n",
      "\n",
      "        [[-0.1818, -0.0321, -0.1054]]], grad_fn=<StackBackward>)\n",
      "(tensor([[[-0.1818, -0.0321, -0.1054]]], grad_fn=<StackBackward>), tensor([[[-0.2193, -0.0922, -0.1856]]], grad_fn=<StackBackward>))\n"
     ]
    }
   ],
   "source": [
    "lstm = nn.LSTM(3, 3)  # Input dim is 3, output dim is 3\n",
    "inputs = [torch.randn(1, 3) for _ in range(5)]  # make a sequence of length 5\n",
    "\n",
    "# initialize the hidden state.\n",
    "hidden = (torch.randn(1, 1, 3),\n",
    "          torch.randn(1, 1, 3))\n",
    "for i in inputs:\n",
    "    # Step through the sequence one element at a time.\n",
    "    # after each step, hidden contains the hidden state.\n",
    "    out, hidden = lstm(i.view(1, 1, -1), hidden)\n",
    "\n",
    "# alternatively, we can do the entire sequence all at once.\n",
    "# the first value returned by LSTM is all of the hidden states throughout\n",
    "# the sequence. the second is just the most recent hidden state\n",
    "# (compare the last slice of \"out\" with \"hidden\" below, they are the same)\n",
    "# The reason for this is that:\n",
    "# \"out\" will give you access to all hidden states in the sequence\n",
    "# \"hidden\" will allow you to continue the sequence and backpropagate,\n",
    "# by passing it as an argument  to the lstm at a later time\n",
    "# Add the extra 2nd dimension\n",
    "inputs = torch.cat(inputs).view(len(inputs), 1, -1)\n",
    "hidden = (torch.randn(1, 1, 3), torch.randn(1, 1, 3))  # clean out hidden state\n",
    "out, hidden = lstm(inputs, hidden)\n",
    "print(out)\n",
    "print(hidden)"
   ]
  },
  {
   "cell_type": "code",
   "execution_count": 27,
   "metadata": {},
   "outputs": [
    {
     "name": "stdout",
     "output_type": "stream",
     "text": [
      "{'The': 0, 'dog': 1, 'ate': 2, 'the': 3, 'apple': 4, 'Everybody': 5, 'read': 6, 'that': 7, 'book': 8}\n"
     ]
    }
   ],
   "source": [
    "def prepare_sequence(seq, to_ix):\n",
    "    idxs = [to_ix[w] for w in seq]\n",
    "    return torch.tensor(idxs, dtype=torch.long)\n",
    "\n",
    "\n",
    "training_data = [\n",
    "    # Tags are: DET - determiner; NN - noun; V - verb\n",
    "    # For example, the word \"The\" is a determiner\n",
    "    (\"The dog ate the apple\".split(), [\"DET\", \"NN\", \"V\", \"DET\", \"NN\"]),\n",
    "    (\"Everybody read that book\".split(), [\"NN\", \"V\", \"DET\", \"NN\"])\n",
    "]\n",
    "word_to_ix = {}\n",
    "# For each words-list (sentence) and tags-list in each tuple of training_data\n",
    "for sent, tags in training_data:\n",
    "    for word in sent:\n",
    "        if word not in word_to_ix:  # word has not been assigned an index yet\n",
    "            word_to_ix[word] = len(word_to_ix)  # Assign each word with a unique index\n",
    "print(word_to_ix)\n",
    "tag_to_ix = {\"DET\": 0, \"NN\": 1, \"V\": 2}  # Assign each tag with a unique index\n",
    "\n",
    "# These will usually be more like 32 or 64 dimensional.\n",
    "# We will keep them small, so we can see how the weights change as we train.\n",
    "EMBEDDING_DIM = 6\n",
    "HIDDEN_DIM = 6"
   ]
  },
  {
   "cell_type": "code",
   "execution_count": 28,
   "metadata": {},
   "outputs": [],
   "source": [
    "class LSTMTagger(nn.Module):\n",
    "\n",
    "    def __init__(self, embedding_dim, hidden_dim, vocab_size, tagset_size):\n",
    "        super(LSTMTagger, self).__init__()\n",
    "        self.hidden_dim = hidden_dim\n",
    "\n",
    "        self.word_embeddings = nn.Embedding(vocab_size, embedding_dim)\n",
    "\n",
    "        # The LSTM takes word embeddings as inputs, and outputs hidden states\n",
    "        # with dimensionality hidden_dim.\n",
    "        self.lstm = nn.LSTM(embedding_dim, hidden_dim)\n",
    "\n",
    "        # The linear layer that maps from hidden state space to tag space\n",
    "        self.hidden2tag = nn.Linear(hidden_dim, tagset_size)\n",
    "\n",
    "    def forward(self, sentence):\n",
    "        embeds = self.word_embeddings(sentence)\n",
    "        lstm_out, _ = self.lstm(embeds.view(len(sentence), 1, -1))\n",
    "        tag_space = self.hidden2tag(lstm_out.view(len(sentence), -1))\n",
    "        tag_scores = F.log_softmax(tag_space, dim=1)\n",
    "        return tag_scores"
   ]
  },
  {
   "cell_type": "code",
   "execution_count": 29,
   "metadata": {},
   "outputs": [
    {
     "data": {
      "text/plain": [
       "(['The', 'dog', 'ate', 'the', 'apple'], ['DET', 'NN', 'V', 'DET', 'NN'])"
      ]
     },
     "execution_count": 29,
     "metadata": {},
     "output_type": "execute_result"
    }
   ],
   "source": [
    "training_data[0]"
   ]
  },
  {
   "cell_type": "code",
   "execution_count": 30,
   "metadata": {},
   "outputs": [
    {
     "name": "stdout",
     "output_type": "stream",
     "text": [
      "tensor([[-0.9255, -1.1150, -1.2883],\n",
      "        [-0.9011, -1.0753, -1.3756],\n",
      "        [-0.9077, -1.0948, -1.3396],\n",
      "        [-0.8726, -1.0482, -1.4629],\n",
      "        [-0.9126, -1.1718, -1.2423]])\n",
      "tensor([[-0.0518, -3.0430, -5.8769],\n",
      "        [-3.8572, -0.0406, -3.9820],\n",
      "        [-5.7582, -2.5251, -0.0869],\n",
      "        [-0.1053, -2.3963, -4.7273],\n",
      "        [-3.8658, -0.0464, -3.7141]])\n"
     ]
    }
   ],
   "source": [
    "model = LSTMTagger(EMBEDDING_DIM, HIDDEN_DIM, len(word_to_ix), len(tag_to_ix))\n",
    "loss_function = nn.NLLLoss()\n",
    "optimizer = optim.SGD(model.parameters(), lr=0.1)\n",
    "\n",
    "# See what the scores are before training\n",
    "# Note that element i,j of the output is the score for tag j for word i.\n",
    "# Here we don't need to train, so the code is wrapped in torch.no_grad()\n",
    "with torch.no_grad():\n",
    "    inputs = prepare_sequence(training_data[0][0], word_to_ix)\n",
    "    tag_scores = model(inputs)\n",
    "    print(tag_scores)\n",
    "\n",
    "for epoch in range(300):  # again, normally you would NOT do 300 epochs, it is toy data\n",
    "    for sentence, tags in training_data:\n",
    "        # Step 1. Remember that Pytorch accumulates gradients.\n",
    "        # We need to clear them out before each instance\n",
    "        model.zero_grad()\n",
    "\n",
    "        # Step 2. Get our inputs ready for the network, that is, turn them into\n",
    "        # Tensors of word indices.\n",
    "        sentence_in = prepare_sequence(sentence, word_to_ix)\n",
    "        targets = prepare_sequence(tags, tag_to_ix)\n",
    "\n",
    "        # Step 3. Run our forward pass.\n",
    "        tag_scores = model(sentence_in)\n",
    "\n",
    "        # Step 4. Compute the loss, gradients, and update the parameters by\n",
    "        #  calling optimizer.step()\n",
    "        loss = loss_function(tag_scores, targets)\n",
    "        loss.backward()\n",
    "        optimizer.step()\n",
    "\n",
    "# See what the scores are after training\n",
    "with torch.no_grad():\n",
    "    inputs = prepare_sequence(training_data[0][0], word_to_ix)\n",
    "    tag_scores = model(inputs)\n",
    "\n",
    "    # The sentence is \"the dog ate the apple\".  i,j corresponds to score for tag j\n",
    "    # for word i. The predicted tag is the maximum scoring tag.\n",
    "    # Here, we can see the predicted sequence below is 0 1 2 0 1\n",
    "    # since 0 is index of the maximum value of row 1,\n",
    "    # 1 is the index of maximum value of row 2, etc.\n",
    "    # Which is DET NOUN VERB DET NOUN, the correct sequence!\n",
    "    print(tag_scores)"
   ]
  },
  {
   "cell_type": "code",
   "execution_count": null,
   "metadata": {},
   "outputs": [],
   "source": []
  },
  {
   "cell_type": "code",
   "execution_count": null,
   "metadata": {},
   "outputs": [],
   "source": []
  },
  {
   "cell_type": "code",
   "execution_count": null,
   "metadata": {},
   "outputs": [],
   "source": []
  },
  {
   "cell_type": "code",
   "execution_count": null,
   "metadata": {},
   "outputs": [],
   "source": []
  },
  {
   "cell_type": "markdown",
   "metadata": {},
   "source": [
    "## Convolutional NN on MINST"
   ]
  },
  {
   "cell_type": "code",
   "execution_count": 1,
   "metadata": {},
   "outputs": [],
   "source": [
    "import numpy as np\n",
    "import pandas as pd\n",
    "from sklearn import tree\n",
    "from sklearn.metrics import accuracy_score\n",
    "from sklearn.ensemble import RandomForestClassifier\n",
    "from sklearn.model_selection import train_test_split\n",
    "import random\n",
    "import math\n",
    "from torch.utils.tensorboard import SummaryWriter\n",
    "from matplotlib import pyplot\n",
    "\n",
    "\n",
    "from pathlib import Path\n",
    "import requests\n",
    "import pickle\n",
    "import gzip\n",
    "\n",
    "import torch\n",
    "import math\n",
    "import torch.nn.functional as F\n",
    "from torch import nn\n",
    "from torch import optim\n",
    "import torchvision\n",
    "import torchvision.transforms as transforms\n",
    "from torch.utils.data import TensorDataset\n",
    "from torch.utils.data import DataLoader\n",
    "from torch.autograd import Variable\n",
    "pd.options.display.float_format = \"{:,.4f}\".format"
   ]
  },
  {
   "cell_type": "code",
   "execution_count": 83,
   "metadata": {},
   "outputs": [],
   "source": [
    "from keras.datasets import mnist\n",
    "(X_train, y_train), (X_test, y_test) = mnist.load_data()\n",
    "\n"
   ]
  },
  {
   "cell_type": "code",
   "execution_count": 84,
   "metadata": {},
   "outputs": [
    {
     "name": "stdout",
     "output_type": "stream",
     "text": [
      "Training X matrix shape (60000, 784)\n",
      "Testing X matrix shape (10000, 784)\n"
     ]
    }
   ],
   "source": [
    "X_train = X_train.reshape(X_train.shape[0], 784)\n",
    "X_test = X_test.reshape(X_test.shape[0], 784)\n",
    "X_train = X_train.astype('float32') \n",
    "X_test  = X_test.astype('float32')\n",
    "X_train /= 255 # Original data is uint8 (0-255). Scale it to range [0,1].\n",
    "X_test  /= 255\n",
    "print(\"Training X matrix shape\", X_train.shape)\n",
    "print(\"Testing X matrix shape\", X_test.shape) "
   ]
  },
  {
   "cell_type": "code",
   "execution_count": 85,
   "metadata": {},
   "outputs": [],
   "source": [
    "batch_size = 32\n",
    "\n",
    "torch_X_train = torch.from_numpy(X_train)\n",
    "torch_y_train = torch.from_numpy(y_train).type(torch.LongTensor) # data type is long\n",
    "\n",
    "# create feature and targets tensor for test set.\n",
    "torch_X_test = torch.from_numpy(X_test)\n",
    "torch_y_test = torch.from_numpy(y_test).type(torch.LongTensor) # data type is long\n",
    "\n",
    "# Pytorch train and test sets\n",
    "# train = torch.utils.data.TensorDataset(torch_X_train,torch_y_train)\n",
    "# test = torch.utils.data.TensorDataset(torch_X_test,torch_y_test)\n",
    "\n",
    "# data loader\n",
    "# train_loader = torch.utils.data.DataLoader(train, batch_size = batch_size, shuffle = True)\n",
    "# test_loader = torch.utils.data.DataLoader(test, batch_size = batch_size, shuffle = True)"
   ]
  },
  {
   "cell_type": "code",
   "execution_count": 78,
   "metadata": {},
   "outputs": [
    {
     "name": "stdout",
     "output_type": "stream",
     "text": [
      "torch.Size([60000, 1, 28, 28])\n",
      "torch.Size([10000, 1, 28, 28])\n"
     ]
    }
   ],
   "source": [
    "torch_X_train = torch_X_train.view(-1, 1,28,28).float()\n",
    "torch_X_test = torch_X_test.view(-1,1,28,28).float()\n",
    "print(torch_X_train.shape)\n",
    "print(torch_X_test.shape)"
   ]
  },
  {
   "cell_type": "code",
   "execution_count": 85,
   "metadata": {},
   "outputs": [
    {
     "data": {
      "text/plain": [
       "784"
      ]
     },
     "execution_count": 85,
     "metadata": {},
     "output_type": "execute_result"
    }
   ],
   "source": [
    "28*28"
   ]
  },
  {
   "cell_type": "code",
   "execution_count": 86,
   "metadata": {},
   "outputs": [],
   "source": [
    "class Net2nn(nn.Module):\n",
    "    def __init__(self):\n",
    "        super(Net2nn, self).__init__()\n",
    "        self.fc1 = nn.Linear(784, 200)\n",
    "        self.fc2 = nn.Linear(200, 200)\n",
    "        self.fc3 = nn.Linear(200, 10)\n",
    "\n",
    "    def forward(self, x):\n",
    "        x = F.relu(self.fc1(x))\n",
    "        x = F.relu(self.fc2(x))\n",
    "        x = self.fc3(x)\n",
    "        return x"
   ]
  },
  {
   "cell_type": "code",
   "execution_count": 4,
   "metadata": {},
   "outputs": [],
   "source": [
    "class CNN(nn.Module):   \n",
    "    def __init__(self):\n",
    "        super(CNN, self).__init__()\n",
    "        self.conv1 = nn.Conv2d(1, 32, kernel_size=5)\n",
    "        self.conv2 = nn.Conv2d(32, 32, kernel_size=5)\n",
    "        self.conv3 = nn.Conv2d(32,64, kernel_size=5)\n",
    "        self.fc1 = nn.Linear(3*3*64, 256)\n",
    "        self.fc2 = nn.Linear(256, 10)\n",
    "\n",
    "    def forward(self, x):\n",
    "        x = F.relu(self.conv1(x))\n",
    "        #x = F.dropout(x, p=0.5, training=self.training)\n",
    "        x = F.relu(F.max_pool2d(self.conv2(x), 2))\n",
    "        x = F.dropout(x, p=0.5, training=self.training)\n",
    "        x = F.relu(F.max_pool2d(self.conv3(x),2))\n",
    "        x = F.dropout(x, p=0.5, training=self.training)\n",
    "        x = x.view(-1,3*3*64 )\n",
    "        x = F.relu(self.fc1(x))\n",
    "        x = F.dropout(x, training=self.training)\n",
    "        x = self.fc2(x)\n",
    "        return F.log_softmax(x, dim=1)"
   ]
  },
  {
   "cell_type": "code",
   "execution_count": 27,
   "metadata": {},
   "outputs": [],
   "source": [
    "class CNN(nn.Module): \n",
    "    def __init__(self):\n",
    "        super(CNN, self).__init__()\n",
    "        \n",
    "        # Convolution 1\n",
    "        self.cnn1 = nn.Conv2d(in_channels=1, out_channels=16, kernel_size=3, stride=1, padding=0)\n",
    "        self.relu1 = nn.ReLU()\n",
    "        \n",
    "        # Max pool 1\n",
    "        self.maxpool1 = nn.MaxPool2d(kernel_size=2)\n",
    "     \n",
    "        # Convolution 2\n",
    "        self.cnn2 = nn.Conv2d(in_channels=16, out_channels=32, kernel_size=3, stride=1, padding=0)\n",
    "        self.relu2 = nn.ReLU()\n",
    "        \n",
    "        # Max pool 2\n",
    "        self.maxpool2 = nn.MaxPool2d(kernel_size=2)\n",
    "        \n",
    "        # Fully connected 1\n",
    "        self.fc1 = nn.Linear(32 * 5 * 5, 10) \n",
    "    \n",
    "    def forward(self, x):\n",
    "        # Set 1\n",
    "        out = self.cnn1(x)\n",
    "        out = self.relu1(out)\n",
    "        out = self.maxpool1(out)\n",
    "        \n",
    "        # Set 2\n",
    "        out = self.cnn2(out)\n",
    "        out = self.relu2(out)\n",
    "        out = self.maxpool2(out)\n",
    "        \n",
    "        #Flatten\n",
    "        out = out.view(out.size(0), -1)\n",
    "\n",
    "        #Dense\n",
    "        out = self.fc1(out)\n",
    "        \n",
    "        return out\n"
   ]
  },
  {
   "cell_type": "code",
   "execution_count": 55,
   "metadata": {},
   "outputs": [],
   "source": [
    "def train(model, train_loader, criterion, optimizer):\n",
    "    model.train()\n",
    "    train_loss = 0.0\n",
    "    correct = 0\n",
    "\n",
    "    for idx, (data, target) in enumerate(train_loader):\n",
    "        output = model(data)\n",
    "        loss = criterion(output, target)\n",
    "        optimizer.zero_grad()\n",
    "        loss.backward()\n",
    "        optimizer.step()\n",
    "        \n",
    "        train_loss += loss.item()\n",
    "        prediction = output.argmax(dim=1, keepdim=True)\n",
    "        correct += prediction.eq(target.view_as(prediction)).sum().item()  \n",
    "        \n",
    "    return train_loss / len(train_loader), correct/len(train_loader.dataset)"
   ]
  },
  {
   "cell_type": "code",
   "execution_count": 56,
   "metadata": {},
   "outputs": [],
   "source": [
    "def validation(model, test_loader, criterion):\n",
    "    model.eval()\n",
    "    test_loss = 0.0\n",
    "    correct = 0\n",
    "    with torch.no_grad():\n",
    "        for data, target in test_loader:\n",
    "            output = model(data)\n",
    "            \n",
    "            test_loss += criterion(output, Variable(target)).item()\n",
    "            prediction = output.argmax(dim=1, keepdim=True)\n",
    "            correct += prediction.eq(target.view_as(prediction)).sum().item()\n",
    "\n",
    "    test_loss /= len(test_loader)\n",
    "    correct /= len(test_loader.dataset)\n",
    "\n",
    "    return (test_loss, correct)"
   ]
  },
  {
   "cell_type": "code",
   "execution_count": 137,
   "metadata": {},
   "outputs": [],
   "source": [
    "centralized_model = Net2nn()\n",
    "centralized_optimizer = torch.optim.SGD(centralized_model.parameters(), lr=0.01, momentum=0.9)\n",
    "centralized_criterion = nn.CrossEntropyLoss()"
   ]
  },
  {
   "cell_type": "code",
   "execution_count": 41,
   "metadata": {},
   "outputs": [],
   "source": [
    "centralized_model = CNN()\n",
    "centralized_optimizer = torch.optim.SGD(centralized_model.parameters(), lr=0.01, momentum=0.9)\n",
    "centralized_criterion = nn.CrossEntropyLoss()"
   ]
  },
  {
   "cell_type": "code",
   "execution_count": 93,
   "metadata": {},
   "outputs": [
    {
     "data": {
      "text/plain": [
       "(torch.Size([60000, 784]),\n",
       " torch.Size([10000, 784]),\n",
       " torch.Size([60000]),\n",
       " torch.Size([10000]))"
      ]
     },
     "execution_count": 93,
     "metadata": {},
     "output_type": "execute_result"
    }
   ],
   "source": [
    "torch_X_train.shape,torch_X_test.shape,torch_y_train.shape,torch_y_test.shape"
   ]
  },
  {
   "cell_type": "code",
   "execution_count": 95,
   "metadata": {},
   "outputs": [
    {
     "data": {
      "text/plain": [
       "('torch.FloatTensor',\n",
       " 'torch.FloatTensor',\n",
       " 'torch.LongTensor',\n",
       " 'torch.LongTensor')"
      ]
     },
     "execution_count": 95,
     "metadata": {},
     "output_type": "execute_result"
    }
   ],
   "source": [
    "torch_X_train.type(),torch_X_test.type(),torch_y_train.type(),torch_y_test.type()"
   ]
  },
  {
   "cell_type": "code",
   "execution_count": 43,
   "metadata": {},
   "outputs": [],
   "source": [
    "torch_X_train = torch_X_train.reshape(60000,784)*255\n",
    "torch_X_test = torch_X_test.reshape(10000,784)*255"
   ]
  },
  {
   "cell_type": "code",
   "execution_count": 135,
   "metadata": {},
   "outputs": [],
   "source": [
    "train_ds = TensorDataset(torch_X_train, torch_y_train)\n",
    "train_dl = DataLoader(train_ds, batch_size=batch_size, shuffle=True)\n",
    "\n",
    "# valid_ds = TensorDataset(x_valid, y_valid)\n",
    "# valid_dl = DataLoader(valid_ds, batch_size=batch_size)\n",
    "\n",
    "test_ds = TensorDataset(torch_X_test, torch_y_test)\n",
    "test_dl = DataLoader(test_ds, batch_size=batch_size, shuffle=True)"
   ]
  },
  {
   "cell_type": "code",
   "execution_count": 80,
   "metadata": {},
   "outputs": [
    {
     "data": {
      "text/plain": [
       "'torch.FloatTensor'"
      ]
     },
     "execution_count": 80,
     "metadata": {},
     "output_type": "execute_result"
    }
   ],
   "source": [
    "torch_X_train.type()"
   ]
  },
  {
   "cell_type": "code",
   "execution_count": 97,
   "metadata": {},
   "outputs": [],
   "source": [
    "numEpoch=5"
   ]
  },
  {
   "cell_type": "code",
   "execution_count": 138,
   "metadata": {},
   "outputs": [
    {
     "name": "stdout",
     "output_type": "stream",
     "text": [
      "------ Centralized Model ------\n",
      "epoch:   1 | train accuracy:  0.8911 | test accuracy:  0.9539\n",
      "epoch:   2 | train accuracy:  0.9621 | test accuracy:  0.9669\n",
      "epoch:   3 | train accuracy:  0.9747 | test accuracy:  0.9719\n",
      "epoch:   4 | train accuracy:  0.9807 | test accuracy:  0.9776\n",
      "epoch:   5 | train accuracy:  0.9844 | test accuracy:  0.9746\n",
      "------ Training finished ------\n"
     ]
    }
   ],
   "source": [
    "print(\"------ Centralized Model ------\")\n",
    "for epoch in range(numEpoch):\n",
    "    central_train_loss, central_train_accuracy = train(centralized_model, train_dl, centralized_criterion, centralized_optimizer)\n",
    "    central_test_loss, central_test_accuracy = validation(centralized_model, test_dl, centralized_criterion)\n",
    "    \n",
    "    print(\"epoch: {:3.0f}\".format(epoch+1) + \" | train accuracy: {:7.4f}\".format(central_train_accuracy) + \" | test accuracy: {:7.4f}\".format(central_test_accuracy))\n",
    "\n",
    "print(\"------ Training finished ------\")"
   ]
  },
  {
   "cell_type": "code",
   "execution_count": 109,
   "metadata": {},
   "outputs": [],
   "source": [
    "torch_X_train_cnn = torch_X_train.reshape(-1, 1,28,28)\n",
    "torch_X_test_cnn = torch_X_test.reshape(-1, 1,28,28)"
   ]
  },
  {
   "cell_type": "code",
   "execution_count": 110,
   "metadata": {},
   "outputs": [
    {
     "data": {
      "text/plain": [
       "(torch.Size([60000, 1, 28, 28]),\n",
       " torch.Size([10000, 1, 28, 28]),\n",
       " torch.Size([60000]),\n",
       " torch.Size([10000]))"
      ]
     },
     "execution_count": 110,
     "metadata": {},
     "output_type": "execute_result"
    }
   ],
   "source": [
    "torch_X_train_cnn.shape,torch_X_test_cnn.shape,torch_y_train.shape,torch_y_test.shape"
   ]
  },
  {
   "cell_type": "code",
   "execution_count": 111,
   "metadata": {},
   "outputs": [
    {
     "data": {
      "text/plain": [
       "('torch.FloatTensor',\n",
       " 'torch.FloatTensor',\n",
       " 'torch.LongTensor',\n",
       " 'torch.LongTensor')"
      ]
     },
     "execution_count": 111,
     "metadata": {},
     "output_type": "execute_result"
    }
   ],
   "source": [
    "torch_X_train_cnn.type(),torch_X_test_cnn.type(),torch_y_train.type(),torch_y_test.type()"
   ]
  },
  {
   "cell_type": "code",
   "execution_count": 115,
   "metadata": {},
   "outputs": [],
   "source": [
    "train_ds = TensorDataset(torch_X_train_cnn, torch_y_train)\n",
    "train_dl = DataLoader(train_ds, batch_size=batch_size, shuffle=False)\n",
    "\n",
    "# valid_ds = TensorDataset(x_valid, y_valid)\n",
    "# valid_dl = DataLoader(valid_ds, batch_size=batch_size)\n",
    "\n",
    "test_ds = TensorDataset(torch_X_test_cnn, torch_y_test)\n",
    "test_dl = DataLoader(test_ds, batch_size=batch_size*2, shuffle=False)"
   ]
  },
  {
   "cell_type": "code",
   "execution_count": 116,
   "metadata": {},
   "outputs": [],
   "source": [
    "centralized_model = CNN()\n",
    "centralized_optimizer = torch.optim.SGD(centralized_model.parameters(), lr=0.01, momentum=0.9)\n",
    "centralized_criterion = nn.CrossEntropyLoss()"
   ]
  },
  {
   "cell_type": "code",
   "execution_count": 117,
   "metadata": {},
   "outputs": [
    {
     "name": "stdout",
     "output_type": "stream",
     "text": [
      "------ Centralized Model ------\n",
      "epoch:   1 | train accuracy:  0.9406 | test accuracy:  0.9700\n",
      "epoch:   2 | train accuracy:  0.9788 | test accuracy:  0.9779\n",
      "epoch:   3 | train accuracy:  0.9843 | test accuracy:  0.9832\n",
      "epoch:   4 | train accuracy:  0.9871 | test accuracy:  0.9857\n",
      "epoch:   5 | train accuracy:  0.9889 | test accuracy:  0.9864\n",
      "------ Training finished ------\n"
     ]
    }
   ],
   "source": [
    "print(\"------ Centralized Model ------\")\n",
    "for epoch in range(numEpoch):\n",
    "    central_train_loss, central_train_accuracy = train(centralized_model, train_dl, centralized_criterion, centralized_optimizer)\n",
    "    central_test_loss, central_test_accuracy = validation(centralized_model, test_dl, centralized_criterion)\n",
    "    \n",
    "    print(\"epoch: {:3.0f}\".format(epoch+1) + \" | train accuracy: {:7.4f}\".format(central_train_accuracy) + \" | test accuracy: {:7.4f}\".format(central_test_accuracy))\n",
    "\n",
    "print(\"------ Training finished ------\")"
   ]
  },
  {
   "cell_type": "code",
   "execution_count": null,
   "metadata": {},
   "outputs": [],
   "source": [
    "centralized_model.cnn1.weight.data"
   ]
  },
  {
   "cell_type": "code",
   "execution_count": 127,
   "metadata": {},
   "outputs": [
    {
     "data": {
      "text/plain": [
       "<generator object Module.parameters at 0x7f21f13e2580>"
      ]
     },
     "execution_count": 127,
     "metadata": {},
     "output_type": "execute_result"
    }
   ],
   "source": [
    "a."
   ]
  },
  {
   "cell_type": "code",
   "execution_count": 134,
   "metadata": {},
   "outputs": [
    {
     "data": {
      "text/plain": [
       "tensor([[-1.8593e-02, -6.3795e-02, -7.5633e-02,  ..., -1.7269e-02,\n",
       "         -1.8003e-02,  9.0840e-03],\n",
       "        [ 2.8413e-02,  1.5507e-01,  8.2361e-02,  ..., -8.8406e-03,\n",
       "          3.2208e-02,  3.3335e-02],\n",
       "        [-4.6236e-02,  3.3244e-02,  8.5386e-02,  ...,  2.8067e-02,\n",
       "         -1.8551e-02, -3.5313e-02],\n",
       "        ...,\n",
       "        [-1.6281e-04, -1.0020e-01, -8.1097e-02,  ..., -2.3337e-02,\n",
       "          3.1707e-02, -2.4676e-02],\n",
       "        [-5.8024e-03, -1.8188e-01, -8.8518e-02,  ...,  7.3785e-03,\n",
       "         -7.3470e-03, -1.1191e-02],\n",
       "        [-7.6109e-02, -1.3122e-01, -1.4460e-01,  ..., -2.2987e-02,\n",
       "         -2.4031e-02,  1.7256e-02]])"
      ]
     },
     "execution_count": 134,
     "metadata": {},
     "output_type": "execute_result"
    }
   ],
   "source": [
    "centralized_model.cnn1.weight.data\n",
    "centralized_model.cnn2.weight.data\n",
    "centralized_model.fc1.weight.data"
   ]
  }
 ],
 "metadata": {
  "kernelspec": {
   "display_name": "Python 3",
   "language": "python",
   "name": "python3"
  },
  "language_info": {
   "codemirror_mode": {
    "name": "ipython",
    "version": 3
   },
   "file_extension": ".py",
   "mimetype": "text/x-python",
   "name": "python",
   "nbconvert_exporter": "python",
   "pygments_lexer": "ipython3",
   "version": "3.8.5"
  }
 },
 "nbformat": 4,
 "nbformat_minor": 4
}
