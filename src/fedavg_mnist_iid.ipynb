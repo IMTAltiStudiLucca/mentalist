{
 "cells": [
  {
   "cell_type": "code",
   "execution_count": null,
   "metadata": {
    "id": "Xnes_py1BgpP"
   },
   "outputs": [],
   "source": []
  },
  {
   "cell_type": "markdown",
   "metadata": {
    "id": "hOOUoQP535i7"
   },
   "source": [
    "## <font color=#6B49F5> A Simple Implementation of FedAvg with PyTorch on IID Data </font> \n",
    "Please see https://towardsdatascience.com/federated-learning-a-simple-implementation-of-fedavg-federated-averaging-with-pytorch-90187c9c9577 for more details."
   ]
  },
  {
   "cell_type": "code",
   "execution_count": 2,
   "metadata": {
    "colab": {
     "base_uri": "https://localhost:8080/"
    },
    "id": "BsSjYc1t3_Vm",
    "outputId": "400ace57-cb01-4ecd-8be1-e855bc36fc47"
   },
   "outputs": [
    {
     "name": "stdout",
     "output_type": "stream",
     "text": [
      "Requirement already satisfied: torch in /usr/local/lib/python3.6/dist-packages (1.7.0+cu101)\n",
      "Requirement already satisfied: future in /usr/local/lib/python3.6/dist-packages (from torch) (0.16.0)\n",
      "Requirement already satisfied: numpy in /usr/local/lib/python3.6/dist-packages (from torch) (1.18.5)\n",
      "Requirement already satisfied: typing-extensions in /usr/local/lib/python3.6/dist-packages (from torch) (3.7.4.3)\n",
      "Requirement already satisfied: dataclasses in /usr/local/lib/python3.6/dist-packages (from torch) (0.8)\n"
     ]
    }
   ],
   "source": [
    "\n",
    "!pip install torch"
   ]
  },
  {
   "cell_type": "code",
   "execution_count": 1,
   "metadata": {
    "id": "ew10_SD-35jH"
   },
   "outputs": [],
   "source": [
    "import numpy as np\n",
    "import pandas as pd\n",
    "from sklearn import tree\n",
    "from sklearn.metrics import accuracy_score\n",
    "from sklearn.ensemble import RandomForestClassifier\n",
    "from sklearn.model_selection import train_test_split\n",
    "import random\n",
    "import math\n",
    "from torch.utils.tensorboard import SummaryWriter\n",
    "from matplotlib import pyplot\n",
    "\n",
    "\n",
    "from pathlib import Path\n",
    "import requests\n",
    "import pickle\n",
    "import gzip\n",
    "\n",
    "import torch\n",
    "import math\n",
    "import torch.nn.functional as F\n",
    "from torch import nn\n",
    "from torch import optim\n",
    "import torchvision\n",
    "import torchvision.transforms as transforms\n",
    "from torch.utils.data import TensorDataset\n",
    "from torch.utils.data import DataLoader\n",
    "\n",
    "pd.options.display.float_format = \"{:,.4f}\".format"
   ]
  },
  {
   "cell_type": "code",
   "execution_count": 2,
   "metadata": {
    "colab": {
     "base_uri": "https://localhost:8080/"
    },
    "id": "Gjr-9Ct74byr",
    "outputId": "215f6d45-c459-401a-8a04-4267df3ea817"
   },
   "outputs": [],
   "source": [
    "from keras.datasets import mnist,cifar10\n",
    "(train_X, train_y), (test_X, test_y) = cifar10.load_data()\n",
    "\n"
   ]
  },
  {
   "cell_type": "code",
   "execution_count": 64,
   "metadata": {},
   "outputs": [],
   "source": [
    "transform = transforms.Compose(\n",
    "    [transforms.ToTensor(),\n",
    "     transforms.Normalize((0.5, 0.5, 0.5), (0.5, 0.5, 0.5))])\n",
    "\n",
    "batch_size = 32"
   ]
  },
  {
   "cell_type": "code",
   "execution_count": 65,
   "metadata": {},
   "outputs": [
    {
     "name": "stdout",
     "output_type": "stream",
     "text": [
      "Files already downloaded and verified\n",
      "Files already downloaded and verified\n"
     ]
    }
   ],
   "source": [
    "trainset = torchvision.datasets.CIFAR10(root='./data', train=True,\n",
    "                                        download=True, transform=transform)\n",
    "trainloader = torch.utils.data.DataLoader(trainset, batch_size=batch_size,\n",
    "                                          shuffle=True, num_workers=2)\n",
    "\n",
    "testset = torchvision.datasets.CIFAR10(root='./data', train=False,\n",
    "                                       download=True, transform=transform)\n",
    "testloader = torch.utils.data.DataLoader(testset, batch_size=batch_size,\n",
    "                                         shuffle=False, num_workers=2)\n",
    "\n",
    "classes = ('plane', 'car', 'bird', 'cat',\n",
    "           'deer', 'dog', 'frog', 'horse', 'ship', 'truck')"
   ]
  },
  {
   "cell_type": "code",
   "execution_count": 3,
   "metadata": {
    "colab": {
     "base_uri": "https://localhost:8080/"
    },
    "id": "xqP5RYST4p6d",
    "outputId": "40559a0d-53f1-431d-a87e-c801a3ab725d"
   },
   "outputs": [
    {
     "name": "stdout",
     "output_type": "stream",
     "text": [
      "X_train: (50000, 32, 32, 3)\n",
      "Y_train: (50000, 1)\n",
      "X_test:  (10000, 32, 32, 3)\n",
      "Y_test:  (10000, 1)\n"
     ]
    }
   ],
   "source": [
    "print('X_train: ' + str(train_X.shape))\n",
    "print('Y_train: ' + str(train_y.shape))\n",
    "print('X_test:  '  + str(test_X.shape))\n",
    "print('Y_test:  '  + str(test_y.shape))\n"
   ]
  },
  {
   "cell_type": "code",
   "execution_count": 75,
   "metadata": {
    "id": "vd87hWpV5Ekg"
   },
   "outputs": [],
   "source": [
    "X_train = train_X.reshape(50000, 32*32*3)"
   ]
  },
  {
   "cell_type": "code",
   "execution_count": null,
   "metadata": {
    "id": "4dXWnnb768d-"
   },
   "outputs": [],
   "source": []
  },
  {
   "cell_type": "code",
   "execution_count": 7,
   "metadata": {
    "id": "-jxO9gz05wVL"
   },
   "outputs": [],
   "source": [
    "\n",
    "X_test  = test_X.reshape(10000, 784)"
   ]
  },
  {
   "cell_type": "code",
   "execution_count": 8,
   "metadata": {
    "colab": {
     "base_uri": "https://localhost:8080/"
    },
    "id": "IX0XxAES57M7",
    "outputId": "18693f8a-aebe-4349-b4c8-9b1408d6d7ed"
   },
   "outputs": [
    {
     "data": {
      "text/plain": [
       "(60000, 784)"
      ]
     },
     "execution_count": 8,
     "metadata": {},
     "output_type": "execute_result"
    }
   ],
   "source": [
    "X_train.shape"
   ]
  },
  {
   "cell_type": "code",
   "execution_count": 4,
   "metadata": {
    "colab": {
     "base_uri": "https://localhost:8080/"
    },
    "id": "3L5fhTuC5zHD",
    "outputId": "a0d34913-0102-4a03-a02b-b0d60152d06e"
   },
   "outputs": [
    {
     "name": "stdout",
     "output_type": "stream",
     "text": [
      "Training X matrix shape (50000, 32, 32, 3)\n",
      "Testing X matrix shape (10000, 32, 32, 3)\n"
     ]
    }
   ],
   "source": [
    "X_train = train_X.astype('float32') \n",
    "X_test  = test_X.astype('float32')\n",
    "X_train /= 255 # Original data is uint8 (0-255). Scale it to range [0,1].\n",
    "X_test  /= 255\n",
    "print(\"Training X matrix shape\", X_train.shape)\n",
    "print(\"Testing X matrix shape\", X_test.shape)"
   ]
  },
  {
   "cell_type": "code",
   "execution_count": 10,
   "metadata": {
    "colab": {
     "base_uri": "https://localhost:8080/"
    },
    "id": "SWCUuO6u7N7Q",
    "outputId": "cad6d60d-aa9c-49a2-b251-70119a19c5b2"
   },
   "outputs": [
    {
     "data": {
      "text/plain": [
       "(60000,)"
      ]
     },
     "execution_count": 10,
     "metadata": {},
     "output_type": "execute_result"
    }
   ],
   "source": [
    "train_y.shape"
   ]
  },
  {
   "cell_type": "code",
   "execution_count": 5,
   "metadata": {
    "id": "PzZYUwJQ6hIf"
   },
   "outputs": [],
   "source": [
    "X_train, X_val, y_train, y_val = train_test_split(X_train, train_y, test_size=10000, random_state=1) # 0.25 x 0.8 = 0.2"
   ]
  },
  {
   "cell_type": "code",
   "execution_count": 6,
   "metadata": {
    "id": "KOhgq8SD7pn9"
   },
   "outputs": [],
   "source": [
    "y_test = test_y"
   ]
  },
  {
   "cell_type": "code",
   "execution_count": 7,
   "metadata": {
    "colab": {
     "base_uri": "https://localhost:8080/"
    },
    "id": "Oj2VRf7e7T4y",
    "outputId": "6fc90373-edd3-4a4b-d750-d0b6912b45cf"
   },
   "outputs": [
    {
     "name": "stdout",
     "output_type": "stream",
     "text": [
      "Training X matrix shape (40000, 32, 32, 3)\n",
      "Testing X matrix shape (10000, 32, 32, 3)\n",
      "Val X matrix shape (10000, 32, 32, 3)\n",
      "Training y matrix shape (40000, 1)\n",
      "Testing y matrix shape (10000, 1)\n",
      "Val y matrix shape (10000, 1)\n"
     ]
    }
   ],
   "source": [
    "print(\"Training X matrix shape\", X_train.shape)\n",
    "print(\"Testing X matrix shape\", X_test.shape)\n",
    "print(\"Val X matrix shape\", X_val.shape)\n",
    "print(\"Training y matrix shape\", y_train.shape)\n",
    "print(\"Testing y matrix shape\", y_test.shape)\n",
    "print(\"Val y matrix shape\", y_val.shape)"
   ]
  },
  {
   "cell_type": "code",
   "execution_count": 81,
   "metadata": {
    "colab": {
     "base_uri": "https://localhost:8080/",
     "height": 466
    },
    "id": "E_UWwm-c35jL",
    "outputId": "c26da6f5-d0e3-46b1-caf8-ec534211730b"
   },
   "outputs": [
    {
     "data": {
      "image/png": "[encoded data removed]",
      "text/plain": [
       "<Figure size 576x576 with 64 Axes>"
      ]
     },
     "metadata": {
      "needs_background": "light"
     },
     "output_type": "display_data"
    }
   ],
   "source": [
    "fig, axes = pyplot.subplots(8,8,figsize=(8,8))\n",
    "for i in range(8):\n",
    "    for j in range(8):\n",
    "        num_index = np.random.randint(len(X_train))\n",
    "        axes[i,j].imshow(X_train[num_index], cmap=\"gray\")\n",
    "        axes[i,j].axis(\"off\")\n",
    "pyplot.show() "
   ]
  },
  {
   "cell_type": "markdown",
   "metadata": {
    "id": "4Noh3tKE35jL"
   },
   "source": [
    "**Let's check how many of each tag are**"
   ]
  },
  {
   "cell_type": "code",
   "execution_count": 82,
   "metadata": {
    "colab": {
     "base_uri": "https://localhost:8080/"
    },
    "id": "cjIcepgC35jM",
    "outputId": "e215be1c-342d-4892-f693-13d8ca49e312"
   },
   "outputs": [
    {
     "ename": "TypeError",
     "evalue": "unsupported operand type(s) for +: 'numpy.ndarray' and 'Tensor'",
     "output_type": "error",
     "traceback": [
      "\u001b[0;31m---------------------------------------------------------------------------\u001b[0m",
      "\u001b[0;31mTypeError\u001b[0m                                 Traceback (most recent call last)",
      "\u001b[0;32m<ipython-input-82-73adf799cce9>\u001b[0m in \u001b[0;36m<module>\u001b[0;34m\u001b[0m\n\u001b[1;32m      6\u001b[0m \u001b[0;32mfor\u001b[0m \u001b[0mi\u001b[0m \u001b[0;32min\u001b[0m \u001b[0mrange\u001b[0m\u001b[0;34m(\u001b[0m\u001b[0;36m10\u001b[0m\u001b[0;34m)\u001b[0m\u001b[0;34m:\u001b[0m\u001b[0;34m\u001b[0m\u001b[0;34m\u001b[0m\u001b[0m\n\u001b[1;32m      7\u001b[0m     print(i,\">> train:\", sum(y_train==i), \", valid:\", sum(y_val==i), \n\u001b[0;32m----> 8\u001b[0;31m           \", test:\", sum(y_test==i), \", total:\", sum(y_train==i)+sum(y_val==i)+sum(y_test==i) )\n\u001b[0m\u001b[1;32m      9\u001b[0m     \u001b[0my_train_total\u001b[0m\u001b[0;34m=\u001b[0m\u001b[0my_train_total\u001b[0m \u001b[0;34m+\u001b[0m \u001b[0msum\u001b[0m\u001b[0;34m(\u001b[0m\u001b[0my_train\u001b[0m\u001b[0;34m==\u001b[0m\u001b[0mi\u001b[0m\u001b[0;34m)\u001b[0m\u001b[0;34m\u001b[0m\u001b[0;34m\u001b[0m\u001b[0m\n\u001b[1;32m     10\u001b[0m     \u001b[0my_valid_total\u001b[0m\u001b[0;34m=\u001b[0m\u001b[0my_valid_total\u001b[0m \u001b[0;34m+\u001b[0m \u001b[0msum\u001b[0m\u001b[0;34m(\u001b[0m\u001b[0my_val\u001b[0m\u001b[0;34m==\u001b[0m\u001b[0mi\u001b[0m\u001b[0;34m)\u001b[0m\u001b[0;34m\u001b[0m\u001b[0;34m\u001b[0m\u001b[0m\n",
      "\u001b[0;31mTypeError\u001b[0m: unsupported operand type(s) for +: 'numpy.ndarray' and 'Tensor'"
     ]
    }
   ],
   "source": [
    "# Let's check how many of each tag are.\n",
    "y_train_total=0\n",
    "y_valid_total=0\n",
    "y_test_total=0\n",
    "total=0\n",
    "for i in range(10):\n",
    "    print(i,\">> train:\", sum(y_train==i), \", valid:\", sum(y_val==i), \n",
    "          \", test:\", sum(y_test==i), \", total:\", sum(y_train==i)+sum(y_val==i)+sum(y_test==i) )\n",
    "    y_train_total=y_train_total + sum(y_train==i)\n",
    "    y_valid_total=y_valid_total + sum(y_val==i)\n",
    "    y_test_total=y_test_total + sum(y_test==i)\n",
    "    total=total+sum(y_train==i)+sum(y_val==i)+sum(y_test==i)\n",
    "    \n",
    "print(\"y_train_total=\", y_train_total) \n",
    "print(\"y_valid_total=\", y_valid_total) \n",
    "print(\"y_test_total=\", y_test_total)\n",
    "print(\"total=\", total)"
   ]
  },
  {
   "cell_type": "code",
   "execution_count": 8,
   "metadata": {
    "id": "SUkI8Phw35jM"
   },
   "outputs": [],
   "source": [
    "def split_and_shuffle_labels(y_data, seed, amount):\n",
    "    y_data=pd.DataFrame(y_data,columns=[\"labels\"])\n",
    "    y_data[\"i\"]=np.arange(len(y_data))\n",
    "    label_dict = dict()\n",
    "    for i in range(10):\n",
    "        var_name=\"label\" + str(i)\n",
    "        label_info=y_data[y_data[\"labels\"]==i]\n",
    "        np.random.seed(seed)\n",
    "        label_info=np.random.permutation(label_info)\n",
    "        label_info=label_info[0:amount]\n",
    "        label_info=pd.DataFrame(label_info, columns=[\"labels\",\"i\"])\n",
    "        label_dict.update({var_name: label_info })\n",
    "    return label_dict"
   ]
  },
  {
   "cell_type": "code",
   "execution_count": 9,
   "metadata": {
    "id": "k_mKubSs35jN"
   },
   "outputs": [],
   "source": [
    "def get_iid_subsamples_indices(label_dict, number_of_samples, amount):\n",
    "    sample_dict= dict()\n",
    "    batch_size=int(math.floor(amount/number_of_samples))\n",
    "    for i in range(number_of_samples):\n",
    "        sample_name=\"sample\"+str(i)\n",
    "        dumb=pd.DataFrame()\n",
    "        for j in range(10):\n",
    "            label_name=str(\"label\")+str(j)\n",
    "            a=label_dict[label_name][i*batch_size:(i+1)*batch_size]\n",
    "            dumb=pd.concat([dumb,a], axis=0)\n",
    "        dumb.reset_index(drop=True, inplace=True)    \n",
    "        sample_dict.update({sample_name: dumb}) \n",
    "    return sample_dict"
   ]
  },
  {
   "cell_type": "code",
   "execution_count": 10,
   "metadata": {
    "id": "k1JorV9Y35jN"
   },
   "outputs": [],
   "source": [
    "def create_iid_subsamples(sample_dict, x_data, y_data, x_name, y_name):\n",
    "    x_data_dict= dict()\n",
    "    y_data_dict= dict()\n",
    "    \n",
    "    for i in range(len(sample_dict)):  ### len(sample_dict)= number of samples\n",
    "        xname= x_name+str(i)\n",
    "        yname= y_name+str(i)\n",
    "        sample_name=\"sample\"+str(i)\n",
    "        \n",
    "        indices=np.sort(np.array(sample_dict[sample_name][\"i\"]))\n",
    "        \n",
    "        x_info= x_data[indices,:]\n",
    "        x_data_dict.update({xname : x_info})\n",
    "        \n",
    "        y_info= y_data[indices]\n",
    "        y_data_dict.update({yname : y_info})\n",
    "        \n",
    "    return x_data_dict, y_data_dict"
   ]
  },
  {
   "cell_type": "markdown",
   "metadata": {
    "id": "kJTcaDeV35jO"
   },
   "source": [
    "--------------------------\n",
    "### <span style=\"background-color:#F087F9\"> Classification Model </span> "
   ]
  },
  {
   "cell_type": "code",
   "execution_count": 37,
   "metadata": {
    "id": "tG7Us8mx35jP"
   },
   "outputs": [],
   "source": [
    "\n",
    "import torch.nn as nn\n",
    "class Net2nn(nn.Module):   \n",
    "    def __init__(self):\n",
    "        \n",
    "        super(Net2nn, self).__init__()\n",
    "\n",
    "        self.conv_layer = nn.Sequential(\n",
    "\n",
    "            # Conv Layer block 1\n",
    "            nn.Conv2d(in_channels=3, out_channels=32, kernel_size=3, padding=1),\n",
    "            nn.BatchNorm2d(32),\n",
    "            nn.ReLU(inplace=True),\n",
    "            nn.Conv2d(in_channels=32, out_channels=64, kernel_size=3, padding=1),\n",
    "            nn.ReLU(inplace=True),\n",
    "            nn.MaxPool2d(kernel_size=2, stride=2),\n",
    "\n",
    "            # Conv Layer block 2\n",
    "            nn.Conv2d(in_channels=64, out_channels=128, kernel_size=3, padding=1),\n",
    "            nn.BatchNorm2d(128),\n",
    "            nn.ReLU(inplace=True),\n",
    "            nn.Conv2d(in_channels=128, out_channels=128, kernel_size=3, padding=1),\n",
    "            nn.ReLU(inplace=True),\n",
    "            nn.MaxPool2d(kernel_size=2, stride=2),\n",
    "            nn.Dropout2d(p=0.05),\n",
    "\n",
    "            # Conv Layer block 3\n",
    "#             nn.Conv2d(in_channels=128, out_channels=256, kernel_size=3, padding=1),\n",
    "#             nn.BatchNorm2d(256),\n",
    "#             nn.ReLU(inplace=True),\n",
    "#             nn.Conv2d(in_channels=256, out_channels=256, kernel_size=3, padding=1),\n",
    "#             nn.ReLU(inplace=True),\n",
    "#             nn.MaxPool2d(kernel_size=2, stride=2),\n",
    "        )\n",
    "\n",
    "\n",
    "        self.fc_layer = nn.Sequential(\n",
    "            nn.Dropout(p=0.1),\n",
    "            nn.Linear(8192, 1024),\n",
    "            nn.ReLU(inplace=True),\n",
    "            nn.Linear(1024, 512),\n",
    "            nn.ReLU(inplace=True),\n",
    "            nn.Dropout(p=0.1),\n",
    "            nn.Linear(512, 10)\n",
    "        )\n",
    "\n",
    "\n",
    "    def forward(self, x):\n",
    "        \"\"\"Perform forward.\"\"\"\n",
    "        \n",
    "        # conv layers\n",
    "        x = self.conv_layer(x)\n",
    "        \n",
    "        # flatten\n",
    "        x = x.view(x.size(0), -1)\n",
    "#         print(x.shape)\n",
    "        # fc layer\n",
    "        x = self.fc_layer(x)\n",
    "\n",
    "        return x\n",
    "    # class Net2nn(nn.Module):\n",
    "#     def __init__(self):\n",
    "#         super(Net2nn, self).__init__()\n",
    "#         self.fc1=nn.Linear(784,200)\n",
    "#         self.fc2=nn.Linear(200,200)\n",
    "#         self.fc3=nn.Linear(200,10)\n",
    "        \n",
    "#     def forward(self,x):\n",
    "#         x=F.relu(self.fc1(x))\n",
    "#         x=F.relu(self.fc2(x))\n",
    "#         x=self.fc3(x)\n",
    "#         return x"
   ]
  },
  {
   "cell_type": "code",
   "execution_count": 12,
   "metadata": {
    "id": "mmvt3-L_35jP"
   },
   "outputs": [],
   "source": [
    "class WrappedDataLoader:\n",
    "    def __init__(self, dl, func):\n",
    "        self.dl = dl\n",
    "        self.func = func\n",
    "\n",
    "    def __len__(self):\n",
    "        return len(self.dl)\n",
    "\n",
    "    def __iter__(self):\n",
    "        batches = iter(self.dl)\n",
    "        for b in batches:\n",
    "            yield (self.func(*b))"
   ]
  },
  {
   "cell_type": "code",
   "execution_count": 13,
   "metadata": {
    "id": "b4EmAoMn35jQ"
   },
   "outputs": [],
   "source": [
    "def train(model, train_loader, criterion, optimizer):\n",
    "    model.train()\n",
    "    train_loss = 0.0\n",
    "    correct = 0\n",
    "\n",
    "    for data, target in train_loader:\n",
    "        output = model(data)\n",
    "        loss = criterion(output, target)\n",
    "        optimizer.zero_grad()\n",
    "        loss.backward()\n",
    "        optimizer.step()\n",
    "        \n",
    "        train_loss += loss.item()\n",
    "        prediction = output.argmax(dim=1, keepdim=True)\n",
    "        correct += prediction.eq(target.view_as(prediction)).sum().item()\n",
    "        \n",
    "\n",
    "    return train_loss / len(train_loader), correct/len(train_loader.dataset)"
   ]
  },
  {
   "cell_type": "code",
   "execution_count": 16,
   "metadata": {},
   "outputs": [],
   "source": [
    "# centralized_model.eval()\n",
    "# correct = 0.0\n",
    "# total_correct = 0.0\n",
    "# with torch.no_grad():\n",
    "#     for data, target in test_dl:\n",
    "#         output = centralized_model(data)\n",
    "#         prediction = output.argmax(dim=1, keepdim=True)\n",
    "#         print(prediction,target.reshape(-1,1))\n",
    "#         target = target.reshape(-1,1)\n",
    "#         correct = prediction.eq(target.view_as(prediction)).sum().item()\n",
    "# #         print(correct/len(data))\n",
    "#         total_correct += correct\n",
    "        \n"
   ]
  },
  {
   "cell_type": "code",
   "execution_count": 14,
   "metadata": {
    "id": "PIXTfzta35jQ"
   },
   "outputs": [],
   "source": [
    "def validation(model, test_loader, criterion):\n",
    "    model.eval()\n",
    "    test_loss = 0.0\n",
    "    correct = 0\n",
    "    with torch.no_grad():\n",
    "        for data, target in test_loader:\n",
    "            output = model(data)\n",
    "            \n",
    "            test_loss += criterion(output, target).item()\n",
    "            prediction = output.argmax(dim=1, keepdim=True)\n",
    "            target = target.reshape(-1,1)\n",
    "            correct += prediction.eq(target.view_as(prediction)).sum().item()\n",
    "    print(correct)\n",
    "    test_loss /= len(test_loader)\n",
    "    correct /= len(test_loader.dataset)\n",
    "\n",
    "    return (test_loss, correct)"
   ]
  },
  {
   "cell_type": "markdown",
   "metadata": {
    "id": "vIuEtaUV35jR"
   },
   "source": [
    "---------------------------------\n",
    "### <span style=\"background-color:#F087F9\"> Functions for Federated Averaging </span> "
   ]
  },
  {
   "cell_type": "code",
   "execution_count": 15,
   "metadata": {
    "id": "Wv1mFZEc35jS"
   },
   "outputs": [],
   "source": [
    "def create_model_optimizer_criterion_dict(number_of_samples,learning_rate,momentum):\n",
    "    model_dict = dict()\n",
    "    optimizer_dict= dict()\n",
    "    criterion_dict = dict()\n",
    "    \n",
    "    for i in range(number_of_samples):\n",
    "        model_name=\"model\"+str(i)\n",
    "        model_info=Net2nn()\n",
    "        model_dict.update({model_name : model_info })\n",
    "        \n",
    "        optimizer_name=\"optimizer\"+str(i)\n",
    "        optimizer_info = torch.optim.SGD(model_info.parameters(), lr=learning_rate, momentum=momentum)\n",
    "        optimizer_dict.update({optimizer_name : optimizer_info })\n",
    "        \n",
    "        criterion_name = \"criterion\"+str(i)\n",
    "        criterion_info = nn.CrossEntropyLoss()\n",
    "        criterion_dict.update({criterion_name : criterion_info})\n",
    "        \n",
    "    return model_dict, optimizer_dict, criterion_dict "
   ]
  },
  {
   "cell_type": "code",
   "execution_count": 16,
   "metadata": {},
   "outputs": [],
   "source": [
    "# with torch.no_grad():\n",
    "#     model_4.conv_layer[0].weight.data = (model_3.conv_layer[0].weight.data.clone() + model_1.conv_layer[0].weight.data.clone() + model_2.conv_layer[0].weight.data.clone())/3\n",
    "#     model_4.conv_layer[0].bias.data = (model_3.conv_layer[0].bias.data.clone() + model_2.conv_layer[0].bias.data.clone() + model_1.conv_layer[0].bias.data.clone()) / len(models) \n",
    "#     model_4.conv_layer[1].weight.data = (model_3.conv_layer[1].weight.data.clone() + model_2.conv_layer[1].weight.data.clone() + model_1.conv_layer[1].weight.data.clone()) / len(models)\n",
    "#     model_4.conv_layer[1].bias.data = (model_3.conv_layer[1].bias.data.clone() + model_2.conv_layer[1].bias.data.clone() + model_1.conv_layer[1].bias.data.clone()) / len(models)\n",
    "#     model_4.conv_layer[3].weight.data = (model_3.conv_layer[3].weight.data.clone() + model_2.conv_layer[3].weight.data.clone() + model_1.conv_layer[3].weight.data.clone()) / len(models) \n",
    "#     model_4.conv_layer[3].bias.data = (model_3.conv_layer[3].bias.data.clone() + model_2.conv_layer[3].bias.data.clone() + model_1.conv_layer[3].bias.data.clone()) / len(models) \n",
    "#     model_4.conv_layer[6].weight.data = (model_3.conv_layer[6].weight.data.clone() + model_2.conv_layer[6].weight.data.clone() + model_1.conv_layer[6].weight.data.clone() ) / len(models)\n",
    "#     model_4.conv_layer[6].bias.data = (model_3.conv_layer[6].bias.data.clone() + model_2.conv_layer[6].bias.data.clone() + model_1.conv_layer[6].bias.data.clone() ) / len(models)\n",
    "#     model_4.conv_layer[7].weight.data = (model_3.conv_layer[7].weight.data.clone() + model_1.conv_layer[7].weight.data.clone() + model_1.conv_layer[7].weight.data.clone() ) / len(models)\n",
    "#     model_4.conv_layer[7].bias.data = (model_3.conv_layer[7].bias.data.clone() + model_2.conv_layer[7].bias.data.clone() + model_1.conv_layer[7].bias.data.clone() ) / len(models)\n",
    "#     model_4.conv_layer[9].weight.data = (model_3.conv_layer[9].weight.data.clone() + model_2.conv_layer[9].weight.data.clone() + model_1.conv_layer[9].weight.data.clone() ) / len(models)\n",
    "#     model_4.conv_layer[9].bias.data = (model_3.conv_layer[9].bias.data.clone() + model_2.conv_layer[9].bias.data.clone() + model_1.conv_layer[9].bias.data.clone() ) / len(models)\n",
    "#     model_4.fc_layer[1].weight.data = (model_3.fc_layer[1].weight.data.clone() + model_2.fc_layer[1].weight.data.clone() + model_1.fc_layer[1].weight.data.clone() ) / len(models)\n",
    "#     model_4.fc_layer[1].bias.data = (model_3.fc_layer[1].bias.data.clone() + model_2.fc_layer[1].bias.data.clone() + model_1.fc_layer[1].bias.data.clone() ) / len(models)\n",
    "#     model_4.fc_layer[4].weight.data = (model_3.fc_layer[4].weight.data.clone() + model_2.fc_layer[4].weight.data.clone() + model_1.fc_layer[4].weight.data.clone() ) / len(models)\n",
    "#     model_4.fc_layer[4].bias.data = (model_3.fc_layer[4].bias.data.clone() + model_2.fc_layer[4].bias.data.clone() + model_1.fc_layer[4].bias.data.clone() ) / len(models)"
   ]
  },
  {
   "cell_type": "code",
   "execution_count": 116,
   "metadata": {},
   "outputs": [],
   "source": [
    "centralized_model = Net2nn()"
   ]
  },
  {
   "cell_type": "code",
   "execution_count": 117,
   "metadata": {},
   "outputs": [
    {
     "name": "stdout",
     "output_type": "stream",
     "text": [
      "conv_layer.0.weight\n",
      "conv_layer.0.bias\n",
      "conv_layer.1.weight\n",
      "conv_layer.1.bias\n",
      "conv_layer.1.running_mean\n",
      "conv_layer.1.running_var\n",
      "conv_layer.1.num_batches_tracked\n",
      "conv_layer.3.weight\n",
      "conv_layer.3.bias\n",
      "conv_layer.6.weight\n",
      "conv_layer.6.bias\n",
      "conv_layer.7.weight\n",
      "conv_layer.7.bias\n",
      "conv_layer.7.running_mean\n",
      "conv_layer.7.running_var\n",
      "conv_layer.7.num_batches_tracked\n",
      "conv_layer.9.weight\n",
      "conv_layer.9.bias\n",
      "fc_layer.1.weight\n",
      "fc_layer.1.bias\n",
      "fc_layer.3.weight\n",
      "fc_layer.3.bias\n",
      "fc_layer.6.weight\n",
      "fc_layer.6.bias\n"
     ]
    }
   ],
   "source": [
    "for p in centralized_model.state_dict().keys():\n",
    "    print(p)"
   ]
  },
  {
   "cell_type": "code",
   "execution_count": 17,
   "metadata": {},
   "outputs": [],
   "source": [
    "def get_averaged_weights(model_dict, number_of_samples):\n",
    "    status_dict = {}\n",
    "    with torch.no_grad():\n",
    "        for name in model_dict[name_of_models[0]].state_dict().keys():\n",
    "            print(name)\n",
    "            data = torch.zeros(\n",
    "                    size=model_dict[name_of_models[0]].state_dict()[name].shape)\n",
    "            for i in range(number_of_samples):\n",
    "                m = model_dict[name_of_models[i]] \n",
    "                data += m.state_dict()[name].data.clone()\n",
    "            data = data / number_of_samples\n",
    "            status_dict[name] = data\n",
    "    return status_dict"
   ]
  },
  {
   "cell_type": "code",
   "execution_count": 18,
   "metadata": {},
   "outputs": [],
   "source": [
    "def set_averaged_weights_as_main_model_weights_and_update_main_model(main_model,model_dict, number_of_samples):\n",
    "    status_dict = get_averaged_weights(model_dict, number_of_samples=number_of_samples)\n",
    "    with torch.no_grad():\n",
    "        main_model.load_state_dict(status_dict)\n",
    "    return main_model"
   ]
  },
  {
   "cell_type": "code",
   "execution_count": 120,
   "metadata": {
    "id": "A78w9oTK35jT"
   },
   "outputs": [],
   "source": [
    "def get_averaged_weights(model_dict, number_of_samples):\n",
    "    conv_layer_0_weight = torch.zeros(\n",
    "        size=model_dict[name_of_models[0]].conv_layer[0].weight.shape)\n",
    "    conv_layer_0_bias = torch.zeros(\n",
    "        size=model_dict[name_of_models[0]].conv_layer[0].bias.shape)\n",
    "    conv_layer_1_weight =torch.zeros(\n",
    "        size=model_dict[name_of_models[0]].conv_layer[1].weight.shape)\n",
    "    conv_layer_1_bias = torch.zeros(\n",
    "        size=model_dict[name_of_models[0]].conv_layer[1].bias.shape)\n",
    "    \n",
    "    conv_layer_1_running_mean = torch.zeros(\n",
    "        size=model_dict[name_of_models[0]].conv_layer[1].running_mean.shape)\n",
    "    conv_layer_1_running_var = torch.zeros(\n",
    "        size=model_dict[name_of_models[0]].conv_layer[1].running_var.shape)\n",
    "    conv_layer_1_num_batches_tracked = torch.zeros(\n",
    "        size=model_dict[name_of_models[0]].conv_layer[1].num_batches_tracked.shape)\n",
    "\n",
    "    conv_layer_3_weight = torch.zeros(\n",
    "        size=model_dict[name_of_models[0]].conv_layer[3].weight.shape)\n",
    "    conv_layer_3_bias = torch.zeros(\n",
    "        size=model_dict[name_of_models[0]].conv_layer[3].bias.shape)\n",
    "    conv_layer_6_weight =torch.zeros(\n",
    "        size=model_dict[name_of_models[0]].conv_layer[6].weight.shape)\n",
    "    conv_layer_6_bias = torch.zeros(\n",
    "        size=model_dict[name_of_models[0]].conv_layer[6].bias.shape)\n",
    "    conv_layer_7_weight =torch.zeros(\n",
    "        size=model_dict[name_of_models[0]].conv_layer[7].weight.shape)\n",
    "    conv_layer_7_bias = torch.zeros(\n",
    "        size=model_dict[name_of_models[0]].conv_layer[7].bias.shape)\n",
    "    conv_layer_7_running_mean = torch.zeros(\n",
    "        size=model_dict[name_of_models[0]].conv_layer[7].running_mean.shape)\n",
    "    conv_layer_7_running_var = torch.zeros(\n",
    "        size=model_dict[name_of_models[0]].conv_layer[7].running_var.shape)\n",
    "    conv_layer_7_num_batches_tracked = torch.zeros(\n",
    "        size=model_dict[name_of_models[0]].conv_layer[7].num_batches_tracked.shape)\n",
    "    conv_layer_9_weight =torch.zeros(\n",
    "        size=model_dict[name_of_models[0]].conv_layer[9].weight.shape)\n",
    "    conv_layer_9_bias = torch.zeros(\n",
    "        size=model_dict[name_of_models[0]].conv_layer[9].bias.shape)\n",
    "    fc_layer_1_weight = torch.zeros(\n",
    "        size=model_dict[name_of_models[0]].fc_layer[1].weight.shape)\n",
    "    fc_layer_1_bias = torch.zeros(\n",
    "        size=model_dict[name_of_models[0]].fc_layer[1].bias.shape)\n",
    "    fc_layer_3_weight = torch.zeros(\n",
    "        size=model_dict[name_of_models[0]].fc_layer[3].weight.shape)\n",
    "    fc_layer_3_bias = torch.zeros(\n",
    "        size=model_dict[name_of_models[0]].fc_layer[3].bias.shape)\n",
    "    fc_layer_6_weight = torch.zeros(\n",
    "        size=model_dict[name_of_models[0]].fc_layer[6].weight.shape)\n",
    "    fc_layer_6_bias = torch.zeros(\n",
    "        size=model_dict[name_of_models[0]].fc_layer[6].bias.shape)\n",
    "\n",
    "    \n",
    "    with torch.no_grad():\n",
    "        for i in range(number_of_samples):\n",
    "            conv_layer_0_weight += model_dict[name_of_models[i]].conv_layer[0].weight.data.clone()\n",
    "            conv_layer_0_bias   += model_dict[name_of_models[i]].conv_layer[0].bias.data.clone()\n",
    "        \n",
    "            conv_layer_1_weight += model_dict[name_of_models[i]].conv_layer[1].weight.data.clone()\n",
    "            conv_layer_1_bias   += model_dict[name_of_models[i]].conv_layer[1].bias.data.clone()\n",
    "\n",
    "            conv_layer_1_running_mean        += model_dict[name_of_models[i]].conv_layer[1].running_mean.data.clone()\n",
    "            conv_layer_1_running_var         += model_dict[name_of_models[i]].conv_layer[1].running_var.data.clone()\n",
    "            conv_layer_1_num_batches_tracked += model_dict[name_of_models[i]].conv_layer[1].num_batches_tracked.data.clone() \n",
    "\n",
    "            conv_layer_3_weight += model_dict[name_of_models[i]].conv_layer[3].weight.data.clone()\n",
    "            conv_layer_3_bias   += model_dict[name_of_models[i]].conv_layer[3].bias.data.clone()\n",
    "\n",
    "            conv_layer_6_weight += model_dict[name_of_models[i]].conv_layer[6].weight.data.clone()\n",
    "            conv_layer_6_bias   += model_dict[name_of_models[i]].conv_layer[6].bias.data.clone()\n",
    "\n",
    "            conv_layer_7_weight += model_dict[name_of_models[i]].conv_layer[7].weight.data.clone()\n",
    "            conv_layer_7_bias   += model_dict[name_of_models[i]].conv_layer[7].bias.data.clone()\n",
    "\n",
    "            conv_layer_7_running_mean        += model_dict[name_of_models[i]].conv_layer[7].running_mean.data.clone()\n",
    "            conv_layer_7_running_var         += model_dict[name_of_models[i]].conv_layer[7].running_var.data.clone()\n",
    "            conv_layer_7_num_batches_tracked += model_dict[name_of_models[i]].conv_layer[7].num_batches_tracked.data.clone() \n",
    "\n",
    "            \n",
    "            conv_layer_9_weight += model_dict[name_of_models[i]].conv_layer[9].weight.data.clone()\n",
    "            conv_layer_9_bias   += model_dict[name_of_models[i]].conv_layer[9].bias.data.clone()\n",
    "\n",
    "            fc_layer_1_weight   += model_dict[name_of_models[i]].fc_layer[1].weight.data.clone()\n",
    "            fc_layer_1_bias     += model_dict[name_of_models[i]].fc_layer[1].bias.data.clone()\n",
    "\n",
    "            fc_layer_3_weight   += model_dict[name_of_models[i]].fc_layer[3].weight.data.clone()\n",
    "            fc_layer_3_bias     += model_dict[name_of_models[i]].fc_layer[3].bias.data.clone()\n",
    "            \n",
    "            fc_layer_6_weight   += model_dict[name_of_models[i]].fc_layer[6].weight.data.clone()\n",
    "            fc_layer_6_bias     += model_dict[name_of_models[i]].fc_layer[6].bias.data.clone()\n",
    "            \n",
    "          \n",
    "        conv_layer_0_weight = conv_layer_0_weight / number_of_samples\n",
    "        conv_layer_0_bias   = conv_layer_0_bias   / number_of_samples\n",
    "        conv_layer_1_weight = conv_layer_1_weight / number_of_samples\n",
    "        conv_layer_1_bias   = conv_layer_1_bias   / number_of_samples\n",
    "        \n",
    "        conv_layer_1_running_mean = conv_layer_1_running_mean / number_of_samples\n",
    "        conv_layer_1_running_var   = conv_layer_1_running_var   / number_of_samples\n",
    "        conv_layer_1_num_batches_tracked   = conv_layer_1_num_batches_tracked   / number_of_samples\n",
    "\n",
    "        \n",
    "        conv_layer_3_weight = conv_layer_3_weight / number_of_samples\n",
    "        conv_layer_3_bias   = conv_layer_3_bias   / number_of_samples\n",
    "        conv_layer_6_weight = conv_layer_6_weight / number_of_samples\n",
    "        conv_layer_6_bias   = conv_layer_6_bias   / number_of_samples\n",
    "        conv_layer_7_weight = conv_layer_7_weight / number_of_samples\n",
    "        conv_layer_7_bias   = conv_layer_7_bias   / number_of_samples\n",
    "        \n",
    "        conv_layer_7_running_mean = conv_layer_7_running_mean / number_of_samples\n",
    "        conv_layer_7_running_var   = conv_layer_7_running_var   / number_of_samples\n",
    "        conv_layer_7_num_batches_tracked   = conv_layer_7_num_batches_tracked   / number_of_samples\n",
    "\n",
    "        \n",
    "        conv_layer_9_weight = conv_layer_9_weight / number_of_samples\n",
    "        conv_layer_9_bias   = conv_layer_9_bias   / number_of_samples\n",
    "        fc_layer_1_weight   = fc_layer_1_weight   / number_of_samples\n",
    "        fc_layer_1_bias     = fc_layer_1_bias     / number_of_samples\n",
    "        fc_layer_3_weight   = fc_layer_3_weight   / number_of_samples\n",
    "        fc_layer_3_bias     = fc_layer_3_bias     / number_of_samples\n",
    "        fc_layer_6_weight  = fc_layer_6_weight   / number_of_samples\n",
    "        fc_layer_6_bias     = fc_layer_6_bias     / number_of_samples\n",
    "                \n",
    "    \n",
    "    return  conv_layer_0_weight, conv_layer_0_bias,conv_layer_1_weight,conv_layer_1_bias,conv_layer_1_running_mean,conv_layer_1_running_var,conv_layer_1_num_batches_tracked,conv_layer_3_weight,conv_layer_3_bias  ,conv_layer_6_weight,conv_layer_6_bias  ,conv_layer_7_weight,conv_layer_7_bias,conv_layer_7_running_mean,conv_layer_7_running_var,conv_layer_7_num_batches_tracked,conv_layer_9_weight,conv_layer_9_bias  ,fc_layer_1_weight  ,fc_layer_1_bias,fc_layer_3_weight,fc_layer_3_bias,fc_layer_6_weight,fc_layer_6_bias"
   ]
  },
  {
   "cell_type": "code",
   "execution_count": 121,
   "metadata": {
    "id": "r9V1jP-s35jT"
   },
   "outputs": [],
   "source": [
    "def set_averaged_weights_as_main_model_weights_and_update_main_model(main_model,model_dict, number_of_samples):\n",
    "    conv_layer_0_weight, conv_layer_0_bias,conv_layer_1_weight,conv_layer_1_bias,conv_layer_1_running_mean,conv_layer_1_running_var,conv_layer_1_num_batches_tracked,conv_layer_3_weight,conv_layer_3_bias  ,conv_layer_6_weight,conv_layer_6_bias  ,conv_layer_7_weight,conv_layer_7_bias,conv_layer_7_running_mean,conv_layer_7_running_var,conv_layer_7_num_batches_tracked,conv_layer_9_weight,conv_layer_9_bias  ,fc_layer_1_weight  ,fc_layer_1_bias,fc_layer_3_weight,fc_layer_3_bias,fc_layer_6_weight,fc_layer_6_bias  = get_averaged_weights(model_dict, number_of_samples=number_of_samples)\n",
    "    with torch.no_grad():\n",
    "        main_model.conv_layer[0].weight.data   =  conv_layer_0_weight.data.clone()   \n",
    "        main_model.conv_layer[0].bias.data   =    conv_layer_0_bias.data.clone() \n",
    "        main_model.conv_layer[1].weight.data   =  conv_layer_1_weight.data.clone()   \n",
    "        main_model.conv_layer[1].bias.data   =    conv_layer_1_bias.data.clone() \n",
    "        main_model.conv_layer[1].running_mean.data =        conv_layer_1_running_mean.data.clone()\n",
    "        main_model.conv_layer[1].running_var.data =         conv_layer_1_running_var.data.clone()\n",
    "        main_model.conv_layer[1].num_batches_tracked.data = conv_layer_1_num_batches_tracked.data.clone()\n",
    "        main_model.conv_layer[3].weight.data   =  conv_layer_3_weight.data.clone()   \n",
    "        main_model.conv_layer[3].bias.data   =    conv_layer_3_bias.data.clone() \n",
    "        main_model.conv_layer[6].weight.data   =  conv_layer_6_weight.data.clone()   \n",
    "        main_model.conv_layer[6].bias.data   =    conv_layer_6_bias.data.clone() \n",
    "        main_model.conv_layer[7].weight.data   =  conv_layer_7_weight.data.clone()   \n",
    "        main_model.conv_layer[7].bias.data   =    conv_layer_7_bias.data.clone() \n",
    "        main_model.conv_layer[7].running_mean.data =  conv_layer_7_running_mean.data.clone()\n",
    "        main_model.conv_layer[7].running_var.data = conv_layer_7_running_var.data.clone()\n",
    "        main_model.conv_layer[7].num_batches_tracked.data = conv_layer_7_num_batches_tracked.data.clone()\n",
    "\n",
    "        main_model.conv_layer[9].weight.data   =  conv_layer_9_weight.data.clone()   \n",
    "        main_model.conv_layer[9].bias.data   =    conv_layer_9_bias.data.clone() \n",
    "        main_model.fc_layer[1].weight.data   =    fc_layer_1_weight.data.clone() \n",
    "        main_model.fc_layer[1].bias.data   =     fc_layer_1_bias.data.clone()\n",
    "        main_model.fc_layer[3].weight.data   =    fc_layer_3_weight.data.clone() \n",
    "        main_model.fc_layer[3].bias.data   =     fc_layer_3_bias.data.clone()\n",
    "        main_model.fc_layer[6].weight.data   =    fc_layer_6_weight.data.clone() \n",
    "        main_model.fc_layer[6].bias.data   =     fc_layer_6_bias.data.clone()\n",
    "\n",
    "        \n",
    "    return main_model"
   ]
  },
  {
   "cell_type": "code",
   "execution_count": 19,
   "metadata": {
    "id": "GEvX7jSo35jU"
   },
   "outputs": [],
   "source": [
    "def compare_local_and_merged_model_performance(number_of_samples):\n",
    "    accuracy_table=pd.DataFrame(data=np.zeros((number_of_samples,3)), columns=[\"sample\", \"local_ind_model\", \"merged_main_model\"])\n",
    "    for i in range (number_of_samples):\n",
    "    \n",
    "        test_ds = TensorDataset(x_test_dict[name_of_x_test_sets[i]], y_test_dict[name_of_y_test_sets[i]])\n",
    "        test_dl = DataLoader(test_ds, batch_size=batch_size * 2)\n",
    "    \n",
    "        model=model_dict[name_of_models[i]]\n",
    "        criterion=criterion_dict[name_of_criterions[i]]\n",
    "        optimizer=optimizer_dict[name_of_optimizers[i]]\n",
    "    \n",
    "        individual_loss, individual_accuracy = validation(model, test_dl, criterion)\n",
    "        main_loss, main_accuracy =validation(main_model, test_dl, main_criterion )\n",
    "    \n",
    "        accuracy_table.loc[i, \"sample\"]=\"sample \"+str(i)\n",
    "        accuracy_table.loc[i, \"local_ind_model\"] = individual_accuracy\n",
    "        accuracy_table.loc[i, \"merged_main_model\"] = main_accuracy\n",
    "\n",
    "    return accuracy_table"
   ]
  },
  {
   "cell_type": "code",
   "execution_count": 20,
   "metadata": {},
   "outputs": [],
   "source": [
    "def send_main_model_to_nodes_and_update_model_dict(main_model, model_dict, number_of_samples):\n",
    "    with torch.no_grad():\n",
    "        for i in range(number_of_samples):\n",
    "            model_dict[name_of_models[i]].load_state_dict(main_model.state_dict())\n",
    "    return model_dict"
   ]
  },
  {
   "cell_type": "code",
   "execution_count": 123,
   "metadata": {
    "id": "eqIkW9TI35jV"
   },
   "outputs": [],
   "source": [
    "\n",
    "def send_main_model_to_nodes_and_update_model_dict(main_model, model_dict, number_of_samples):\n",
    "    with torch.no_grad():\n",
    "        for i in range(number_of_samples):\n",
    "            model_dict[name_of_models[i]].load_state_dict(main_model.state_dict())\n",
    "            model_dict[name_of_models[i]].conv_layer[0].weight.data   =  main_model.conv_layer[0].weight.data.clone()   \n",
    "            model_dict[name_of_models[i]].conv_layer[0].bias.data   =    main_model.conv_layer[0].bias.data.clone() \n",
    "            model_dict[name_of_models[i]].conv_layer[1].weight.data   =  main_model.conv_layer[1].weight.data.clone()   \n",
    "            model_dict[name_of_models[i]].conv_layer[1].bias.data   =    main_model.conv_layer[1].bias.data.clone() \n",
    "            model_dict[name_of_models[i]].conv_layer[1].running_mean =        main_model.conv_layer[1].running_mean.data.clone() \n",
    "            model_dict[name_of_models[i]].conv_layer[1].running_var =         main_model.conv_layer[1].running_var.data.clone()\n",
    "            model_dict[name_of_models[i]].conv_layer[1].num_batches_tracked = main_model.conv_layer[1].num_batches_tracked.data.clone()\n",
    "            model_dict[name_of_models[i]].conv_layer[3].weight.data   =  main_model.conv_layer[3].weight.data.clone()   \n",
    "            model_dict[name_of_models[i]].conv_layer[3].bias.data   =    main_model.conv_layer[3].bias.data.clone() \n",
    "            model_dict[name_of_models[i]].conv_layer[6].weight.data   =  main_model.conv_layer[6].weight.data.clone()   \n",
    "            model_dict[name_of_models[i]].conv_layer[6].bias.data   =    main_model.conv_layer[6].bias.data.clone() \n",
    "            model_dict[name_of_models[i]].conv_layer[7].weight.data   =  main_model.conv_layer[7].weight.data.clone()   \n",
    "            model_dict[name_of_models[i]].conv_layer[7].bias.data   =    main_model.conv_layer[7].bias.data.clone() \n",
    "            model_dict[name_of_models[i]].conv_layer[1].running_mean =   main_model.conv_layer[1].running_mean.data.clone() \n",
    "            model_dict[name_of_models[i]].conv_layer[1].running_var =    main_model.conv_layer[1].running_var.data.clone()\n",
    "            model_dict[name_of_models[i]].conv_layer[1].num_batches_tracked = main_model.conv_layer[1].num_batches_tracked.data.clone()\n",
    "            model_dict[name_of_models[i]].conv_layer[9].weight.data   =  main_model.conv_layer[9].weight.data.clone()   \n",
    "            model_dict[name_of_models[i]].conv_layer[9].bias.data   =    main_model.conv_layer[9].bias.data.clone() \n",
    "            model_dict[name_of_models[i]].fc_layer[1].weight.data   =    main_model.fc_layer[1].weight.data.clone() \n",
    "            model_dict[name_of_models[i]].fc_layer[1].bias.data   =      main_model.fc_layer[1].bias.data.clone()\n",
    "            model_dict[name_of_models[i]].fc_layer[3].weight.data   =    main_model.fc_layer[3].weight.data.clone() \n",
    "            model_dict[name_of_models[i]].fc_layer[3].bias.data   =      main_model.fc_layer[3].bias.data.clone()\n",
    "            model_dict[name_of_models[i]].fc_layer[6].weight.data   =    main_model.fc_layer[6].weight.data.clone() \n",
    "            model_dict[name_of_models[i]].fc_layer[6].bias.data   =      main_model.fc_layer[6].bias.data.clone()\n",
    "\n",
    "    return model_dict"
   ]
  },
  {
   "cell_type": "code",
   "execution_count": 21,
   "metadata": {
    "id": "2XaIvtWj35jV"
   },
   "outputs": [],
   "source": [
    "def start_train_end_node_process(number_of_samples):\n",
    "    for i in range (number_of_samples): \n",
    "\n",
    "        train_ds = TensorDataset(x_train_dict[name_of_x_train_sets[i]], y_train_dict[name_of_y_train_sets[i]])\n",
    "        train_dl = DataLoader(train_ds, batch_size=batch_size, shuffle=True)\n",
    "\n",
    "#         valid_ds = TensorDataset(x_valid_dict[name_of_x_valid_sets[i]], y_valid_dict[name_of_y_valid_sets[i]])\n",
    "#         valid_dl = DataLoader(valid_ds, batch_size=batch_size * 2)\n",
    "        \n",
    "        test_ds = TensorDataset(x_test_dict[name_of_x_test_sets[i]], y_test_dict[name_of_y_test_sets[i]])\n",
    "        test_dl = DataLoader(test_ds, batch_size= batch_size * 2)\n",
    "    \n",
    "        model=model_dict[name_of_models[i]]\n",
    "        criterion=criterion_dict[name_of_criterions[i]]\n",
    "        optimizer=optimizer_dict[name_of_optimizers[i]]\n",
    "    \n",
    "        print(\"Subset\" ,i)\n",
    "        for epoch in range(numEpoch):        \n",
    "            train_loss, train_accuracy = train(model, train_dl, criterion, optimizer)\n",
    "#             valid_loss, valid_accuracy = validation(model, valid_dl, criterion)\n",
    "            test_loss, test_accuracy = validation(model, test_dl, criterion)\n",
    "    \n",
    "            print(\"epoch: {:3.0f}\".format(epoch+1) + \" | train accuracy: {:7.5f}\".format(train_accuracy) + \" | test accuracy: {:7.5f}\".format(test_accuracy))"
   ]
  },
  {
   "cell_type": "code",
   "execution_count": 22,
   "metadata": {
    "id": "WCCrKL-p35jW"
   },
   "outputs": [],
   "source": [
    "\n",
    "def start_train_end_node_process_without_print(number_of_samples):\n",
    "    for i in range (number_of_samples): \n",
    "\n",
    "        train_ds = TensorDataset(x_train_dict[name_of_x_train_sets[i]], y_train_dict[name_of_y_train_sets[i]])\n",
    "        train_dl = DataLoader(train_ds, batch_size=batch_size, shuffle=True)\n",
    "\n",
    "        test_ds = TensorDataset(x_test_dict[name_of_x_test_sets[i]], y_test_dict[name_of_y_test_sets[i]])\n",
    "        test_dl = DataLoader(test_ds, batch_size= batch_size * 2)\n",
    "    \n",
    "        model=model_dict[name_of_models[i]]\n",
    "        criterion=criterion_dict[name_of_criterions[i]]\n",
    "        optimizer=optimizer_dict[name_of_optimizers[i]]\n",
    "    \n",
    "        for epoch in range(numEpoch):        \n",
    "            train_loss, train_accuracy = train(model, train_dl, criterion, optimizer)\n",
    "            test_loss, test_accuracy = validation(model, test_dl, criterion)"
   ]
  },
  {
   "cell_type": "code",
   "execution_count": 290,
   "metadata": {
    "id": "fagwoCc_PkJ2"
   },
   "outputs": [
    {
     "ename": "IndexError",
     "evalue": "list index out of range",
     "output_type": "error",
     "traceback": [
      "\u001b[0;31m---------------------------------------------------------------------------\u001b[0m",
      "\u001b[0;31mIndexError\u001b[0m                                Traceback (most recent call last)",
      "\u001b[0;32m<ipython-input-290-595233d20c86>\u001b[0m in \u001b[0;36m<module>\u001b[0;34m\u001b[0m\n\u001b[1;32m      1\u001b[0m \u001b[0mi\u001b[0m \u001b[0;34m=\u001b[0m \u001b[0;36m10\u001b[0m\u001b[0;34m\u001b[0m\u001b[0;34m\u001b[0m\u001b[0m\n\u001b[0;32m----> 2\u001b[0;31m \u001b[0mtrain_ds\u001b[0m \u001b[0;34m=\u001b[0m \u001b[0mTensorDataset\u001b[0m\u001b[0;34m(\u001b[0m\u001b[0mx_train_dict\u001b[0m\u001b[0;34m[\u001b[0m\u001b[0mname_of_x_train_sets\u001b[0m\u001b[0;34m[\u001b[0m\u001b[0mi\u001b[0m\u001b[0;34m]\u001b[0m\u001b[0;34m]\u001b[0m\u001b[0;34m,\u001b[0m \u001b[0my_train_dict\u001b[0m\u001b[0;34m[\u001b[0m\u001b[0mname_of_y_train_sets\u001b[0m\u001b[0;34m[\u001b[0m\u001b[0mi\u001b[0m\u001b[0;34m]\u001b[0m\u001b[0;34m]\u001b[0m\u001b[0;34m)\u001b[0m\u001b[0;34m\u001b[0m\u001b[0;34m\u001b[0m\u001b[0m\n\u001b[0m\u001b[1;32m      3\u001b[0m \u001b[0mtrain_dl\u001b[0m \u001b[0;34m=\u001b[0m \u001b[0mDataLoader\u001b[0m\u001b[0;34m(\u001b[0m\u001b[0mtrain_ds\u001b[0m\u001b[0;34m,\u001b[0m \u001b[0mbatch_size\u001b[0m\u001b[0;34m=\u001b[0m\u001b[0mbatch_size\u001b[0m\u001b[0;34m,\u001b[0m \u001b[0mshuffle\u001b[0m\u001b[0;34m=\u001b[0m\u001b[0;32mTrue\u001b[0m\u001b[0;34m)\u001b[0m\u001b[0;34m\u001b[0m\u001b[0;34m\u001b[0m\u001b[0m\n\u001b[1;32m      4\u001b[0m \u001b[0;34m\u001b[0m\u001b[0m\n\u001b[1;32m      5\u001b[0m \u001b[0mtest_ds\u001b[0m \u001b[0;34m=\u001b[0m \u001b[0mTensorDataset\u001b[0m\u001b[0;34m(\u001b[0m\u001b[0mx_test_dict\u001b[0m\u001b[0;34m[\u001b[0m\u001b[0mname_of_x_test_sets\u001b[0m\u001b[0;34m[\u001b[0m\u001b[0mi\u001b[0m\u001b[0;34m]\u001b[0m\u001b[0;34m]\u001b[0m\u001b[0;34m,\u001b[0m \u001b[0my_test_dict\u001b[0m\u001b[0;34m[\u001b[0m\u001b[0mname_of_y_test_sets\u001b[0m\u001b[0;34m[\u001b[0m\u001b[0mi\u001b[0m\u001b[0;34m]\u001b[0m\u001b[0;34m]\u001b[0m\u001b[0;34m)\u001b[0m\u001b[0;34m\u001b[0m\u001b[0;34m\u001b[0m\u001b[0m\n",
      "\u001b[0;31mIndexError\u001b[0m: list index out of range"
     ]
    }
   ],
   "source": [
    "i = 10\n",
    "train_ds = TensorDataset(x_train_dict[name_of_x_train_sets[i]], y_train_dict[name_of_y_train_sets[i]])\n",
    "train_dl = DataLoader(train_ds, batch_size=batch_size, shuffle=True)\n",
    "\n",
    "test_ds = TensorDataset(x_test_dict[name_of_x_test_sets[i]], y_test_dict[name_of_y_test_sets[i]])\n",
    "test_dl = DataLoader(test_ds, batch_size= batch_size * 2)\n",
    "\n",
    "model=model_dict[name_of_models[i]]\n",
    "criterion=criterion_dict[name_of_criterions[i]]\n",
    "optimizer=optimizer_dict[name_of_optimizers[i]]\n",
    "\n",
    "if i<print_amount:\n",
    "    print(\"Subset\" ,i)\n",
    "    \n",
    "for epoch in range(numEpoch):\n",
    "\n",
    "    train_loss, train_accuracy = train(model, train_dl, criterion, optimizer)\n",
    "    test_loss, test_accuracy = validation(model, test_dl, criterion)\n",
    "    \n",
    "    if i<print_amount:        \n",
    "        print(\"epoch: {:3.0f}\".format(epoch+1) + \" | train accuracy: {:7.5f}\".format(train_accuracy) + \" | test accuracy: {:7.5f}\".format(test_accuracy))"
   ]
  },
  {
   "cell_type": "code",
   "execution_count": 191,
   "metadata": {},
   "outputs": [
    {
     "data": {
      "text/plain": [
       "tensor([1, 8, 8,  ..., 6, 0, 0])"
      ]
     },
     "execution_count": 191,
     "metadata": {},
     "output_type": "execute_result"
    }
   ],
   "source": [
    "y_train_dict['y_train0']"
   ]
  },
  {
   "cell_type": "code",
   "execution_count": 23,
   "metadata": {
    "id": "Y8ESKX6M35jX"
   },
   "outputs": [],
   "source": [
    "def start_train_end_node_process_print_some(number_of_samples, print_amount):\n",
    "    for i in range (number_of_samples): \n",
    "\n",
    "        train_ds = TensorDataset(x_train_dict[name_of_x_train_sets[i]], y_train_dict[name_of_y_train_sets[i]])\n",
    "        train_dl = DataLoader(train_ds, batch_size=batch_size, shuffle=True)\n",
    "\n",
    "        test_ds = TensorDataset(x_test_dict[name_of_x_test_sets[i]], y_test_dict[name_of_y_test_sets[i]])\n",
    "        test_dl = DataLoader(test_ds, batch_size= batch_size * 2)\n",
    "    \n",
    "        model=model_dict[name_of_models[i]]\n",
    "        criterion=criterion_dict[name_of_criterions[i]]\n",
    "        optimizer=optimizer_dict[name_of_optimizers[i]]\n",
    "    \n",
    "        if i<print_amount:\n",
    "            print(\"Subset\" ,i)\n",
    "            \n",
    "        for epoch in range(numEpoch):\n",
    "        \n",
    "            train_loss, train_accuracy = train(model, train_dl, criterion, optimizer)\n",
    "            test_loss, test_accuracy = validation(model, test_dl, criterion)\n",
    "            \n",
    "            if i<print_amount:        \n",
    "                print(\"epoch: {:3.0f}\".format(epoch+1) + \" | train accuracy: {:7.5f}\".format(train_accuracy) + \" | test accuracy: {:7.5f}\".format(test_accuracy))    "
   ]
  },
  {
   "cell_type": "code",
   "execution_count": 29,
   "metadata": {
    "colab": {
     "base_uri": "https://localhost:8080/"
    },
    "id": "AyfQsI-535jX",
    "outputId": "df6ed845-f037-4f2d-dc00-3d1d0c9002d9"
   },
   "outputs": [
    {
     "name": "stderr",
     "output_type": "stream",
     "text": [
      "<ipython-input-29-78340a756813>:1: UserWarning: To copy construct from a tensor, it is recommended to use sourceTensor.clone().detach() or sourceTensor.clone().detach().requires_grad_(True), rather than torch.tensor(sourceTensor).\n",
      "  x_train, y_train, x_valid, y_valid,x_test, y_test = map(torch.tensor, (X_train, y_train, X_val, y_val, X_test, y_test))\n"
     ]
    }
   ],
   "source": [
    "x_train, y_train, x_valid, y_valid,x_test, y_test = map(torch.tensor, (X_train, y_train, X_val, y_val, X_test, y_test))\n",
    "\n",
    "y_train = y_train.type(torch.LongTensor).reshape(-1)\n",
    "y_valid = y_valid.type(torch.LongTensor).reshape(-1)\n",
    "y_test = y_test.type(torch.LongTensor).reshape(-1)\n",
    "\n",
    "x_train = x_train.permute(0, 3, 1, 2)\n",
    "x_valid = x_valid.permute(0, 3, 1, 2)\n",
    "x_test = x_test.permute(0, 3, 1, 2)\n",
    "\n",
    "# x_train = x_train.reshape(-1, 1, 28, 28)\n",
    "# x_valid = x_valid.reshape(-1, 1, 28, 28)\n",
    "# x_test = x_test.reshape(-1, 1, 28, 28)\n",
    "\n",
    "\n",
    "number_of_samples=3\n",
    "learning_rate = 0.01\n",
    "numEpoch = 5\n",
    "batch_size = 32\n",
    "momentum = 0.9\n",
    "\n",
    "train_amount=4500\n",
    "valid_amount=900\n",
    "test_amount=900\n",
    "print_amount=3"
   ]
  },
  {
   "cell_type": "markdown",
   "metadata": {
    "id": "sFkM40CT35jX"
   },
   "source": [
    "----------------\n",
    "\n",
    "### <span style=\"background-color:#F087F9\"> Let's examine what would the performance of the centralized model be if the data were not distributed to nodes at all? </span>   \n",
    "\n",
    "The model used in this example is very simple, different things can be done to improve model performance, such as using more complex models, increasing epoch or hyperparameter tuning. However, the purpose here is to compare the performance of the main model that is formed by combining the parameters of the local models trained on their own data with a centralized model that trained on all training data. In this way, we can gain insight into the capacity of federated learning.\n"
   ]
  },
  {
   "cell_type": "code",
   "execution_count": 38,
   "metadata": {
    "id": "fFOlodNC35jY"
   },
   "outputs": [],
   "source": [
    "centralized_model = Net2nn()\n",
    "centralized_optimizer = torch.optim.SGD(centralized_model.parameters(), lr=0.01, momentum=0.9)\n",
    "centralized_criterion = nn.CrossEntropyLoss()"
   ]
  },
  {
   "cell_type": "code",
   "execution_count": 39,
   "metadata": {
    "id": "p6FYygmG35jY"
   },
   "outputs": [],
   "source": [
    "train_ds = TensorDataset(x_train, y_train)\n",
    "train_dl = DataLoader(train_ds, batch_size=batch_size, shuffle=True)\n",
    "\n",
    "valid_ds = TensorDataset(x_valid, y_valid)\n",
    "valid_dl = DataLoader(valid_ds, batch_size=batch_size * 2)\n",
    "\n",
    "test_ds = TensorDataset(x_test, y_test)\n",
    "test_dl = DataLoader(test_ds, batch_size=batch_size * 2)"
   ]
  },
  {
   "cell_type": "code",
   "execution_count": 40,
   "metadata": {
    "colab": {
     "base_uri": "https://localhost:8080/"
    },
    "collapsed": true,
    "id": "NxC04ldN35jY",
    "outputId": "9e7bd21e-fa9e-475f-c827-693bdde80589"
   },
   "outputs": [
    {
     "name": "stdout",
     "output_type": "stream",
     "text": [
      "------ Centralized Model ------\n"
     ]
    },
    {
     "ename": "KeyboardInterrupt",
     "evalue": "",
     "output_type": "error",
     "traceback": [
      "\u001b[0;31m---------------------------------------------------------------------------\u001b[0m",
      "\u001b[0;31mKeyboardInterrupt\u001b[0m                         Traceback (most recent call last)",
      "\u001b[0;32m<ipython-input-40-3d5adc63e6fe>\u001b[0m in \u001b[0;36m<module>\u001b[0;34m\u001b[0m\n\u001b[1;32m      1\u001b[0m \u001b[0mprint\u001b[0m\u001b[0;34m(\u001b[0m\u001b[0;34m\"------ Centralized Model ------\"\u001b[0m\u001b[0;34m)\u001b[0m\u001b[0;34m\u001b[0m\u001b[0;34m\u001b[0m\u001b[0m\n\u001b[1;32m      2\u001b[0m \u001b[0;32mfor\u001b[0m \u001b[0mepoch\u001b[0m \u001b[0;32min\u001b[0m \u001b[0mrange\u001b[0m\u001b[0;34m(\u001b[0m\u001b[0mnumEpoch\u001b[0m\u001b[0;34m)\u001b[0m\u001b[0;34m:\u001b[0m\u001b[0;34m\u001b[0m\u001b[0;34m\u001b[0m\u001b[0m\n\u001b[0;32m----> 3\u001b[0;31m     \u001b[0mcentral_train_loss\u001b[0m\u001b[0;34m,\u001b[0m \u001b[0mcentral_train_accuracy\u001b[0m \u001b[0;34m=\u001b[0m \u001b[0mtrain\u001b[0m\u001b[0;34m(\u001b[0m\u001b[0mcentralized_model\u001b[0m\u001b[0;34m,\u001b[0m \u001b[0mtrain_dl\u001b[0m\u001b[0;34m,\u001b[0m \u001b[0mcentralized_criterion\u001b[0m\u001b[0;34m,\u001b[0m \u001b[0mcentralized_optimizer\u001b[0m\u001b[0;34m)\u001b[0m\u001b[0;34m\u001b[0m\u001b[0;34m\u001b[0m\u001b[0m\n\u001b[0m\u001b[1;32m      4\u001b[0m     \u001b[0mcentral_test_loss\u001b[0m\u001b[0;34m,\u001b[0m \u001b[0mcentral_test_accuracy\u001b[0m \u001b[0;34m=\u001b[0m \u001b[0mvalidation\u001b[0m\u001b[0;34m(\u001b[0m\u001b[0mcentralized_model\u001b[0m\u001b[0;34m,\u001b[0m \u001b[0mtest_dl\u001b[0m\u001b[0;34m,\u001b[0m \u001b[0mcentralized_criterion\u001b[0m\u001b[0;34m)\u001b[0m\u001b[0;34m\u001b[0m\u001b[0;34m\u001b[0m\u001b[0m\n\u001b[1;32m      5\u001b[0m \u001b[0;34m\u001b[0m\u001b[0m\n",
      "\u001b[0;32m<ipython-input-13-d1b34dbe1ad7>\u001b[0m in \u001b[0;36mtrain\u001b[0;34m(model, train_loader, criterion, optimizer)\u001b[0m\n\u001b[1;32m      8\u001b[0m         \u001b[0mloss\u001b[0m \u001b[0;34m=\u001b[0m \u001b[0mcriterion\u001b[0m\u001b[0;34m(\u001b[0m\u001b[0moutput\u001b[0m\u001b[0;34m,\u001b[0m \u001b[0mtarget\u001b[0m\u001b[0;34m)\u001b[0m\u001b[0;34m\u001b[0m\u001b[0;34m\u001b[0m\u001b[0m\n\u001b[1;32m      9\u001b[0m         \u001b[0moptimizer\u001b[0m\u001b[0;34m.\u001b[0m\u001b[0mzero_grad\u001b[0m\u001b[0;34m(\u001b[0m\u001b[0;34m)\u001b[0m\u001b[0;34m\u001b[0m\u001b[0;34m\u001b[0m\u001b[0m\n\u001b[0;32m---> 10\u001b[0;31m         \u001b[0mloss\u001b[0m\u001b[0;34m.\u001b[0m\u001b[0mbackward\u001b[0m\u001b[0;34m(\u001b[0m\u001b[0;34m)\u001b[0m\u001b[0;34m\u001b[0m\u001b[0;34m\u001b[0m\u001b[0m\n\u001b[0m\u001b[1;32m     11\u001b[0m         \u001b[0moptimizer\u001b[0m\u001b[0;34m.\u001b[0m\u001b[0mstep\u001b[0m\u001b[0;34m(\u001b[0m\u001b[0;34m)\u001b[0m\u001b[0;34m\u001b[0m\u001b[0;34m\u001b[0m\u001b[0m\n\u001b[1;32m     12\u001b[0m \u001b[0;34m\u001b[0m\u001b[0m\n",
      "\u001b[0;32m~/.local/lib/python3.8/site-packages/torch/tensor.py\u001b[0m in \u001b[0;36mbackward\u001b[0;34m(self, gradient, retain_graph, create_graph)\u001b[0m\n\u001b[1;32m    219\u001b[0m                 \u001b[0mretain_graph\u001b[0m\u001b[0;34m=\u001b[0m\u001b[0mretain_graph\u001b[0m\u001b[0;34m,\u001b[0m\u001b[0;34m\u001b[0m\u001b[0;34m\u001b[0m\u001b[0m\n\u001b[1;32m    220\u001b[0m                 create_graph=create_graph)\n\u001b[0;32m--> 221\u001b[0;31m         \u001b[0mtorch\u001b[0m\u001b[0;34m.\u001b[0m\u001b[0mautograd\u001b[0m\u001b[0;34m.\u001b[0m\u001b[0mbackward\u001b[0m\u001b[0;34m(\u001b[0m\u001b[0mself\u001b[0m\u001b[0;34m,\u001b[0m \u001b[0mgradient\u001b[0m\u001b[0;34m,\u001b[0m \u001b[0mretain_graph\u001b[0m\u001b[0;34m,\u001b[0m \u001b[0mcreate_graph\u001b[0m\u001b[0;34m)\u001b[0m\u001b[0;34m\u001b[0m\u001b[0;34m\u001b[0m\u001b[0m\n\u001b[0m\u001b[1;32m    222\u001b[0m \u001b[0;34m\u001b[0m\u001b[0m\n\u001b[1;32m    223\u001b[0m     \u001b[0;32mdef\u001b[0m \u001b[0mregister_hook\u001b[0m\u001b[0;34m(\u001b[0m\u001b[0mself\u001b[0m\u001b[0;34m,\u001b[0m \u001b[0mhook\u001b[0m\u001b[0;34m)\u001b[0m\u001b[0;34m:\u001b[0m\u001b[0;34m\u001b[0m\u001b[0;34m\u001b[0m\u001b[0m\n",
      "\u001b[0;32m~/.local/lib/python3.8/site-packages/torch/autograd/__init__.py\u001b[0m in \u001b[0;36mbackward\u001b[0;34m(tensors, grad_tensors, retain_graph, create_graph, grad_variables)\u001b[0m\n\u001b[1;32m    128\u001b[0m         \u001b[0mretain_graph\u001b[0m \u001b[0;34m=\u001b[0m \u001b[0mcreate_graph\u001b[0m\u001b[0;34m\u001b[0m\u001b[0;34m\u001b[0m\u001b[0m\n\u001b[1;32m    129\u001b[0m \u001b[0;34m\u001b[0m\u001b[0m\n\u001b[0;32m--> 130\u001b[0;31m     Variable._execution_engine.run_backward(\n\u001b[0m\u001b[1;32m    131\u001b[0m         \u001b[0mtensors\u001b[0m\u001b[0;34m,\u001b[0m \u001b[0mgrad_tensors_\u001b[0m\u001b[0;34m,\u001b[0m \u001b[0mretain_graph\u001b[0m\u001b[0;34m,\u001b[0m \u001b[0mcreate_graph\u001b[0m\u001b[0;34m,\u001b[0m\u001b[0;34m\u001b[0m\u001b[0;34m\u001b[0m\u001b[0m\n\u001b[1;32m    132\u001b[0m         allow_unreachable=True)  # allow_unreachable flag\n",
      "\u001b[0;31mKeyboardInterrupt\u001b[0m: "
     ]
    }
   ],
   "source": [
    "print(\"------ Centralized Model ------\")\n",
    "for epoch in range(numEpoch):\n",
    "    central_train_loss, central_train_accuracy = train(centralized_model, train_dl, centralized_criterion, centralized_optimizer)\n",
    "    central_test_loss, central_test_accuracy = validation(centralized_model, test_dl, centralized_criterion)\n",
    "    \n",
    "    print(\"epoch: {:3.0f}\".format(epoch+1) + \" | train accuracy: {:7.4f}\".format(central_train_accuracy) + \" | test accuracy: {:7.4f}\".format(central_test_accuracy))\n",
    "\n",
    "print(\"------ Training finished ------\")"
   ]
  },
  {
   "cell_type": "markdown",
   "metadata": {
    "id": "UnGLUs1335jZ"
   },
   "source": [
    "\n",
    "----------------\n",
    "-----------------\n",
    "**Data is distributed to nodes**\n",
    "\n",
    "<!-- ### <span style=\"background-color:#F087F9\"> Datanın nodelara dağıtılması </span>    -->"
   ]
  },
  {
   "cell_type": "code",
   "execution_count": 41,
   "metadata": {
    "id": "6DBlTPruAdZ-"
   },
   "outputs": [],
   "source": [
    "label_dict_train=split_and_shuffle_labels(y_data=y_train, seed=1, amount=train_amount) \n"
   ]
  },
  {
   "cell_type": "code",
   "execution_count": 42,
   "metadata": {
    "id": "DNz4LH8KC0Cn"
   },
   "outputs": [],
   "source": [
    "sample_dict_train=get_iid_subsamples_indices(label_dict=label_dict_train, number_of_samples=number_of_samples, amount=train_amount)"
   ]
  },
  {
   "cell_type": "code",
   "execution_count": 43,
   "metadata": {
    "id": "3VKYYFRBEjYk"
   },
   "outputs": [],
   "source": [
    "x_train_dict, y_train_dict = create_iid_subsamples(sample_dict=sample_dict_train, x_data=x_train, y_data=y_train, x_name=\"x_train\", y_name=\"y_train\")\n"
   ]
  },
  {
   "cell_type": "code",
   "execution_count": 44,
   "metadata": {
    "id": "LsJTHEVG35ja"
   },
   "outputs": [],
   "source": [
    "label_dict_train=split_and_shuffle_labels(y_data=y_train, seed=1, amount=train_amount) \n",
    "sample_dict_train=get_iid_subsamples_indices(label_dict=label_dict_train, number_of_samples=number_of_samples, amount=train_amount)\n",
    "x_train_dict, y_train_dict = create_iid_subsamples(sample_dict=sample_dict_train, x_data=x_train, y_data=y_train, x_name=\"x_train\", y_name=\"y_train\")\n",
    "\n",
    "\n",
    "label_dict_valid = split_and_shuffle_labels(y_data=y_valid, seed=1, amount=valid_amount) \n",
    "sample_dict_valid = get_iid_subsamples_indices(label_dict=label_dict_valid, number_of_samples=number_of_samples, amount=valid_amount)\n",
    "x_valid_dict, y_valid_dict = create_iid_subsamples(sample_dict=sample_dict_valid, x_data=x_valid, y_data=y_valid, x_name=\"x_valid\", y_name=\"y_valid\")\n",
    "\n",
    "label_dict_test = split_and_shuffle_labels(y_data=y_test, seed=1, amount=test_amount) \n",
    "sample_dict_test = get_iid_subsamples_indices(label_dict=label_dict_test, number_of_samples=number_of_samples, amount=test_amount)\n",
    "x_test_dict, y_test_dict = create_iid_subsamples(sample_dict=sample_dict_test, x_data=x_test, y_data=y_test, x_name=\"x_test\", y_name=\"y_test\")"
   ]
  },
  {
   "cell_type": "code",
   "execution_count": 45,
   "metadata": {
    "colab": {
     "base_uri": "https://localhost:8080/",
     "height": 335
    },
    "id": "cmE7UZ2J35ja",
    "outputId": "1222dcc0-8ab8-419c-9bf7-27183b72cb54"
   },
   "outputs": [
    {
     "name": "stdout",
     "output_type": "stream",
     "text": [
      "torch.Size([15000, 3, 32, 32]) torch.Size([15000])\n",
      "torch.Size([3000, 3, 32, 32]) torch.Size([3000])\n",
      "torch.Size([3000, 3, 32, 32]) torch.Size([3000])\n",
      "tensor(9)\n"
     ]
    }
   ],
   "source": [
    "print(x_train_dict[\"x_train1\"].shape, y_train_dict[\"y_train1\"].shape)\n",
    "print(x_valid_dict[\"x_valid1\"].shape, y_valid_dict[\"y_valid1\"].shape) \n",
    "print(x_test_dict[\"x_test1\"].shape, y_test_dict[\"y_test1\"].shape)\n",
    "\n",
    "num_index = np.random.randint(test_amount/number_of_samples*10)\n",
    "# pyplot.imshow(x_test_dict[\"x_test1\"][num_index], cmap=\"gray\")\n",
    "print(y_test_dict[\"y_test1\"][num_index])"
   ]
  },
  {
   "cell_type": "markdown",
   "metadata": {
    "id": "cOhRxI2k35jb"
   },
   "source": [
    "**Main model is created**"
   ]
  },
  {
   "cell_type": "code",
   "execution_count": 46,
   "metadata": {
    "colab": {
     "base_uri": "https://localhost:8080/",
     "height": 322
    },
    "id": "MtDFD4cp35jc",
    "outputId": "ff6dd436-30d0-404e-a28c-e21cd0dc02e3"
   },
   "outputs": [],
   "source": [
    "main_model = Net2nn()\n",
    "main_optimizer = torch.optim.SGD(main_model.parameters(), lr=learning_rate, momentum=0.9)\n",
    "main_criterion = nn.CrossEntropyLoss()"
   ]
  },
  {
   "cell_type": "markdown",
   "metadata": {
    "id": "Q2l5Tf6035jc"
   },
   "source": [
    "**Models,optimizers and loss functions in nodes are defined**"
   ]
  },
  {
   "cell_type": "code",
   "execution_count": 47,
   "metadata": {
    "id": "6LmFqyGu35jc"
   },
   "outputs": [],
   "source": [
    "model_dict, optimizer_dict, criterion_dict = create_model_optimizer_criterion_dict(number_of_samples,learning_rate,momentum)"
   ]
  },
  {
   "cell_type": "markdown",
   "metadata": {
    "id": "r8h-6h9k35jd"
   },
   "source": [
    "**Keys of dicts are being made iterable**"
   ]
  },
  {
   "cell_type": "code",
   "execution_count": 48,
   "metadata": {
    "colab": {
     "base_uri": "https://localhost:8080/"
    },
    "id": "S7IPqQlnIZ_i",
    "outputId": "b4dce7a3-7bd4-4f00-af8a-691cfc89629a"
   },
   "outputs": [
    {
     "data": {
      "text/plain": [
       "dict_keys"
      ]
     },
     "execution_count": 48,
     "metadata": {},
     "output_type": "execute_result"
    }
   ],
   "source": [
    "type(x_train_dict.keys())"
   ]
  },
  {
   "cell_type": "code",
   "execution_count": 49,
   "metadata": {
    "id": "kX6cNmhS35jd"
   },
   "outputs": [],
   "source": [
    "name_of_x_train_sets=list(x_train_dict.keys())\n",
    "name_of_y_train_sets=list(y_train_dict.keys())\n",
    "name_of_x_valid_sets=list(x_valid_dict.keys())\n",
    "name_of_y_valid_sets=list(y_valid_dict.keys())\n",
    "name_of_x_test_sets=list(x_test_dict.keys())\n",
    "name_of_y_test_sets=list(y_test_dict.keys())\n",
    "\n",
    "name_of_models=list(model_dict.keys())\n",
    "name_of_optimizers=list(optimizer_dict.keys())\n",
    "name_of_criterions=list(criterion_dict.keys())\n",
    "\n",
    "# print(name_of_x_train_sets)\n",
    "# print(name_of_y_train_sets)\n",
    "# print(name_of_x_valid_sets)\n",
    "# print(name_of_y_valid_sets)\n",
    "# print(name_of_x_test_sets)\n",
    "# print(name_of_y_test_sets)\n",
    "# print(\"\\n ------------\")\n",
    "# print(name_of_models)\n",
    "# print(name_of_optimizers)\n",
    "# print(name_of_criterions)"
   ]
  },
  {
   "cell_type": "code",
   "execution_count": 67,
   "metadata": {
    "colab": {
     "base_uri": "https://localhost:8080/"
    },
    "id": "lmezq6N1Kni9",
    "outputId": "8e250a2a-645b-4423-a262-0584201846ce"
   },
   "outputs": [
    {
     "data": {
      "text/plain": [
       "4"
      ]
     },
     "execution_count": 67,
     "metadata": {},
     "output_type": "execute_result"
    }
   ],
   "source": [
    "len(main_model.conv_layer[0].weight.shape)"
   ]
  },
  {
   "cell_type": "code",
   "execution_count": 68,
   "metadata": {
    "colab": {
     "base_uri": "https://localhost:8080/"
    },
    "id": "FDukucRf35jd",
    "outputId": "3ae64852-3467-4e98-fbb3-c0e7164a2ba8"
   },
   "outputs": [],
   "source": [
    "# print(main_model.fc2.weight[0:1,0:5])\n",
    "# print(model_dict[\"model1\"].fc2.weight[0:1,0:5])"
   ]
  },
  {
   "cell_type": "markdown",
   "metadata": {
    "id": "EeIxU0QF35je"
   },
   "source": [
    "**Parameters of main model are sent to nodes**  \n",
    "Since the parameters of the main model and parameters of all local models in the nodes are randomly initialized, all these parameters will be different from each other. For this reason, the main model sends its parameters to the nodes before the training of local models in the nodes begins. You can check the weights below."
   ]
  },
  {
   "cell_type": "code",
   "execution_count": 50,
   "metadata": {
    "id": "f1LEGmKE35je"
   },
   "outputs": [],
   "source": [
    "model_dict=send_main_model_to_nodes_and_update_model_dict(main_model, model_dict, number_of_samples)"
   ]
  },
  {
   "cell_type": "code",
   "execution_count": 51,
   "metadata": {
    "colab": {
     "base_uri": "https://localhost:8080/"
    },
    "id": "foNjj86g35jf",
    "outputId": "20793073-da53-4c6c-f5ce-4e869787fcfa"
   },
   "outputs": [
    {
     "name": "stdout",
     "output_type": "stream",
     "text": [
      "tensor([[ 0.0027,  0.0006, -0.0076, -0.0007, -0.0030]],\n",
      "       grad_fn=<SliceBackward>)\n",
      "tensor([[ 0.0027,  0.0006, -0.0076, -0.0007, -0.0030]],\n",
      "       grad_fn=<SliceBackward>)\n"
     ]
    }
   ],
   "source": [
    "print(main_model.fc_layer[1].weight[0:1,0:5])\n",
    "print(model_dict[\"model1\"].fc_layer[1].weight[0:1,0:5])"
   ]
  },
  {
   "cell_type": "markdown",
   "metadata": {
    "id": "hWsNqejp35jf"
   },
   "source": [
    "**Models in the nodes are trained**"
   ]
  },
  {
   "cell_type": "code",
   "execution_count": 73,
   "metadata": {
    "colab": {
     "base_uri": "https://localhost:8080/"
    },
    "id": "LgsvAHE735jf",
    "outputId": "b2f688ac-0a3f-4974-cf92-201d16f741f4"
   },
   "outputs": [
    {
     "name": "stdout",
     "output_type": "stream",
     "text": [
      "Subset 0\n",
      "1084\n",
      "epoch:   1 | train accuracy: 0.92667 | test accuracy: 0.60222\n",
      "1163\n",
      "epoch:   2 | train accuracy: 0.94378 | test accuracy: 0.64611\n",
      "1188\n",
      "epoch:   3 | train accuracy: 0.96233 | test accuracy: 0.66000\n",
      "1091\n",
      "epoch:   4 | train accuracy: 0.97300 | test accuracy: 0.60611\n",
      "1148\n",
      "epoch:   5 | train accuracy: 0.97922 | test accuracy: 0.63778\n",
      "Subset 1\n",
      "771\n",
      "epoch:   1 | train accuracy: 0.33122 | test accuracy: 0.42833\n",
      "917\n",
      "epoch:   2 | train accuracy: 0.49433 | test accuracy: 0.50944\n",
      "977\n",
      "epoch:   3 | train accuracy: 0.60344 | test accuracy: 0.54278\n",
      "1122\n",
      "epoch:   4 | train accuracy: 0.68878 | test accuracy: 0.62333\n",
      "1079\n",
      "epoch:   5 | train accuracy: 0.76322 | test accuracy: 0.59944\n",
      "Subset 2\n",
      "730\n",
      "epoch:   1 | train accuracy: 0.34478 | test accuracy: 0.40556\n",
      "829\n",
      "epoch:   2 | train accuracy: 0.50444 | test accuracy: 0.46056\n",
      "973\n",
      "epoch:   3 | train accuracy: 0.60289 | test accuracy: 0.54056\n",
      "1129\n",
      "epoch:   4 | train accuracy: 0.67989 | test accuracy: 0.62722\n",
      "1146\n",
      "epoch:   5 | train accuracy: 0.75822 | test accuracy: 0.63667\n"
     ]
    }
   ],
   "source": [
    "# start_train_end_node_process()\n",
    "start_train_end_node_process_print_some(number_of_samples, print_amount)"
   ]
  },
  {
   "cell_type": "code",
   "execution_count": 80,
   "metadata": {
    "id": "sTkhBy322FW-"
   },
   "outputs": [],
   "source": [
    "main_model= set_averaged_weights_as_main_model_weights_and_update_main_model(main_model,model_dict, number_of_samples) \n"
   ]
  },
  {
   "cell_type": "code",
   "execution_count": 81,
   "metadata": {
    "colab": {
     "base_uri": "https://localhost:8080/"
    },
    "id": "d_AdcyVr35jg",
    "outputId": "ad5af1a5-8bc4-4613-c680-e4915c93cc1d"
   },
   "outputs": [
    {
     "ename": "ModuleAttributeError",
     "evalue": "'Net2nn' object has no attribute 'fc2'",
     "output_type": "error",
     "traceback": [
      "\u001b[0;31m---------------------------------------------------------------------------\u001b[0m",
      "\u001b[0;31mModuleAttributeError\u001b[0m                      Traceback (most recent call last)",
      "\u001b[0;32m<ipython-input-81-611d5c3218f3>\u001b[0m in \u001b[0;36m<module>\u001b[0;34m\u001b[0m\n\u001b[1;32m      1\u001b[0m \u001b[0;31m## As you can see, wieghts of local models are updated after training process\u001b[0m\u001b[0;34m\u001b[0m\u001b[0;34m\u001b[0m\u001b[0;34m\u001b[0m\u001b[0m\n\u001b[0;32m----> 2\u001b[0;31m \u001b[0mprint\u001b[0m\u001b[0;34m(\u001b[0m\u001b[0mmain_model\u001b[0m\u001b[0;34m.\u001b[0m\u001b[0mfc2\u001b[0m\u001b[0;34m.\u001b[0m\u001b[0mweight\u001b[0m\u001b[0;34m[\u001b[0m\u001b[0;36m0\u001b[0m\u001b[0;34m,\u001b[0m\u001b[0;36m0\u001b[0m\u001b[0;34m:\u001b[0m\u001b[0;36m5\u001b[0m\u001b[0;34m]\u001b[0m\u001b[0;34m)\u001b[0m\u001b[0;34m\u001b[0m\u001b[0;34m\u001b[0m\u001b[0m\n\u001b[0m\u001b[1;32m      3\u001b[0m \u001b[0mprint\u001b[0m\u001b[0;34m(\u001b[0m\u001b[0mmodel_dict\u001b[0m\u001b[0;34m[\u001b[0m\u001b[0;34m\"model1\"\u001b[0m\u001b[0;34m]\u001b[0m\u001b[0;34m.\u001b[0m\u001b[0mfc2\u001b[0m\u001b[0;34m.\u001b[0m\u001b[0mweight\u001b[0m\u001b[0;34m[\u001b[0m\u001b[0;36m0\u001b[0m\u001b[0;34m,\u001b[0m\u001b[0;36m0\u001b[0m\u001b[0;34m:\u001b[0m\u001b[0;36m5\u001b[0m\u001b[0;34m]\u001b[0m\u001b[0;34m)\u001b[0m\u001b[0;34m\u001b[0m\u001b[0;34m\u001b[0m\u001b[0m\n",
      "\u001b[0;32m~/.local/lib/python3.8/site-packages/torch/nn/modules/module.py\u001b[0m in \u001b[0;36m__getattr__\u001b[0;34m(self, name)\u001b[0m\n\u001b[1;32m    776\u001b[0m             \u001b[0;32mif\u001b[0m \u001b[0mname\u001b[0m \u001b[0;32min\u001b[0m \u001b[0mmodules\u001b[0m\u001b[0;34m:\u001b[0m\u001b[0;34m\u001b[0m\u001b[0;34m\u001b[0m\u001b[0m\n\u001b[1;32m    777\u001b[0m                 \u001b[0;32mreturn\u001b[0m \u001b[0mmodules\u001b[0m\u001b[0;34m[\u001b[0m\u001b[0mname\u001b[0m\u001b[0;34m]\u001b[0m\u001b[0;34m\u001b[0m\u001b[0;34m\u001b[0m\u001b[0m\n\u001b[0;32m--> 778\u001b[0;31m         raise ModuleAttributeError(\"'{}' object has no attribute '{}'\".format(\n\u001b[0m\u001b[1;32m    779\u001b[0m             type(self).__name__, name))\n\u001b[1;32m    780\u001b[0m \u001b[0;34m\u001b[0m\u001b[0m\n",
      "\u001b[0;31mModuleAttributeError\u001b[0m: 'Net2nn' object has no attribute 'fc2'"
     ]
    }
   ],
   "source": [
    "## As you can see, wieghts of local models are updated after training process\n",
    "print(main_model.fc2.weight[0,0:5])\n",
    "print(model_dict[\"model1\"].fc2.weight[0,0:5])"
   ]
  },
  {
   "cell_type": "code",
   "execution_count": null,
   "metadata": {
    "colab": {
     "base_uri": "https://localhost:8080/",
     "height": 283
    },
    "id": "PWDqgrVPUnUD",
    "outputId": "75b3630d-92c9-47fa-ce1e-02f216b4ffbc"
   },
   "outputs": [],
   "source": [
    "pyplot.imshow(x_test_dict[\"x_test1\"][10].reshape((28,28)), cmap=\"gray\")"
   ]
  },
  {
   "cell_type": "code",
   "execution_count": null,
   "metadata": {
    "id": "AgxU4RBr2MsF"
   },
   "outputs": [],
   "source": [
    "model_tmp = model_dict[\"model1\"]\n"
   ]
  },
  {
   "cell_type": "code",
   "execution_count": null,
   "metadata": {
    "colab": {
     "base_uri": "https://localhost:8080/"
    },
    "id": "rqY6mPR0783p",
    "outputId": "de5dba35-f0c9-4739-d97c-54e5b25480a2"
   },
   "outputs": [],
   "source": [
    "print(model_tmp)"
   ]
  },
  {
   "cell_type": "code",
   "execution_count": null,
   "metadata": {
    "colab": {
     "base_uri": "https://localhost:8080/",
     "height": 1000
    },
    "id": "yPd2d50z2Quw",
    "outputId": "e2bb7dff-988c-456d-8801-a626d6ce4afc"
   },
   "outputs": [],
   "source": [
    "with torch.no_grad():\n",
    "  model_tmp.eval()\n",
    "  for i in range(10):\n",
    "    pyplot.imshow(x_test_dict[\"x_test1\"][i].reshape((28,28)), cmap=\"gray\")\n",
    "    pyplot.title(y_test_dict[\"y_test1\"][i])\n",
    "    pyplot.show()\n",
    "    print(model_tmp(x_test_dict[\"x_test1\"][i]))"
   ]
  },
  {
   "cell_type": "code",
   "execution_count": null,
   "metadata": {
    "colab": {
     "base_uri": "https://localhost:8080/"
    },
    "id": "ad8gHIRl2UrM",
    "outputId": "8bf2106c-ea0b-49d4-9f1d-9ac44b2b0ea5"
   },
   "outputs": [],
   "source": []
  },
  {
   "cell_type": "code",
   "execution_count": null,
   "metadata": {
    "colab": {
     "base_uri": "https://localhost:8080/"
    },
    "id": "AYlcWqieSpET",
    "outputId": "4ef64b35-8490-4588-a26f-1ccc9e1a4131"
   },
   "outputs": [],
   "source": [
    "torch.softmax(main_model.forward(x_test_dict[\"x_test1\"][10]),0)\n"
   ]
  },
  {
   "cell_type": "markdown",
   "metadata": {
    "id": "RWc2Xudv35jg"
   },
   "source": [
    "### Let's compare the performance of federated main model, individual local models and centralized model  \n",
    "\n",
    "**Federated main model vs individual local models before 1st iteration (on distributed test set)**  \n",
    "Since main model is randomly initialized and no action taken on it yet, its performance is very poor. Please before_acc_table"
   ]
  },
  {
   "cell_type": "code",
   "execution_count": 48,
   "metadata": {
    "id": "wk-b6dkP35jh"
   },
   "outputs": [
    {
     "name": "stdout",
     "output_type": "stream",
     "text": [
      "1127\n",
      "223\n",
      "1133\n",
      "218\n",
      "1159\n",
      "216\n",
      "1085\n",
      "219\n",
      "169\n",
      "216\n",
      "1210\n",
      "1127\n",
      "223\n",
      "1133\n",
      "218\n",
      "1159\n",
      "216\n",
      "1085\n",
      "219\n",
      "169\n",
      "216\n",
      "1210\n"
     ]
    }
   ],
   "source": [
    "before_acc_table=compare_local_and_merged_model_performance(number_of_samples=number_of_samples)\n",
    "before_test_loss, before_test_accuracy = validation(main_model, test_dl, main_criterion)\n",
    "\n",
    "main_model= set_averaged_weights_as_main_model_weights_and_update_main_model(main_model,model_dict, number_of_samples) \n",
    "\n",
    "after_acc_table=compare_local_and_merged_model_performance(number_of_samples=number_of_samples)\n",
    "after_test_loss, after_test_accuracy = validation(main_model, test_dl, main_criterion)"
   ]
  },
  {
   "cell_type": "code",
   "execution_count": 49,
   "metadata": {
    "id": "JE_EmCcF35jh",
    "outputId": "1285c52c-81d3-429a-ca06-91c7f8f380e2"
   },
   "outputs": [
    {
     "name": "stdout",
     "output_type": "stream",
     "text": [
      "Federated main model vs individual local models before FedAvg first iteration\n"
     ]
    },
    {
     "data": {
      "text/html": [
       "<div>\n",
       "<style scoped>\n",
       "    .dataframe tbody tr th:only-of-type {\n",
       "        vertical-align: middle;\n",
       "    }\n",
       "\n",
       "    .dataframe tbody tr th {\n",
       "        vertical-align: top;\n",
       "    }\n",
       "\n",
       "    .dataframe thead th {\n",
       "        text-align: right;\n",
       "    }\n",
       "</style>\n",
       "<table border=\"1\" class=\"dataframe\">\n",
       "  <thead>\n",
       "    <tr style=\"text-align: right;\">\n",
       "      <th></th>\n",
       "      <th>sample</th>\n",
       "      <th>local_ind_model</th>\n",
       "      <th>merged_main_model</th>\n",
       "    </tr>\n",
       "  </thead>\n",
       "  <tbody>\n",
       "    <tr>\n",
       "      <th>0</th>\n",
       "      <td>sample 0</td>\n",
       "      <td>0.6261</td>\n",
       "      <td>0.1239</td>\n",
       "    </tr>\n",
       "    <tr>\n",
       "      <th>1</th>\n",
       "      <td>sample 1</td>\n",
       "      <td>0.6294</td>\n",
       "      <td>0.1211</td>\n",
       "    </tr>\n",
       "    <tr>\n",
       "      <th>2</th>\n",
       "      <td>sample 2</td>\n",
       "      <td>0.6439</td>\n",
       "      <td>0.1200</td>\n",
       "    </tr>\n",
       "    <tr>\n",
       "      <th>3</th>\n",
       "      <td>sample 3</td>\n",
       "      <td>0.6028</td>\n",
       "      <td>0.1217</td>\n",
       "    </tr>\n",
       "    <tr>\n",
       "      <th>4</th>\n",
       "      <td>sample 4</td>\n",
       "      <td>0.0939</td>\n",
       "      <td>0.1200</td>\n",
       "    </tr>\n",
       "  </tbody>\n",
       "</table>\n",
       "</div>"
      ],
      "text/plain": [
       "     sample  local_ind_model  merged_main_model\n",
       "0  sample 0           0.6261             0.1239\n",
       "1  sample 1           0.6294             0.1211\n",
       "2  sample 2           0.6439             0.1200\n",
       "3  sample 3           0.6028             0.1217\n",
       "4  sample 4           0.0939             0.1200"
      ]
     },
     "execution_count": 49,
     "metadata": {},
     "output_type": "execute_result"
    }
   ],
   "source": [
    "print(\"Federated main model vs individual local models before FedAvg first iteration\")\n",
    "before_acc_table.head()"
   ]
  },
  {
   "cell_type": "code",
   "execution_count": 50,
   "metadata": {
    "id": "7cqJpTUi35ji",
    "outputId": "486d6210-9c56-4dae-c23a-d4548cad7121"
   },
   "outputs": [
    {
     "name": "stdout",
     "output_type": "stream",
     "text": [
      "Federated main model vs individual local models after FedAvg first iteration\n"
     ]
    },
    {
     "data": {
      "text/html": [
       "<div>\n",
       "<style scoped>\n",
       "    .dataframe tbody tr th:only-of-type {\n",
       "        vertical-align: middle;\n",
       "    }\n",
       "\n",
       "    .dataframe tbody tr th {\n",
       "        vertical-align: top;\n",
       "    }\n",
       "\n",
       "    .dataframe thead th {\n",
       "        text-align: right;\n",
       "    }\n",
       "</style>\n",
       "<table border=\"1\" class=\"dataframe\">\n",
       "  <thead>\n",
       "    <tr style=\"text-align: right;\">\n",
       "      <th></th>\n",
       "      <th>sample</th>\n",
       "      <th>local_ind_model</th>\n",
       "      <th>merged_main_model</th>\n",
       "    </tr>\n",
       "  </thead>\n",
       "  <tbody>\n",
       "    <tr>\n",
       "      <th>0</th>\n",
       "      <td>sample 0</td>\n",
       "      <td>0.6261</td>\n",
       "      <td>0.1239</td>\n",
       "    </tr>\n",
       "    <tr>\n",
       "      <th>1</th>\n",
       "      <td>sample 1</td>\n",
       "      <td>0.6294</td>\n",
       "      <td>0.1211</td>\n",
       "    </tr>\n",
       "    <tr>\n",
       "      <th>2</th>\n",
       "      <td>sample 2</td>\n",
       "      <td>0.6439</td>\n",
       "      <td>0.1200</td>\n",
       "    </tr>\n",
       "    <tr>\n",
       "      <th>3</th>\n",
       "      <td>sample 3</td>\n",
       "      <td>0.6028</td>\n",
       "      <td>0.1217</td>\n",
       "    </tr>\n",
       "    <tr>\n",
       "      <th>4</th>\n",
       "      <td>sample 4</td>\n",
       "      <td>0.0939</td>\n",
       "      <td>0.1200</td>\n",
       "    </tr>\n",
       "  </tbody>\n",
       "</table>\n",
       "</div>"
      ],
      "text/plain": [
       "     sample  local_ind_model  merged_main_model\n",
       "0  sample 0           0.6261             0.1239\n",
       "1  sample 1           0.6294             0.1211\n",
       "2  sample 2           0.6439             0.1200\n",
       "3  sample 3           0.6028             0.1217\n",
       "4  sample 4           0.0939             0.1200"
      ]
     },
     "execution_count": 50,
     "metadata": {},
     "output_type": "execute_result"
    }
   ],
   "source": [
    "print(\"Federated main model vs individual local models after FedAvg first iteration\")\n",
    "after_acc_table.head()"
   ]
  },
  {
   "cell_type": "markdown",
   "metadata": {
    "id": "Urla9WMY35ji"
   },
   "source": [
    "**Federated main model vs centralized model before 1st iteration (on all test data)**  \n",
    "Please be aware that the centralized model gets approximately %98 accuracy on all test data."
   ]
  },
  {
   "cell_type": "code",
   "execution_count": 51,
   "metadata": {
    "id": "PJSZ9_Vm35jj",
    "outputId": "7469b366-3bcd-4a03-f472-da2b9aee556e"
   },
   "outputs": [
    {
     "name": "stdout",
     "output_type": "stream",
     "text": [
      "Before 1st iteration main model accuracy on all test data:  0.1210\n",
      "After 1st iteration main model accuracy on all test data:  0.1210\n",
      "Centralized model accuracy on all test data:  0.7326\n"
     ]
    }
   ],
   "source": [
    "print(\"Before 1st iteration main model accuracy on all test data: {:7.4f}\".format(before_test_accuracy))\n",
    "print(\"After 1st iteration main model accuracy on all test data: {:7.4f}\".format(after_test_accuracy))\n",
    "print(\"Centralized model accuracy on all test data: {:7.4f}\".format(central_test_accuracy))"
   ]
  },
  {
   "cell_type": "markdown",
   "metadata": {
    "id": "MXhFRYDd35jj"
   },
   "source": [
    "This is a single iteration, we can send the weights of the main model back to the nodes and repeat the above steps.\n",
    "Now let's check how the performance of the main model improves when we repeat the iteration 10 more times."
   ]
  },
  {
   "cell_type": "code",
   "execution_count": 52,
   "metadata": {
    "id": "PJqH4V1u35jj",
    "outputId": "d1cc92ae-c0df-4cea-8ae1-abd6bd2cbe1d",
    "scrolled": true
   },
   "outputs": [
    {
     "name": "stdout",
     "output_type": "stream",
     "text": [
      "Subset 0\n",
      "1302\n",
      "epoch:   1 | train accuracy: 0.39273 | test accuracy: 0.43400\n",
      "1807\n",
      "epoch:   2 | train accuracy: 0.58013 | test accuracy: 0.60233\n",
      "1811\n",
      "epoch:   3 | train accuracy: 0.68160 | test accuracy: 0.60367\n",
      "1979\n",
      "epoch:   4 | train accuracy: 0.75613 | test accuracy: 0.65967\n",
      "2049\n",
      "epoch:   5 | train accuracy: 0.83067 | test accuracy: 0.68300\n",
      "Subset 1\n",
      "1465\n",
      "epoch:   1 | train accuracy: 0.39233 | test accuracy: 0.48833\n",
      "1801\n",
      "epoch:   2 | train accuracy: 0.57287 | test accuracy: 0.60033\n",
      "1796\n",
      "epoch:   3 | train accuracy: 0.67067 | test accuracy: 0.59867\n",
      "2000\n",
      "epoch:   4 | train accuracy: 0.75213 | test accuracy: 0.66667\n",
      "2090\n",
      "epoch:   5 | train accuracy: 0.82813 | test accuracy: 0.69667\n",
      "Subset 2\n",
      "1423\n",
      "epoch:   1 | train accuracy: 0.34840 | test accuracy: 0.47433\n",
      "1704\n",
      "epoch:   2 | train accuracy: 0.51830 | test accuracy: 0.56800\n",
      "1871\n",
      "epoch:   3 | train accuracy: 0.61970 | test accuracy: 0.62367\n",
      "1864\n",
      "epoch:   4 | train accuracy: 0.69760 | test accuracy: 0.62133\n",
      "1984\n",
      "epoch:   5 | train accuracy: 0.78120 | test accuracy: 0.66133\n",
      "conv_layer.0.weight\n",
      "conv_layer.0.bias\n",
      "conv_layer.1.weight\n",
      "conv_layer.1.bias\n",
      "conv_layer.1.running_mean\n",
      "conv_layer.1.running_var\n",
      "conv_layer.1.num_batches_tracked\n",
      "conv_layer.3.weight\n",
      "conv_layer.3.bias\n",
      "conv_layer.6.weight\n",
      "conv_layer.6.bias\n",
      "conv_layer.7.weight\n",
      "conv_layer.7.bias\n",
      "conv_layer.7.running_mean\n",
      "conv_layer.7.running_var\n",
      "conv_layer.7.num_batches_tracked\n",
      "conv_layer.9.weight\n",
      "conv_layer.9.bias\n",
      "fc_layer.1.weight\n",
      "fc_layer.1.bias\n",
      "fc_layer.3.weight\n",
      "fc_layer.3.bias\n",
      "fc_layer.6.weight\n",
      "fc_layer.6.bias\n",
      "6573\n",
      "Iteration 2 : main_model accuracy on all test data:  0.6573\n",
      "Subset 0\n",
      "1938\n",
      "epoch:   1 | train accuracy: 0.72760 | test accuracy: 0.64600\n",
      "2094\n",
      "epoch:   2 | train accuracy: 0.83227 | test accuracy: 0.69800\n"
     ]
    },
    {
     "ename": "KeyboardInterrupt",
     "evalue": "",
     "output_type": "error",
     "traceback": [
      "\u001b[0;31m---------------------------------------------------------------------------\u001b[0m",
      "\u001b[0;31mKeyboardInterrupt\u001b[0m                         Traceback (most recent call last)",
      "\u001b[0;32m<ipython-input-52-bfb0d5ef6fb1>\u001b[0m in \u001b[0;36m<module>\u001b[0;34m\u001b[0m\n\u001b[1;32m      1\u001b[0m \u001b[0;32mfor\u001b[0m \u001b[0mi\u001b[0m \u001b[0;32min\u001b[0m \u001b[0mrange\u001b[0m\u001b[0;34m(\u001b[0m\u001b[0;36m10\u001b[0m\u001b[0;34m)\u001b[0m\u001b[0;34m:\u001b[0m\u001b[0;34m\u001b[0m\u001b[0;34m\u001b[0m\u001b[0m\n\u001b[1;32m      2\u001b[0m     \u001b[0mmodel_dict\u001b[0m\u001b[0;34m=\u001b[0m\u001b[0msend_main_model_to_nodes_and_update_model_dict\u001b[0m\u001b[0;34m(\u001b[0m\u001b[0mmain_model\u001b[0m\u001b[0;34m,\u001b[0m \u001b[0mmodel_dict\u001b[0m\u001b[0;34m,\u001b[0m \u001b[0mnumber_of_samples\u001b[0m\u001b[0;34m)\u001b[0m\u001b[0;34m\u001b[0m\u001b[0;34m\u001b[0m\u001b[0m\n\u001b[0;32m----> 3\u001b[0;31m     \u001b[0mstart_train_end_node_process_print_some\u001b[0m\u001b[0;34m(\u001b[0m\u001b[0mnumber_of_samples\u001b[0m\u001b[0;34m,\u001b[0m\u001b[0;36m3\u001b[0m\u001b[0;34m)\u001b[0m\u001b[0;34m\u001b[0m\u001b[0;34m\u001b[0m\u001b[0m\n\u001b[0m\u001b[1;32m      4\u001b[0m     \u001b[0mmain_model\u001b[0m\u001b[0;34m=\u001b[0m \u001b[0mset_averaged_weights_as_main_model_weights_and_update_main_model\u001b[0m\u001b[0;34m(\u001b[0m\u001b[0mmain_model\u001b[0m\u001b[0;34m,\u001b[0m\u001b[0mmodel_dict\u001b[0m\u001b[0;34m,\u001b[0m \u001b[0mnumber_of_samples\u001b[0m\u001b[0;34m)\u001b[0m\u001b[0;34m\u001b[0m\u001b[0;34m\u001b[0m\u001b[0m\n\u001b[1;32m      5\u001b[0m     \u001b[0mtest_loss\u001b[0m\u001b[0;34m,\u001b[0m \u001b[0mtest_accuracy\u001b[0m \u001b[0;34m=\u001b[0m \u001b[0mvalidation\u001b[0m\u001b[0;34m(\u001b[0m\u001b[0mmain_model\u001b[0m\u001b[0;34m,\u001b[0m \u001b[0mtest_dl\u001b[0m\u001b[0;34m,\u001b[0m \u001b[0mmain_criterion\u001b[0m\u001b[0;34m)\u001b[0m\u001b[0;34m\u001b[0m\u001b[0;34m\u001b[0m\u001b[0m\n",
      "\u001b[0;32m<ipython-input-23-b2f0fd762b80>\u001b[0m in \u001b[0;36mstart_train_end_node_process_print_some\u001b[0;34m(number_of_samples, print_amount)\u001b[0m\n\u001b[1;32m     18\u001b[0m \u001b[0;34m\u001b[0m\u001b[0m\n\u001b[1;32m     19\u001b[0m             \u001b[0mtrain_loss\u001b[0m\u001b[0;34m,\u001b[0m \u001b[0mtrain_accuracy\u001b[0m \u001b[0;34m=\u001b[0m \u001b[0mtrain\u001b[0m\u001b[0;34m(\u001b[0m\u001b[0mmodel\u001b[0m\u001b[0;34m,\u001b[0m \u001b[0mtrain_dl\u001b[0m\u001b[0;34m,\u001b[0m \u001b[0mcriterion\u001b[0m\u001b[0;34m,\u001b[0m \u001b[0moptimizer\u001b[0m\u001b[0;34m)\u001b[0m\u001b[0;34m\u001b[0m\u001b[0;34m\u001b[0m\u001b[0m\n\u001b[0;32m---> 20\u001b[0;31m             \u001b[0mtest_loss\u001b[0m\u001b[0;34m,\u001b[0m \u001b[0mtest_accuracy\u001b[0m \u001b[0;34m=\u001b[0m \u001b[0mvalidation\u001b[0m\u001b[0;34m(\u001b[0m\u001b[0mmodel\u001b[0m\u001b[0;34m,\u001b[0m \u001b[0mtest_dl\u001b[0m\u001b[0;34m,\u001b[0m \u001b[0mcriterion\u001b[0m\u001b[0;34m)\u001b[0m\u001b[0;34m\u001b[0m\u001b[0;34m\u001b[0m\u001b[0m\n\u001b[0m\u001b[1;32m     21\u001b[0m \u001b[0;34m\u001b[0m\u001b[0m\n\u001b[1;32m     22\u001b[0m             \u001b[0;32mif\u001b[0m \u001b[0mi\u001b[0m\u001b[0;34m<\u001b[0m\u001b[0mprint_amount\u001b[0m\u001b[0;34m:\u001b[0m\u001b[0;34m\u001b[0m\u001b[0;34m\u001b[0m\u001b[0m\n",
      "\u001b[0;32m<ipython-input-14-b9183e053b45>\u001b[0m in \u001b[0;36mvalidation\u001b[0;34m(model, test_loader, criterion)\u001b[0m\n\u001b[1;32m      5\u001b[0m     \u001b[0;32mwith\u001b[0m \u001b[0mtorch\u001b[0m\u001b[0;34m.\u001b[0m\u001b[0mno_grad\u001b[0m\u001b[0;34m(\u001b[0m\u001b[0;34m)\u001b[0m\u001b[0;34m:\u001b[0m\u001b[0;34m\u001b[0m\u001b[0;34m\u001b[0m\u001b[0m\n\u001b[1;32m      6\u001b[0m         \u001b[0;32mfor\u001b[0m \u001b[0mdata\u001b[0m\u001b[0;34m,\u001b[0m \u001b[0mtarget\u001b[0m \u001b[0;32min\u001b[0m \u001b[0mtest_loader\u001b[0m\u001b[0;34m:\u001b[0m\u001b[0;34m\u001b[0m\u001b[0;34m\u001b[0m\u001b[0m\n\u001b[0;32m----> 7\u001b[0;31m             \u001b[0moutput\u001b[0m \u001b[0;34m=\u001b[0m \u001b[0mmodel\u001b[0m\u001b[0;34m(\u001b[0m\u001b[0mdata\u001b[0m\u001b[0;34m)\u001b[0m\u001b[0;34m\u001b[0m\u001b[0;34m\u001b[0m\u001b[0m\n\u001b[0m\u001b[1;32m      8\u001b[0m \u001b[0;34m\u001b[0m\u001b[0m\n\u001b[1;32m      9\u001b[0m             \u001b[0mtest_loss\u001b[0m \u001b[0;34m+=\u001b[0m \u001b[0mcriterion\u001b[0m\u001b[0;34m(\u001b[0m\u001b[0moutput\u001b[0m\u001b[0;34m,\u001b[0m \u001b[0mtarget\u001b[0m\u001b[0;34m)\u001b[0m\u001b[0;34m.\u001b[0m\u001b[0mitem\u001b[0m\u001b[0;34m(\u001b[0m\u001b[0;34m)\u001b[0m\u001b[0;34m\u001b[0m\u001b[0;34m\u001b[0m\u001b[0m\n",
      "\u001b[0;32m~/.local/lib/python3.8/site-packages/torch/nn/modules/module.py\u001b[0m in \u001b[0;36m_call_impl\u001b[0;34m(self, *input, **kwargs)\u001b[0m\n\u001b[1;32m    725\u001b[0m             \u001b[0mresult\u001b[0m \u001b[0;34m=\u001b[0m \u001b[0mself\u001b[0m\u001b[0;34m.\u001b[0m\u001b[0m_slow_forward\u001b[0m\u001b[0;34m(\u001b[0m\u001b[0;34m*\u001b[0m\u001b[0minput\u001b[0m\u001b[0;34m,\u001b[0m \u001b[0;34m**\u001b[0m\u001b[0mkwargs\u001b[0m\u001b[0;34m)\u001b[0m\u001b[0;34m\u001b[0m\u001b[0;34m\u001b[0m\u001b[0m\n\u001b[1;32m    726\u001b[0m         \u001b[0;32melse\u001b[0m\u001b[0;34m:\u001b[0m\u001b[0;34m\u001b[0m\u001b[0;34m\u001b[0m\u001b[0m\n\u001b[0;32m--> 727\u001b[0;31m             \u001b[0mresult\u001b[0m \u001b[0;34m=\u001b[0m \u001b[0mself\u001b[0m\u001b[0;34m.\u001b[0m\u001b[0mforward\u001b[0m\u001b[0;34m(\u001b[0m\u001b[0;34m*\u001b[0m\u001b[0minput\u001b[0m\u001b[0;34m,\u001b[0m \u001b[0;34m**\u001b[0m\u001b[0mkwargs\u001b[0m\u001b[0;34m)\u001b[0m\u001b[0;34m\u001b[0m\u001b[0;34m\u001b[0m\u001b[0m\n\u001b[0m\u001b[1;32m    728\u001b[0m         for hook in itertools.chain(\n\u001b[1;32m    729\u001b[0m                 \u001b[0m_global_forward_hooks\u001b[0m\u001b[0;34m.\u001b[0m\u001b[0mvalues\u001b[0m\u001b[0;34m(\u001b[0m\u001b[0;34m)\u001b[0m\u001b[0;34m,\u001b[0m\u001b[0;34m\u001b[0m\u001b[0;34m\u001b[0m\u001b[0m\n",
      "\u001b[0;32m<ipython-input-37-094adf43614a>\u001b[0m in \u001b[0;36mforward\u001b[0;34m(self, x)\u001b[0m\n\u001b[1;32m     49\u001b[0m \u001b[0;34m\u001b[0m\u001b[0m\n\u001b[1;32m     50\u001b[0m         \u001b[0;31m# conv layers\u001b[0m\u001b[0;34m\u001b[0m\u001b[0;34m\u001b[0m\u001b[0;34m\u001b[0m\u001b[0m\n\u001b[0;32m---> 51\u001b[0;31m         \u001b[0mx\u001b[0m \u001b[0;34m=\u001b[0m \u001b[0mself\u001b[0m\u001b[0;34m.\u001b[0m\u001b[0mconv_layer\u001b[0m\u001b[0;34m(\u001b[0m\u001b[0mx\u001b[0m\u001b[0;34m)\u001b[0m\u001b[0;34m\u001b[0m\u001b[0;34m\u001b[0m\u001b[0m\n\u001b[0m\u001b[1;32m     52\u001b[0m \u001b[0;34m\u001b[0m\u001b[0m\n\u001b[1;32m     53\u001b[0m         \u001b[0;31m# flatten\u001b[0m\u001b[0;34m\u001b[0m\u001b[0;34m\u001b[0m\u001b[0;34m\u001b[0m\u001b[0m\n",
      "\u001b[0;32m~/.local/lib/python3.8/site-packages/torch/nn/modules/module.py\u001b[0m in \u001b[0;36m_call_impl\u001b[0;34m(self, *input, **kwargs)\u001b[0m\n\u001b[1;32m    725\u001b[0m             \u001b[0mresult\u001b[0m \u001b[0;34m=\u001b[0m \u001b[0mself\u001b[0m\u001b[0;34m.\u001b[0m\u001b[0m_slow_forward\u001b[0m\u001b[0;34m(\u001b[0m\u001b[0;34m*\u001b[0m\u001b[0minput\u001b[0m\u001b[0;34m,\u001b[0m \u001b[0;34m**\u001b[0m\u001b[0mkwargs\u001b[0m\u001b[0;34m)\u001b[0m\u001b[0;34m\u001b[0m\u001b[0;34m\u001b[0m\u001b[0m\n\u001b[1;32m    726\u001b[0m         \u001b[0;32melse\u001b[0m\u001b[0;34m:\u001b[0m\u001b[0;34m\u001b[0m\u001b[0;34m\u001b[0m\u001b[0m\n\u001b[0;32m--> 727\u001b[0;31m             \u001b[0mresult\u001b[0m \u001b[0;34m=\u001b[0m \u001b[0mself\u001b[0m\u001b[0;34m.\u001b[0m\u001b[0mforward\u001b[0m\u001b[0;34m(\u001b[0m\u001b[0;34m*\u001b[0m\u001b[0minput\u001b[0m\u001b[0;34m,\u001b[0m \u001b[0;34m**\u001b[0m\u001b[0mkwargs\u001b[0m\u001b[0;34m)\u001b[0m\u001b[0;34m\u001b[0m\u001b[0;34m\u001b[0m\u001b[0m\n\u001b[0m\u001b[1;32m    728\u001b[0m         for hook in itertools.chain(\n\u001b[1;32m    729\u001b[0m                 \u001b[0m_global_forward_hooks\u001b[0m\u001b[0;34m.\u001b[0m\u001b[0mvalues\u001b[0m\u001b[0;34m(\u001b[0m\u001b[0;34m)\u001b[0m\u001b[0;34m,\u001b[0m\u001b[0;34m\u001b[0m\u001b[0;34m\u001b[0m\u001b[0m\n",
      "\u001b[0;32m~/.local/lib/python3.8/site-packages/torch/nn/modules/container.py\u001b[0m in \u001b[0;36mforward\u001b[0;34m(self, input)\u001b[0m\n\u001b[1;32m    115\u001b[0m     \u001b[0;32mdef\u001b[0m \u001b[0mforward\u001b[0m\u001b[0;34m(\u001b[0m\u001b[0mself\u001b[0m\u001b[0;34m,\u001b[0m \u001b[0minput\u001b[0m\u001b[0;34m)\u001b[0m\u001b[0;34m:\u001b[0m\u001b[0;34m\u001b[0m\u001b[0;34m\u001b[0m\u001b[0m\n\u001b[1;32m    116\u001b[0m         \u001b[0;32mfor\u001b[0m \u001b[0mmodule\u001b[0m \u001b[0;32min\u001b[0m \u001b[0mself\u001b[0m\u001b[0;34m:\u001b[0m\u001b[0;34m\u001b[0m\u001b[0;34m\u001b[0m\u001b[0m\n\u001b[0;32m--> 117\u001b[0;31m             \u001b[0minput\u001b[0m \u001b[0;34m=\u001b[0m \u001b[0mmodule\u001b[0m\u001b[0;34m(\u001b[0m\u001b[0minput\u001b[0m\u001b[0;34m)\u001b[0m\u001b[0;34m\u001b[0m\u001b[0;34m\u001b[0m\u001b[0m\n\u001b[0m\u001b[1;32m    118\u001b[0m         \u001b[0;32mreturn\u001b[0m \u001b[0minput\u001b[0m\u001b[0;34m\u001b[0m\u001b[0;34m\u001b[0m\u001b[0m\n\u001b[1;32m    119\u001b[0m \u001b[0;34m\u001b[0m\u001b[0m\n",
      "\u001b[0;32m~/.local/lib/python3.8/site-packages/torch/nn/modules/module.py\u001b[0m in \u001b[0;36m_call_impl\u001b[0;34m(self, *input, **kwargs)\u001b[0m\n\u001b[1;32m    725\u001b[0m             \u001b[0mresult\u001b[0m \u001b[0;34m=\u001b[0m \u001b[0mself\u001b[0m\u001b[0;34m.\u001b[0m\u001b[0m_slow_forward\u001b[0m\u001b[0;34m(\u001b[0m\u001b[0;34m*\u001b[0m\u001b[0minput\u001b[0m\u001b[0;34m,\u001b[0m \u001b[0;34m**\u001b[0m\u001b[0mkwargs\u001b[0m\u001b[0;34m)\u001b[0m\u001b[0;34m\u001b[0m\u001b[0;34m\u001b[0m\u001b[0m\n\u001b[1;32m    726\u001b[0m         \u001b[0;32melse\u001b[0m\u001b[0;34m:\u001b[0m\u001b[0;34m\u001b[0m\u001b[0;34m\u001b[0m\u001b[0m\n\u001b[0;32m--> 727\u001b[0;31m             \u001b[0mresult\u001b[0m \u001b[0;34m=\u001b[0m \u001b[0mself\u001b[0m\u001b[0;34m.\u001b[0m\u001b[0mforward\u001b[0m\u001b[0;34m(\u001b[0m\u001b[0;34m*\u001b[0m\u001b[0minput\u001b[0m\u001b[0;34m,\u001b[0m \u001b[0;34m**\u001b[0m\u001b[0mkwargs\u001b[0m\u001b[0;34m)\u001b[0m\u001b[0;34m\u001b[0m\u001b[0;34m\u001b[0m\u001b[0m\n\u001b[0m\u001b[1;32m    728\u001b[0m         for hook in itertools.chain(\n\u001b[1;32m    729\u001b[0m                 \u001b[0m_global_forward_hooks\u001b[0m\u001b[0;34m.\u001b[0m\u001b[0mvalues\u001b[0m\u001b[0;34m(\u001b[0m\u001b[0;34m)\u001b[0m\u001b[0;34m,\u001b[0m\u001b[0;34m\u001b[0m\u001b[0;34m\u001b[0m\u001b[0m\n",
      "\u001b[0;32m~/.local/lib/python3.8/site-packages/torch/nn/modules/conv.py\u001b[0m in \u001b[0;36mforward\u001b[0;34m(self, input)\u001b[0m\n\u001b[1;32m    421\u001b[0m \u001b[0;34m\u001b[0m\u001b[0m\n\u001b[1;32m    422\u001b[0m     \u001b[0;32mdef\u001b[0m \u001b[0mforward\u001b[0m\u001b[0;34m(\u001b[0m\u001b[0mself\u001b[0m\u001b[0;34m,\u001b[0m \u001b[0minput\u001b[0m\u001b[0;34m:\u001b[0m \u001b[0mTensor\u001b[0m\u001b[0;34m)\u001b[0m \u001b[0;34m->\u001b[0m \u001b[0mTensor\u001b[0m\u001b[0;34m:\u001b[0m\u001b[0;34m\u001b[0m\u001b[0;34m\u001b[0m\u001b[0m\n\u001b[0;32m--> 423\u001b[0;31m         \u001b[0;32mreturn\u001b[0m \u001b[0mself\u001b[0m\u001b[0;34m.\u001b[0m\u001b[0m_conv_forward\u001b[0m\u001b[0;34m(\u001b[0m\u001b[0minput\u001b[0m\u001b[0;34m,\u001b[0m \u001b[0mself\u001b[0m\u001b[0;34m.\u001b[0m\u001b[0mweight\u001b[0m\u001b[0;34m)\u001b[0m\u001b[0;34m\u001b[0m\u001b[0;34m\u001b[0m\u001b[0m\n\u001b[0m\u001b[1;32m    424\u001b[0m \u001b[0;34m\u001b[0m\u001b[0m\n\u001b[1;32m    425\u001b[0m \u001b[0;32mclass\u001b[0m \u001b[0mConv3d\u001b[0m\u001b[0;34m(\u001b[0m\u001b[0m_ConvNd\u001b[0m\u001b[0;34m)\u001b[0m\u001b[0;34m:\u001b[0m\u001b[0;34m\u001b[0m\u001b[0;34m\u001b[0m\u001b[0m\n",
      "\u001b[0;32m~/.local/lib/python3.8/site-packages/torch/nn/modules/conv.py\u001b[0m in \u001b[0;36m_conv_forward\u001b[0;34m(self, input, weight)\u001b[0m\n\u001b[1;32m    417\u001b[0m                             \u001b[0mweight\u001b[0m\u001b[0;34m,\u001b[0m \u001b[0mself\u001b[0m\u001b[0;34m.\u001b[0m\u001b[0mbias\u001b[0m\u001b[0;34m,\u001b[0m \u001b[0mself\u001b[0m\u001b[0;34m.\u001b[0m\u001b[0mstride\u001b[0m\u001b[0;34m,\u001b[0m\u001b[0;34m\u001b[0m\u001b[0;34m\u001b[0m\u001b[0m\n\u001b[1;32m    418\u001b[0m                             _pair(0), self.dilation, self.groups)\n\u001b[0;32m--> 419\u001b[0;31m         return F.conv2d(input, weight, self.bias, self.stride,\n\u001b[0m\u001b[1;32m    420\u001b[0m                         self.padding, self.dilation, self.groups)\n\u001b[1;32m    421\u001b[0m \u001b[0;34m\u001b[0m\u001b[0m\n",
      "\u001b[0;31mKeyboardInterrupt\u001b[0m: "
     ]
    }
   ],
   "source": [
    "for i in range(10):\n",
    "    model_dict=send_main_model_to_nodes_and_update_model_dict(main_model, model_dict, number_of_samples)\n",
    "    start_train_end_node_process_print_some(number_of_samples,3)\n",
    "    main_model= set_averaged_weights_as_main_model_weights_and_update_main_model(main_model,model_dict, number_of_samples) \n",
    "    test_loss, test_accuracy = validation(main_model, test_dl, main_criterion)\n",
    "    print(\"Iteration\", str(i+2), \": main_model accuracy on all test data: {:7.4f}\".format(test_accuracy))   "
   ]
  },
  {
   "cell_type": "markdown",
   "metadata": {
    "id": "tQklAOWh35jk"
   },
   "source": [
    "The accuracy of the centralized model was calculated as approximately 98%. The accuracy of the main model obtained by FedAvg method started from 85% and improved to 94%. In this case, we can say that although the main model obtained by FedAvg method was trained without seeing the data, its performance cannot be underestimated."
   ]
  },
  {
   "cell_type": "code",
   "execution_count": 97,
   "metadata": {
    "id": "fOcLp1BMC2Rv"
   },
   "outputs": [
    {
     "name": "stdout",
     "output_type": "stream",
     "text": [
      "conv_layer.0.weight\n",
      "conv_layer.0.bias\n",
      "conv_layer.1.weight\n",
      "conv_layer.1.bias\n",
      "conv_layer.1.running_mean\n",
      "conv_layer.1.running_var\n",
      "conv_layer.1.num_batches_tracked\n",
      "conv_layer.3.weight\n",
      "conv_layer.3.bias\n",
      "conv_layer.6.weight\n",
      "conv_layer.6.bias\n",
      "conv_layer.7.weight\n",
      "conv_layer.7.bias\n",
      "conv_layer.7.running_mean\n",
      "conv_layer.7.running_var\n",
      "conv_layer.7.num_batches_tracked\n",
      "conv_layer.9.weight\n",
      "conv_layer.9.bias\n",
      "fc_layer.1.weight\n",
      "fc_layer.1.bias\n",
      "fc_layer.3.weight\n",
      "fc_layer.3.bias\n",
      "fc_layer.6.weight\n",
      "fc_layer.6.bias\n"
     ]
    }
   ],
   "source": [
    "main_model= set_averaged_weights_as_main_model_weights_and_update_main_model(main_model,model_dict, number_of_samples) \n"
   ]
  },
  {
   "cell_type": "code",
   "execution_count": 99,
   "metadata": {},
   "outputs": [
    {
     "data": {
      "text/plain": [
       "10000"
      ]
     },
     "execution_count": 99,
     "metadata": {},
     "output_type": "execute_result"
    }
   ],
   "source": [
    "len(test_dl.dataset)"
   ]
  },
  {
   "cell_type": "code",
   "execution_count": 98,
   "metadata": {},
   "outputs": [
    {
     "name": "stdout",
     "output_type": "stream",
     "text": [
      "7681\n"
     ]
    }
   ],
   "source": [
    "test_loss, test_accuracy = validation(main_model, test_dl, main_criterion)"
   ]
  },
  {
   "cell_type": "code",
   "execution_count": null,
   "metadata": {},
   "outputs": [],
   "source": []
  },
  {
   "cell_type": "code",
   "execution_count": null,
   "metadata": {},
   "outputs": [],
   "source": []
  },
  {
   "cell_type": "code",
   "execution_count": null,
   "metadata": {},
   "outputs": [],
   "source": []
  },
  {
   "cell_type": "code",
   "execution_count": null,
   "metadata": {},
   "outputs": [],
   "source": []
  },
  {
   "cell_type": "code",
   "execution_count": null,
   "metadata": {},
   "outputs": [],
   "source": []
  },
  {
   "cell_type": "code",
   "execution_count": null,
   "metadata": {},
   "outputs": [],
   "source": []
  },
  {
   "cell_type": "code",
   "execution_count": null,
   "metadata": {},
   "outputs": [],
   "source": []
  },
  {
   "cell_type": "code",
   "execution_count": null,
   "metadata": {},
   "outputs": [],
   "source": []
  },
  {
   "cell_type": "code",
   "execution_count": null,
   "metadata": {},
   "outputs": [],
   "source": []
  },
  {
   "cell_type": "code",
   "execution_count": null,
   "metadata": {},
   "outputs": [],
   "source": []
  },
  {
   "cell_type": "code",
   "execution_count": null,
   "metadata": {},
   "outputs": [],
   "source": []
  },
  {
   "cell_type": "code",
   "execution_count": null,
   "metadata": {},
   "outputs": [],
   "source": []
  },
  {
   "cell_type": "code",
   "execution_count": null,
   "metadata": {},
   "outputs": [],
   "source": []
  },
  {
   "cell_type": "code",
   "execution_count": null,
   "metadata": {},
   "outputs": [],
   "source": []
  },
  {
   "cell_type": "code",
   "execution_count": null,
   "metadata": {},
   "outputs": [],
   "source": []
  },
  {
   "cell_type": "code",
   "execution_count": null,
   "metadata": {},
   "outputs": [],
   "source": []
  },
  {
   "cell_type": "code",
   "execution_count": null,
   "metadata": {},
   "outputs": [],
   "source": []
  },
  {
   "cell_type": "code",
   "execution_count": null,
   "metadata": {},
   "outputs": [],
   "source": []
  },
  {
   "cell_type": "code",
   "execution_count": null,
   "metadata": {},
   "outputs": [],
   "source": []
  },
  {
   "cell_type": "code",
   "execution_count": null,
   "metadata": {},
   "outputs": [],
   "source": []
  },
  {
   "cell_type": "code",
   "execution_count": null,
   "metadata": {},
   "outputs": [],
   "source": []
  },
  {
   "cell_type": "code",
   "execution_count": null,
   "metadata": {},
   "outputs": [],
   "source": []
  },
  {
   "cell_type": "code",
   "execution_count": null,
   "metadata": {},
   "outputs": [],
   "source": []
  },
  {
   "cell_type": "code",
   "execution_count": null,
   "metadata": {},
   "outputs": [],
   "source": []
  },
  {
   "cell_type": "code",
   "execution_count": null,
   "metadata": {},
   "outputs": [],
   "source": []
  },
  {
   "cell_type": "code",
   "execution_count": null,
   "metadata": {},
   "outputs": [],
   "source": []
  },
  {
   "cell_type": "code",
   "execution_count": null,
   "metadata": {},
   "outputs": [],
   "source": []
  },
  {
   "cell_type": "code",
   "execution_count": null,
   "metadata": {},
   "outputs": [],
   "source": []
  },
  {
   "cell_type": "code",
   "execution_count": null,
   "metadata": {},
   "outputs": [],
   "source": []
  },
  {
   "cell_type": "code",
   "execution_count": null,
   "metadata": {},
   "outputs": [],
   "source": []
  },
  {
   "cell_type": "code",
   "execution_count": null,
   "metadata": {},
   "outputs": [],
   "source": []
  },
  {
   "cell_type": "code",
   "execution_count": null,
   "metadata": {},
   "outputs": [],
   "source": []
  },
  {
   "cell_type": "code",
   "execution_count": null,
   "metadata": {},
   "outputs": [],
   "source": []
  },
  {
   "cell_type": "code",
   "execution_count": null,
   "metadata": {},
   "outputs": [],
   "source": []
  },
  {
   "cell_type": "code",
   "execution_count": null,
   "metadata": {},
   "outputs": [],
   "source": []
  },
  {
   "cell_type": "code",
   "execution_count": null,
   "metadata": {},
   "outputs": [],
   "source": []
  },
  {
   "cell_type": "code",
   "execution_count": null,
   "metadata": {},
   "outputs": [],
   "source": []
  },
  {
   "cell_type": "code",
   "execution_count": null,
   "metadata": {},
   "outputs": [],
   "source": []
  },
  {
   "cell_type": "code",
   "execution_count": null,
   "metadata": {},
   "outputs": [],
   "source": []
  },
  {
   "cell_type": "code",
   "execution_count": null,
   "metadata": {},
   "outputs": [],
   "source": []
  },
  {
   "cell_type": "code",
   "execution_count": null,
   "metadata": {},
   "outputs": [],
   "source": []
  },
  {
   "cell_type": "code",
   "execution_count": null,
   "metadata": {},
   "outputs": [],
   "source": []
  },
  {
   "cell_type": "code",
   "execution_count": null,
   "metadata": {},
   "outputs": [],
   "source": []
  },
  {
   "cell_type": "code",
   "execution_count": null,
   "metadata": {},
   "outputs": [],
   "source": []
  },
  {
   "cell_type": "code",
   "execution_count": null,
   "metadata": {},
   "outputs": [],
   "source": []
  },
  {
   "cell_type": "code",
   "execution_count": null,
   "metadata": {},
   "outputs": [],
   "source": []
  },
  {
   "cell_type": "code",
   "execution_count": 53,
   "metadata": {},
   "outputs": [],
   "source": [
    "import pandas as pd "
   ]
  },
  {
   "cell_type": "code",
   "execution_count": 63,
   "metadata": {},
   "outputs": [],
   "source": [
    "converters = {\n",
    "        'Codice fiscale/Partita IVA': str, 'ATECO2007codice': str}"
   ]
  },
  {
   "cell_type": "code",
   "execution_count": 66,
   "metadata": {},
   "outputs": [],
   "source": [
    "df_2020 = pd.DataFrame()\n",
    "for i in range(1,11):\n",
    "    _tmp = pd.read_csv('/home/fpinell/Documents/dati_2020/{}.csv'.format(i),converters=converters).drop(columns='Unnamed: 0')\n",
    "    df_2020 = pd.concat([df_2020,_tmp])"
   ]
  },
  {
   "cell_type": "code",
   "execution_count": 71,
   "metadata": {},
   "outputs": [
    {
     "data": {
      "text/plain": [
       "Index(['Ragione socialeCaratteri latini', 'Codice fiscale/Partita IVA',\n",
       "       'Città\\nLocal Alphabet', 'Città\\nLatin Alphabet', 'NUTS3',\n",
       "       'Indirizzo sito web', 'Data di costituzione', 'Stato attivita',\n",
       "       'Forma giuridica nazionale', 'Classificazione per dimensione',\n",
       "       'Numero di anni disponibili',\n",
       "       'Totale valore della produzione\\nmigl EUR 2020',\n",
       "       'Numero dipendenti\\n2020',\n",
       "       'Rendimento del capitale investito (ROCE) - Lordo (%)\\n2020',\n",
       "       'Costi per ricerca e sviluppo\\nmigl EUR 2020',\n",
       "       'Fatturato netto\\nmigl EUR 2020', 'EBITDA\\nmigl EUR 2020',\n",
       "       'Redditività del totale Attivo (ROA) - Netto (%)\\n2020',\n",
       "       'Margine di profitto (%)\\n2020', 'Number of publications',\n",
       "       'Patrimonio netto\\nmigl EUR 2020', 'Indice di liquidità\\n2020',\n",
       "       'Valore aggiunto\\nmigl EUR 2020',\n",
       "       'Numero di esponenti & manager attuali',\n",
       "       'Numero di \\nesponenti & manager precedenti', 'CAP\\nLocal Alphabet',\n",
       "       'Latitudine', 'Longitudine', 'Codice NACE Rev. 2, core code (4 cifre)',\n",
       "       'NACE Rev. 2, sezione principale'],\n",
       "      dtype='object')"
      ]
     },
     "execution_count": 71,
     "metadata": {},
     "output_type": "execute_result"
    }
   ],
   "source": [
    "df_2020.columns"
   ]
  },
  {
   "cell_type": "code",
   "execution_count": 68,
   "metadata": {},
   "outputs": [
    {
     "data": {
      "text/plain": [
       "(310066, 30)"
      ]
     },
     "execution_count": 68,
     "metadata": {},
     "output_type": "execute_result"
    }
   ],
   "source": [
    "df_2020.shape"
   ]
  },
  {
   "cell_type": "code",
   "execution_count": 70,
   "metadata": {},
   "outputs": [],
   "source": [
    "df_2020.to_csv('/home/fpinell/Documents/dati_2020/dati_2020.csv',index=False)"
   ]
  }
 ],
 "metadata": {
  "colab": {
   "collapsed_sections": [
    "RWc2Xudv35jg"
   ],
   "name": "fedavg_mnist_iid.ipynb",
   "provenance": []
  },
  "kernelspec": {
   "display_name": "Python 3",
   "language": "python",
   "name": "python3"
  },
  "language_info": {
   "codemirror_mode": {
    "name": "ipython",
    "version": 3
   },
   "file_extension": ".py",
   "mimetype": "text/x-python",
   "name": "python",
   "nbconvert_exporter": "python",
   "pygments_lexer": "ipython3",
   "version": "3.8.10"
  }
 },
 "nbformat": 4,
 "nbformat_minor": 1
}
